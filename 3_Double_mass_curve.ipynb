{
 "cells": [
  {
   "cell_type": "markdown",
   "id": "0ec7c227",
   "metadata": {},
   "source": [
    "## Introduction\n",
    "\n",
    "This notebook creates plots of Double-Mass-Curves of different stations\n",
    "\n",
    "[![Open In Colab](https://colab.research.google.com/assets/colab-badge.svg)](https://colab.research.google.com/github/ginamanou/avalanche-susceptibility/blob/main/3_Double_mass_curve.ipynb)"
   ]
  },
  {
   "cell_type": "markdown",
   "id": "e0bd6b85",
   "metadata": {},
   "source": [
    "## Methodology"
   ]
  },
  {
   "cell_type": "code",
   "execution_count": null,
   "id": "d75cd1cc",
   "metadata": {},
   "outputs": [],
   "source": [
    "# Import packages\n",
    "import numpy as np\n",
    "import pandas as pd\n",
    "import matplotlib.pyplot as plt\n",
    "import seaborn as sns\n",
    "sns.set_context('notebook')"
   ]
  },
  {
   "cell_type": "code",
   "execution_count": null,
   "id": "f667e8ff",
   "metadata": {},
   "outputs": [],
   "source": [
    "df = pd.read_excel('D:/Allaus/Data_analysis/check_snow_tot.xlsx', index_col='year')\n",
    "df.head()"
   ]
  },
  {
   "cell_type": "code",
   "execution_count": null,
   "id": "34cb68ab",
   "metadata": {},
   "outputs": [],
   "source": [
    "df.describe()"
   ]
  },
  {
   "cell_type": "code",
   "execution_count": null,
   "id": "162460c5",
   "metadata": {},
   "outputs": [],
   "source": [
    "stations = df.columns"
   ]
  },
  {
   "cell_type": "code",
   "execution_count": null,
   "id": "9eb80025",
   "metadata": {},
   "outputs": [],
   "source": [
    "# Average precipitation\n",
    "\n",
    "df['AVG'] = df.mean(axis=1)\n",
    "df.head()"
   ]
  },
  {
   "cell_type": "code",
   "execution_count": null,
   "id": "3f167ee4",
   "metadata": {
    "collapsed": true
   },
   "outputs": [],
   "source": [
    "fig, axes = plt.subplots(nrows=3, ncols=3, figsize=(12,8))\n",
    "fig.tight_layout(pad=2.0)\n",
    "\n",
    "for (station, ax) in zip(stations, axes.flatten()):\n",
    "    # line of slope 1 \n",
    "    ax.plot((0,800000), (0,800000), ':k', label='1:1 line')\n",
    "    # double mass curve\n",
    "    ax.plot(df.AVG.cumsum(), df[station].cumsum(), '.-', label='double-mass')\n",
    "    ax.axis('equal')\n",
    "    ax.set_title(station, fontsize=16)\n",
    "    #ax.set_ylabel('Cum. precipitation of individual station')\n",
    "    #ax.set_xlabel('Cum. precipitation of all stations')\n",
    "    ax.legend(fontsize=14);\n",
    "\n",
    "    #'station: ' + \n",
    "    \n",
    "# axes[2,1].axis('off')\n",
    "# axes[2,2].axis('off');\n",
    "\n",
    "#ax[1][2].title('Double mass curve for winter stations')\n",
    "fig.savefig('D:/Allaus/Manuscript/pictures_and_figures/snow tot - heterogeneity.png', dpi=300)\n",
    "plt.show();"
   ]
  },
  {
   "cell_type": "code",
   "execution_count": null,
   "id": "ae0bd1b6",
   "metadata": {
    "collapsed": true
   },
   "outputs": [],
   "source": [
    "plt.figure(figsize=(5,5))\n",
    "plt.axis('equal')\n",
    "plt.scatter(df.AVG, df['Soldeu'])\n",
    "plt.xlabel('averages across stations')\n",
    "plt.ylabel('Xx station')\n",
    "plt.show();"
   ]
  },
  {
   "cell_type": "code",
   "execution_count": null,
   "id": "abad5681",
   "metadata": {
    "collapsed": true
   },
   "outputs": [],
   "source": [
    "plt.figure(figsize=(5,5))\n",
    "plt.axis('equal')\n",
    "plt.plot((0, 8000), (0, 8000), ':k', label='1:1 line')\n",
    "plt.plot(df.AVG.cumsum(), df['Soldeu'].cumsum(), '.-', label='data')\n",
    "plt.xlabel('averages across stations')\n",
    "plt.ylabel('Xx station')\n",
    "plt.legend()\n",
    "plt.show();"
   ]
  }
 ],
 "metadata": {
  "kernelspec": {
   "display_name": "Python 3",
   "language": "python",
   "name": "python3"
  },
  "language_info": {
   "codemirror_mode": {
    "name": "ipython",
    "version": 3
   },
   "file_extension": ".py",
   "mimetype": "text/x-python",
   "name": "python",
   "nbconvert_exporter": "python",
   "pygments_lexer": "ipython3",
   "version": "3.8.5"
  }
 },
 "nbformat": 4,
 "nbformat_minor": 5
}
