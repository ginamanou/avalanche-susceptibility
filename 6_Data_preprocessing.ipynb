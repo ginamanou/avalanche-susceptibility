{
 "cells": [
  {
   "cell_type": "markdown",
   "id": "b7e80552",
   "metadata": {},
   "source": [
    "## Introduction\n",
    "\n",
    "This notebook demonstrates some data exploration techniques and some methods of data/feature engineering before using them to develop data-driven models.\n",
    "\n",
    "[![Open In Colab](https://colab.research.google.com/assets/colab-badge.svg)](https://colab.research.google.com/github/ginamanou/avalanche-susceptibility/blob/main/6_Data_preprocessing.ipynb)"
   ]
  },
  {
   "cell_type": "code",
   "execution_count": null,
   "id": "83e570cf",
   "metadata": {},
   "outputs": [],
   "source": [
    "# Import packages\n",
    "import numpy as np\n",
    "import pandas as pd\n",
    "import seaborn as sns\n",
    "import plotly.express as px\n",
    "import matplotlib.pyplot as plt\n",
    "from matplotlib.ticker import StrMethodFormatter\n",
    "\n",
    "import plotly.graph_objects as go\n",
    "from shapely.geometry import Point"
   ]
  },
  {
   "cell_type": "markdown",
   "id": "5b0c9117",
   "metadata": {},
   "source": [
    "## Feature engineering"
   ]
  },
  {
   "cell_type": "code",
   "execution_count": null,
   "id": "5c9e457b",
   "metadata": {},
   "outputs": [],
   "source": [
    "# Preprocessing / Feature engineering\n",
    "from sklearn.preprocessing import OneHotEncoder\n",
    "\n",
    "from sklearn.preprocessing import StandardScaler\n",
    "from sklearn.preprocessing import scale"
   ]
  },
  {
   "cell_type": "code",
   "execution_count": null,
   "id": "6cae50c0",
   "metadata": {
    "collapsed": true
   },
   "outputs": [],
   "source": [
    "path = \"D:/Allaus/Code/train/2_both_based_on_ptz/DataBase_IDW.csv\"\n",
    "df = pd.read_csv(path)\n",
    "df"
   ]
  },
  {
   "cell_type": "code",
   "execution_count": null,
   "id": "ec84a765",
   "metadata": {
    "collapsed": true
   },
   "outputs": [],
   "source": [
    "df.columns"
   ]
  },
  {
   "cell_type": "code",
   "execution_count": null,
   "id": "6b18974c",
   "metadata": {
    "collapsed": true
   },
   "outputs": [],
   "source": [
    "df = df.rename(columns={'ELEVmean': 'Elevation', 'SLOPEmax': 'Slope',\n",
    "                        'ASPECTmajo': 'Aspect', 'CURVPLmean': 'CurvaturePlan', 'CURVPRmean': 'CurvatureProf',\n",
    "                        'ORIENTmajo': 'OrientationToNorth', 'FORESTmajo': 'Forest', 'ROCKSmajor': 'Rocks', \n",
    "                        'SCREESmajo': 'Screes', 'SNCOVERmea': 'SnowCover', \n",
    "                        'SHALSmean': 'CriticalRecharge', 'RAINmean': 'Rain', 'RAIN2Dmean': 'Rain2D', \n",
    "                        'RAIN3Dmean': 'Rain3D', 'TMINmean': 'Tmin', 'TMAXmean': 'Tmax', 'TMEANmean': 'Tmean', \n",
    "                        'TRANGEmean': 'Trange', 'RAINACCUMm': 'MonthlyRain', 'SNACCUMmea': 'MonthlySnow', \n",
    "                        'SNTOTmean': 'SnowTotal', 'SN24Hmean': 'Snow24h', 'SN48Hmean': 'Snow48h', 'SN72Hmean': 'Snow72h', \n",
    "                        'WDIRmajori': 'WindDirection', 'WSPMEANmea': 'WindSpeedMean', 'WSPMAXmean': 'WindSpeedMax', \n",
    "                        'RAINXTRMme': 'ExtremeRain'})\n",
    "df"
   ]
  },
  {
   "cell_type": "code",
   "execution_count": null,
   "id": "9bb4db14",
   "metadata": {
    "collapsed": true
   },
   "outputs": [],
   "source": [
    "df.columns"
   ]
  },
  {
   "cell_type": "code",
   "execution_count": null,
   "id": "3205fc49",
   "metadata": {
    "collapsed": true
   },
   "outputs": [],
   "source": [
    "df.dtypes"
   ]
  },
  {
   "cell_type": "code",
   "execution_count": null,
   "id": "5ebfd3a4",
   "metadata": {},
   "outputs": [],
   "source": [
    "df.Aspect.unique()"
   ]
  },
  {
   "cell_type": "code",
   "execution_count": null,
   "id": "05fd90dc",
   "metadata": {
    "collapsed": true
   },
   "outputs": [],
   "source": [
    "df.WindDirection.unique()"
   ]
  },
  {
   "cell_type": "code",
   "execution_count": null,
   "id": "4ebc8be6",
   "metadata": {
    "collapsed": true
   },
   "outputs": [],
   "source": [
    "for i in range(len(df)):\n",
    "    if ((df.loc[i, 'WindDirection'] >= 0) and (df.loc[i, 'WindDirection'] <= 22.5)) or ((df.loc[i, 'WindDirection'] > 337.5) and (df.loc[i, 'WindDirection'] <= 360)):\n",
    "        df.loc[i, 'dirmode'] = 'North'\n",
    "    elif (df.loc[i, 'WindDirection'] > 22.5) and (df.loc[i, 'WindDirection'] <= 67.5):\n",
    "        df.loc[i, 'dirmode'] = 'North East'\n",
    "    elif (df.loc[i, 'WindDirection'] > 67.5) and (df.loc[i, 'WindDirection'] <= 112.5):\n",
    "        df.loc[i, 'dirmode'] = 'East'\n",
    "    elif (df.loc[i, 'WindDirection'] > 112.5) and (df.loc[i, 'WindDirection'] <= 157.5):\n",
    "        df.loc[i, 'dirmode'] = 'South-East'\n",
    "    elif (df.loc[i, 'WindDirection'] > 157.5) and (df.loc[i, 'WindDirection'] <= 202.5):\n",
    "        df.loc[i, 'dirmode'] = 'South'\n",
    "    elif (df.loc[i, 'WindDirection'] > 202.5) and (df.loc[i, 'WindDirection'] <= 247.5):\n",
    "        df.loc[i, 'dirmode'] = 'South-West'\n",
    "    elif (df.loc[i, 'WindDirection'] > 247.5) and (df.loc[i, 'WindDirection'] <= 292.5):\n",
    "        df.loc[i, 'dirmode'] = 'West'\n",
    "    else:\n",
    "        df.loc[i, 'dirmode'] = 'North-West'\n",
    "                \n",
    "for i in range(len(df)):\n",
    "    if (df.loc[i, 'Aspect'] == 0):\n",
    "        df.loc[i, 'asp'] = 'Flat'\n",
    "    elif (df.loc[i, 'Aspect'] == 1):\n",
    "        df.loc[i, 'asp'] = 'North'\n",
    "    elif (df.loc[i, 'Aspect'] == 2):\n",
    "        df.loc[i, 'asp'] = 'North-East'\n",
    "    elif (df.loc[i, 'Aspect'] == 3):\n",
    "        df.loc[i, 'asp'] = 'East'\n",
    "    elif (df.loc[i, 'Aspect'] == 4):\n",
    "        df.loc[i, 'asp'] = 'South-East'\n",
    "    elif (df.loc[i, 'Aspect'] == 5):\n",
    "        df.loc[i, 'asp'] = 'South'\n",
    "    elif (df.loc[i, 'Aspect'] == 6):\n",
    "        df.loc[i, 'asp'] = 'South-West'\n",
    "    elif (df.loc[i, 'Aspect'] == 7):\n",
    "        df.loc[i, 'asp'] = 'West'\n",
    "    else:\n",
    "        df.loc[i, 'asp'] = 'North-West'\n",
    "          \n",
    "df       "
   ]
  },
  {
   "cell_type": "code",
   "execution_count": null,
   "id": "7f95b51e",
   "metadata": {},
   "outputs": [],
   "source": [
    "# for i in range(len(df)):\n",
    "#     if ((df.loc[i, 'WindDirection'] >= 0) and (df.loc[i, 'WindDirection'] <= 22.5)) or ((df.loc[i, 'WindDirection'] > 337.5) and (df.loc[i, 'WindDirection'] <= 360)):\n",
    "#         df.loc[i, 'dirmode'] = 'North'\n",
    "#     elif (df.loc[i, 'WindDirection'] > 22.5) and (df.loc[i, 'WindDirection'] <= 157.5):\n",
    "#         df.loc[i, 'dirmode'] = 'NE-E-SE'\n",
    "#     elif (df.loc[i, 'WindDirection'] > 157.5) and (df.loc[i, 'WindDirection'] <= 202.5):\n",
    "#         df.loc[i, 'dirmode'] = 'South'\n",
    "#     else:\n",
    "#         df.loc[i, 'dirmode'] = 'SW-W-NW'\n",
    "                \n",
    "# for i in range(len(df)):\n",
    "#     if (df.loc[i, 'Aspect'] == 0):\n",
    "#         df.loc[i, 'asp'] = 'Flat'\n",
    "#     elif (df.loc[i, 'Aspect'] == 1)  or (df.loc[i, 'Aspect'] == 2) or (df.loc[i, 'Aspect'] == 8):\n",
    "#         df.loc[i, 'asp'] = 'NW-N-NE'\n",
    "#     elif (df.loc[i, 'Aspect'] == 3):\n",
    "#         df.loc[i, 'asp'] = 'East'\n",
    "#     elif (df.loc[i, 'Aspect'] == 4) or (df.loc[i, 'Aspect'] == 5) or (df.loc[i, 'Aspect'] == 6):\n",
    "#         df.loc[i, 'asp'] = 'SE-S-SW'\n",
    "#     else:\n",
    "#         df.loc[i, 'asp'] = 'West'\n",
    "\n",
    "# df       "
   ]
  },
  {
   "cell_type": "code",
   "execution_count": null,
   "id": "8594bcb5",
   "metadata": {},
   "outputs": [],
   "source": [
    "plt.figure(figsize=(12, 8))\n",
    "df.value_counts(\"dirmode\").plot(kind=\"bar\")\n",
    "plt.xlabel(\"Wind direction\")\n",
    "plt.ylabel(\"Counts\")\n",
    "plt.savefig(\"D:/Allaus/Manuscript/pictures_and_figures/wind direction - labels countplot.png\")\n",
    "plt.show();"
   ]
  },
  {
   "cell_type": "code",
   "execution_count": null,
   "id": "72e476cd",
   "metadata": {
    "collapsed": true
   },
   "outputs": [],
   "source": [
    "df.value_counts(\"asp\").plot(kind=\"bar\")"
   ]
  },
  {
   "cell_type": "code",
   "execution_count": null,
   "id": "55be689e",
   "metadata": {},
   "outputs": [],
   "source": [
    "df['dirmode'].unique()"
   ]
  },
  {
   "cell_type": "code",
   "execution_count": null,
   "id": "0747923d",
   "metadata": {},
   "outputs": [],
   "source": [
    "df['asp'].unique()"
   ]
  },
  {
   "cell_type": "code",
   "execution_count": null,
   "id": "5ec7c21b",
   "metadata": {
    "collapsed": true
   },
   "outputs": [],
   "source": [
    "data_crosstab1 = pd.crosstab(df['dirmode'], df['asp'], margins = False)  # not very useful\n",
    "data_crosstab1"
   ]
  },
  {
   "cell_type": "code",
   "execution_count": null,
   "id": "73ca62d7",
   "metadata": {
    "collapsed": true
   },
   "outputs": [],
   "source": [
    "for i in range(len(df)):\n",
    "    if (df.loc[i, 'dirmode'] == 'North') and (df.loc[i, 'asp'] == 'South' or df.loc[i, 'asp'] == 'South-West' or df.loc[i, 'asp'] == 'South-East'):\n",
    "        df.loc[i, 'transp'] = 1\n",
    "    elif (df.loc[i, 'dirmode'] == 'North-East') and (df.loc[i, 'asp'] == 'South' or df.loc[i, 'asp'] == 'South-West' or df.loc[i, 'asp'] == 'West'):\n",
    "        df.loc[i, 'transp'] = 1\n",
    "    elif (df.loc[i, 'dirmode'] == 'East') and (df.loc[i, 'asp'] == 'North-West' or df.loc[i, 'asp'] == 'South-West' or df.loc[i, 'asp'] == 'West'):\n",
    "        df.loc[i, 'transp'] = 1\n",
    "    elif (df.loc[i, 'dirmode'] == 'South-East') and (df.loc[i, 'asp'] == 'North-West' or df.loc[i, 'asp'] == 'North' or df.loc[i, 'asp'] == 'West'):\n",
    "        df.loc[i, 'transp'] = 1\n",
    "    elif (df.loc[i, 'dirmode'] == 'South') and (df.loc[i, 'asp'] == 'North-West' or df.loc[i, 'asp'] == 'North' or df.loc[i, 'asp'] == 'North-East'):\n",
    "        df.loc[i, 'transp'] = 1\n",
    "    elif (df.loc[i, 'dirmode'] == 'South-West') and (df.loc[i, 'asp'] == 'East' or df.loc[i, 'asp'] == 'North' or df.loc[i, 'asp'] == 'North-East'):\n",
    "        df.loc[i, 'transp'] = 1\n",
    "    elif (df.loc[i, 'dirmode'] == 'West') and (df.loc[i, 'asp'] == 'East' or df.loc[i, 'asp'] == 'South-East' or df.loc[i, 'asp'] == 'North-East'):\n",
    "        df.loc[i, 'transp'] = 1\n",
    "    elif (df.loc[i, 'dirmode'] == 'North-West') and (df.loc[i, 'asp'] == 'East' or df.loc[i, 'asp'] == 'South-East' or df.loc[i, 'asp'] == 'South'):\n",
    "        df.loc[i, 'transp'] = 1\n",
    "    else:\n",
    "        df.loc[i, 'transp'] = 0\n",
    "\n",
    "df      "
   ]
  },
  {
   "cell_type": "code",
   "execution_count": null,
   "id": "e4a815c9",
   "metadata": {},
   "outputs": [],
   "source": [
    "df.transp.sum()"
   ]
  },
  {
   "cell_type": "code",
   "execution_count": null,
   "id": "331a167e",
   "metadata": {
    "collapsed": true
   },
   "outputs": [],
   "source": [
    "df.isna().sum()"
   ]
  },
  {
   "cell_type": "code",
   "execution_count": null,
   "id": "b58a8226",
   "metadata": {},
   "outputs": [],
   "source": [
    "# df['CN'].unique()"
   ]
  },
  {
   "cell_type": "code",
   "execution_count": null,
   "id": "f2840c43",
   "metadata": {},
   "outputs": [],
   "source": [
    "# dict_cn_from = {4:'West', 5:'North'}\n",
    "# df['Snowdrift'] = df['CN'].map(dict_cn_from)\n",
    "# df"
   ]
  },
  {
   "cell_type": "code",
   "execution_count": null,
   "id": "831c2cf1",
   "metadata": {
    "collapsed": true
   },
   "outputs": [],
   "source": [
    "df.dtypes"
   ]
  },
  {
   "cell_type": "code",
   "execution_count": null,
   "id": "5d2aa78d",
   "metadata": {
    "collapsed": true
   },
   "outputs": [],
   "source": [
    "df = df.drop(columns=['WindDirection', 'Aspect'])\n",
    "df"
   ]
  },
  {
   "cell_type": "code",
   "execution_count": null,
   "id": "e8b3ff26",
   "metadata": {
    "collapsed": true
   },
   "outputs": [],
   "source": [
    "df = df.rename(columns={'dirmode': 'WindDirection', 'asp': 'Aspect', 'transp': 'PotentialSnowTransport'})\n",
    "df"
   ]
  },
  {
   "cell_type": "code",
   "execution_count": null,
   "id": "249bf0e6",
   "metadata": {
    "collapsed": true
   },
   "outputs": [],
   "source": [
    "df.columns"
   ]
  },
  {
   "cell_type": "code",
   "execution_count": null,
   "id": "c5a321c8",
   "metadata": {
    "collapsed": true
   },
   "outputs": [],
   "source": [
    "df.dtypes"
   ]
  },
  {
   "cell_type": "code",
   "execution_count": null,
   "id": "e87af210",
   "metadata": {
    "collapsed": true
   },
   "outputs": [],
   "source": [
    "data_crosstab2 = pd.crosstab(df['WindDirection'], df['PotentialSnowTransport'], margins = False)   # not so useful either\n",
    "data_crosstab2"
   ]
  },
  {
   "cell_type": "code",
   "execution_count": null,
   "id": "1112a1b4",
   "metadata": {
    "collapsed": true
   },
   "outputs": [],
   "source": [
    "data_crosstab3 = pd.crosstab(df['Aspect'], df['PotentialSnowTransport'], margins = False)   # this is kind of useful\n",
    "data_crosstab3                                                                     # to see which slopes are on the lee side"
   ]
  },
  {
   "cell_type": "code",
   "execution_count": null,
   "id": "425d1f19",
   "metadata": {},
   "outputs": [],
   "source": [
    "# Check some correlations\n",
    "\n",
    "df['Elevation'].corr(df.SnowCover)   # That's a good result, the higher the more snow cover"
   ]
  },
  {
   "cell_type": "code",
   "execution_count": null,
   "id": "3a03bef7",
   "metadata": {},
   "outputs": [],
   "source": [
    "df['Tmax'].corr(df.Trange)"
   ]
  },
  {
   "cell_type": "code",
   "execution_count": null,
   "id": "12bd2164",
   "metadata": {
    "collapsed": true
   },
   "outputs": [],
   "source": [
    "df.columns"
   ]
  },
  {
   "cell_type": "code",
   "execution_count": null,
   "id": "de7304e7",
   "metadata": {},
   "outputs": [],
   "source": [
    "len(df.columns)"
   ]
  },
  {
   "cell_type": "code",
   "execution_count": null,
   "id": "582e8c47",
   "metadata": {},
   "outputs": [],
   "source": [
    "# Organize the columns into a nicer order\n",
    "\n",
    "len(['Elevation', 'Slope', 'CurvaturePlan', 'CurvatureProf',\n",
    "       'OrientationToNorth', 'Forest', 'Rocks', 'Screes', 'SnowCover',\n",
    "       'CriticalRecharge', 'Rain', 'Rain2D', 'Rain3D', 'ExtremeRain',\n",
    "       'MonthlyRain', 'Tmin', 'Tmax', 'Tmean', 'Trange', 'SnowTotal',\n",
    "       'Snow24h', 'Snow48h', 'Snow72h', 'MonthlySnow', 'WindSpeedMean',\n",
    "       'WindSpeedMax', 'Avalanche', 'WindDirection', 'Aspect',\n",
    "       'PotentialSnowTransport'])"
   ]
  },
  {
   "cell_type": "code",
   "execution_count": null,
   "id": "8d2097e9",
   "metadata": {
    "collapsed": true
   },
   "outputs": [],
   "source": [
    "new_cols = ['Elevation', 'Slope', 'CurvaturePlan', 'CurvatureProf',\n",
    "       'OrientationToNorth', 'Forest', 'Rocks', 'Screes', 'SnowCover',\n",
    "       'CriticalRecharge', 'Rain', 'Rain2D', 'Rain3D', 'ExtremeRain',\n",
    "       'MonthlyRain', 'Tmin', 'Tmax', 'Tmean', 'Trange', 'SnowTotal',\n",
    "       'Snow24h', 'Snow48h', 'Snow72h', 'MonthlySnow', 'WindSpeedMean',\n",
    "       'WindSpeedMax', 'WindDirection', 'Aspect',\n",
    "       'PotentialSnowTransport', 'Avalanche']\n",
    "df = df.reindex(columns=new_cols)\n",
    "df"
   ]
  },
  {
   "cell_type": "code",
   "execution_count": null,
   "id": "b917b963",
   "metadata": {
    "collapsed": true
   },
   "outputs": [],
   "source": [
    "df.dtypes"
   ]
  },
  {
   "cell_type": "code",
   "execution_count": null,
   "id": "7dd5dead",
   "metadata": {},
   "outputs": [],
   "source": [
    "# # Round all the numerical columns, so that they look better when we plot the tree\n",
    "\n",
    "# df1 = pd.DataFrame()\n",
    "# for col in df.select_dtypes(include=['float64']).columns:\n",
    "#      df1[col] = df[col].apply(lambda x: round(x, 1))\n",
    "# df1"
   ]
  },
  {
   "cell_type": "code",
   "execution_count": null,
   "id": "c04adf9b",
   "metadata": {},
   "outputs": [],
   "source": [
    "df.shape"
   ]
  },
  {
   "cell_type": "markdown",
   "id": "64c8ce00",
   "metadata": {},
   "source": [
    "## Explorative plots \n",
    "These plots have as goal to get a more visual overview of the dataset, check the overlap of the target classes (1/0 as in susceptible to avalanche initiation/not susceptible to avalanche initiation), have a quick idea of feature significance etc."
   ]
  },
  {
   "cell_type": "code",
   "execution_count": null,
   "id": "c570e445",
   "metadata": {},
   "outputs": [],
   "source": [
    "for col in df.iloc[:,:-1]:\n",
    "    plt.hist(df[df['Avalanche'] == 1][col], color='red', label='Susceptible', alpha=0.7, density=True) # density normalizes these distributions\n",
    "    plt.hist(df[df['Avalanche'] == 0][col], color='blue', label='Not susceptible', alpha=0.7, density=True)\n",
    "    plt.title(col)\n",
    "    plt.ylabel('Probability')\n",
    "    plt.xlabel(col)\n",
    "    plt.legend()\n",
    "    plt.show();"
   ]
  },
  {
   "cell_type": "code",
   "execution_count": null,
   "id": "70e95a24",
   "metadata": {},
   "outputs": [],
   "source": [
    "# # Alternative plotting\n",
    "\n",
    "# sns.pairplot(df, hue='Allaus', diag_kind='hist')\n",
    "# #plt.savefig('D:/Allaus/Data_analysis/ML/pairplot_ptz.png', dpi=300)\n",
    "# plt.show();"
   ]
  },
  {
   "cell_type": "markdown",
   "id": "49928ede",
   "metadata": {},
   "source": [
    "## One-hot Encoding"
   ]
  },
  {
   "cell_type": "code",
   "execution_count": null,
   "id": "865e05ac",
   "metadata": {},
   "outputs": [],
   "source": [
    "ohe = OneHotEncoder()"
   ]
  },
  {
   "cell_type": "code",
   "execution_count": null,
   "id": "b762c2cf",
   "metadata": {
    "collapsed": true
   },
   "outputs": [],
   "source": [
    "df.dtypes"
   ]
  },
  {
   "cell_type": "code",
   "execution_count": null,
   "id": "9d8cf06c",
   "metadata": {
    "collapsed": true
   },
   "outputs": [],
   "source": [
    "ohe.fit_transform(df[['Aspect', 'WindDirection']]).toarray()"
   ]
  },
  {
   "cell_type": "code",
   "execution_count": null,
   "id": "4e7c00df",
   "metadata": {},
   "outputs": [],
   "source": [
    "feature_array = ohe.fit_transform(df[['Aspect', 'WindDirection']]).toarray()"
   ]
  },
  {
   "cell_type": "code",
   "execution_count": null,
   "id": "fcc41b2a",
   "metadata": {
    "collapsed": true
   },
   "outputs": [],
   "source": [
    "ohe.categories_"
   ]
  },
  {
   "cell_type": "code",
   "execution_count": null,
   "id": "0e55b824",
   "metadata": {},
   "outputs": [],
   "source": [
    "# feature_labels = ohe.categories_   \n",
    "# feature_labels           # It doesn't work though, cause I have same classes for different features"
   ]
  },
  {
   "cell_type": "code",
   "execution_count": null,
   "id": "c001cd43",
   "metadata": {},
   "outputs": [],
   "source": [
    "# So, I found this workaround\n",
    "\n",
    "x = [['Aspect_East', 'Flat', 'Aspect_North', 'Aspect_North-East', 'Aspect_North-West', 'Aspect_South', \n",
    "      'Aspect_South-East', 'Aspect_South-West', 'Aspect_West'], \n",
    "     ['Wind_East', 'Wind_North', 'Wind_North-East', 'Wind_North-West', 'Wind_South', 'Wind_South-East', \n",
    "      'Wind_South-West', 'Wind_West']]\n",
    "merged_list = sum([sublist for sublist in x], [])\n",
    "print(merged_list)"
   ]
  },
  {
   "cell_type": "code",
   "execution_count": null,
   "id": "7f5b9e44",
   "metadata": {},
   "outputs": [],
   "source": [
    "feature_labels = merged_list\n",
    "print(len(feature_labels))"
   ]
  },
  {
   "cell_type": "code",
   "execution_count": null,
   "id": "2d6e2c0b",
   "metadata": {
    "collapsed": true
   },
   "outputs": [],
   "source": [
    "features_encoded = pd.DataFrame(feature_array, columns = feature_labels)\n",
    "features_encoded.head()"
   ]
  },
  {
   "cell_type": "code",
   "execution_count": null,
   "id": "06533946",
   "metadata": {
    "collapsed": true
   },
   "outputs": [],
   "source": [
    "df_encoded = pd.concat([df, features_encoded], axis=1)\n",
    "df_encoded.head()"
   ]
  },
  {
   "cell_type": "code",
   "execution_count": null,
   "id": "0f048eb5",
   "metadata": {
    "collapsed": true
   },
   "outputs": [],
   "source": [
    "df_encoded = df_encoded.drop(columns=['Aspect', 'WindDirection', 'Flat'])\n",
    "df_encoded"
   ]
  },
  {
   "cell_type": "code",
   "execution_count": null,
   "id": "150baaf2",
   "metadata": {},
   "outputs": [],
   "source": [
    "for col in df_encoded.loc[:, ~df_encoded.columns.isin(['Avalanche'])]:\n",
    "    plt.hist(df_encoded[df_encoded['Avalanche'] == 1][col], color='red', label='Susceptible', alpha=0.7, density=True) # density normalizes these distributions\n",
    "    plt.hist(df_encoded[df_encoded['Avalanche'] == 0][col], color='blue', label='Not susceptible', alpha=0.7, density=True)\n",
    "    plt.title(col)\n",
    "    plt.ylabel('Probability')\n",
    "    plt.xlabel(col)\n",
    "    plt.legend()\n",
    "    plt.show();       "
   ]
  },
  {
   "cell_type": "code",
   "execution_count": null,
   "id": "9789f6bc",
   "metadata": {
    "collapsed": true
   },
   "outputs": [],
   "source": [
    "df_encoded.columns"
   ]
  },
  {
   "cell_type": "code",
   "execution_count": null,
   "id": "e6404de9",
   "metadata": {
    "collapsed": true
   },
   "outputs": [],
   "source": [
    "new_cols_enc = ['Elevation', 'Slope', 'CurvaturePlan', 'CurvatureProf',\n",
    "       'OrientationToNorth', 'Forest', 'Rocks', 'Screes', 'SnowCover',\n",
    "       'CriticalRecharge', 'Rain', 'Rain2D', 'Rain3D', 'ExtremeRain',\n",
    "       'MonthlyRain', 'Tmin', 'Tmax', 'Tmean', 'Trange', 'SnowTotal',\n",
    "       'Snow24h', 'Snow48h', 'Snow72h', 'MonthlySnow', 'WindSpeedMean',\n",
    "       'WindSpeedMax', 'PotentialSnowTransport', 'Aspect_East',\n",
    "       'Aspect_North', 'Aspect_North-East', 'Aspect_North-West',\n",
    "       'Aspect_South', 'Aspect_South-East', 'Aspect_South-West', 'Aspect_West',\n",
    "       'Wind_East', 'Wind_North', 'Wind_North-East', 'Wind_North-West',\n",
    "       'Wind_South', 'Wind_South-East', 'Wind_South-West', 'Wind_West', 'Avalanche']\n",
    "df_encoded = df_encoded.reindex(columns=new_cols_enc)\n",
    "df_encoded"
   ]
  },
  {
   "cell_type": "code",
   "execution_count": null,
   "id": "8c96564d",
   "metadata": {},
   "outputs": [],
   "source": [
    "df_encoded.to_csv(\"D:/Allaus/Code/train/2_both_based_on_ptz/DataBase_IDW_preprocessed.csv\", index=False)"
   ]
  }
 ],
 "metadata": {
  "kernelspec": {
   "display_name": "Python 3",
   "language": "python",
   "name": "python3"
  },
  "language_info": {
   "codemirror_mode": {
    "name": "ipython",
    "version": 3
   },
   "file_extension": ".py",
   "mimetype": "text/x-python",
   "name": "python",
   "nbconvert_exporter": "python",
   "pygments_lexer": "ipython3",
   "version": "3.8.5"
  }
 },
 "nbformat": 4,
 "nbformat_minor": 5
}
