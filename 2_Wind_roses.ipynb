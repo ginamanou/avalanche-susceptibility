{
 "cells": [
  {
   "cell_type": "markdown",
   "id": "950f9ffd",
   "metadata": {},
   "source": [
    "## Introduction \n",
    "\n",
    "This notebook demonstrates a methodology for createing wind rose graphs to showcase wind data observed by a meteorological station\n",
    "\n",
    "[![Open In Colab](https://colab.research.google.com/assets/colab-badge.svg)](https://colab.research.google.com/github/ginamanou/avalanche-susceptibility/blob/main/2_Wind_roses.ipynb)"
   ]
  },
  {
   "cell_type": "markdown",
   "id": "b26b9895",
   "metadata": {},
   "source": [
    "## Methodology"
   ]
  },
  {
   "cell_type": "code",
   "execution_count": null,
   "id": "7605b59d",
   "metadata": {},
   "outputs": [],
   "source": [
    "# Import packages\n",
    "%matplotlib inline\n",
    "import matplotlib as mpl\n",
    "import pandas as pd\n",
    "import numpy as np\n",
    "from matplotlib import pyplot as plt\n",
    "import matplotlib.cm as cm\n",
    "from math import pi"
   ]
  },
  {
   "cell_type": "code",
   "execution_count": null,
   "id": "acbcf36a",
   "metadata": {},
   "outputs": [],
   "source": [
    "#!pip install windrose openpyxl\n",
    "from windrose import WindroseAxes"
   ]
  },
  {
   "cell_type": "code",
   "execution_count": null,
   "id": "7affb1c9",
   "metadata": {
    "collapsed": true
   },
   "outputs": [],
   "source": [
    "df = pd.read_csv(\"D:/Allaus/Data_analysis/Altres_estacions_from_meteo/7_temps_outliers/Borda_Vidal.csv\")\n",
    "df['date'] = pd.to_datetime(df['date'], format='%m/%d/%Y')\n",
    "df.dtypes"
   ]
  },
  {
   "cell_type": "code",
   "execution_count": null,
   "id": "561ff78a",
   "metadata": {},
   "outputs": [],
   "source": [
    "start_date = df.date[0]\n",
    "end_date = df.date[len(df)-1]\n",
    "print(start_date, end_date)"
   ]
  },
  {
   "cell_type": "code",
   "execution_count": null,
   "id": "fcb6a27c",
   "metadata": {
    "collapsed": true
   },
   "outputs": [],
   "source": [
    "ax = WindroseAxes.from_ax()\n",
    "ax.bar(df.dir_med, df.vel_med, normed=True, opening=0.8, edgecolor='white', bins=np.arange(0, 25, 5))\n",
    "ax.set_legend(title='Wind speed (m/s)')\n",
    "\n",
    "#-- add some text\n",
    "plt.gcf().text(0.02, 0.95,'Wind direction and speed', fontsize=12)\n",
    "plt.gcf().text(0.02, 0.9, 'Borda Vidal station', fontsize=10)\n",
    "plt.gcf().text(0.02, 0.87,'2008-07-01 to 2022-12-31', fontsize=8)\n",
    "\n",
    "#-- add copyright\n",
    "plt.figtext(0.85, 0.01, \"© 2023 Serveis Meteo de Andorra\", ha=\"right\", fontsize=6)\n",
    "\n",
    "#-- save plot to PNG file\n",
    "plt.savefig('D:/Allaus/Manuscript/pictures_and_figures/Borda Vidal - windrose.png', bbox_inches='tight', dpi=200)\n",
    "plt.show()"
   ]
  },
  {
   "cell_type": "code",
   "execution_count": null,
   "id": "e84b6f7e",
   "metadata": {
    "collapsed": true
   },
   "outputs": [],
   "source": [
    "df['velocidad_x'] = df['wind_vel'] * np.sin(df['wind_dir'] * pi / 180.0)\n",
    "df['velocidad_y'] = df['wind_vel'] * np.cos(df['wind_dir'] * pi / 180.0)\n",
    "fig, ax = plt.subplots(figsize=(8, 8), dpi=80)\n",
    "x0, x1 = ax.get_xlim()\n",
    "y0, y1 = ax.get_ylim()\n",
    "ax.set_aspect('equal')\n",
    "df.plot(kind='scatter', x='velocidad_x', y='velocidad_y', alpha=0.35, ax=ax)"
   ]
  },
  {
   "cell_type": "code",
   "execution_count": null,
   "id": "0e2395bf",
   "metadata": {
    "collapsed": true
   },
   "outputs": [],
   "source": [
    "ax = WindroseAxes.from_ax()\n",
    "ax.bar(df.wind_dir, df.wind_vel, normed=True, opening=0.8, edgecolor='white', bins=np.arange(0, 25, 5))\n",
    "ax.set_legend()"
   ]
  },
  {
   "cell_type": "code",
   "execution_count": null,
   "id": "3159746a",
   "metadata": {
    "collapsed": true
   },
   "outputs": [],
   "source": [
    "ax = WindroseAxes.from_ax()\n",
    "ax.box(df.wind_dir, df.wind_vel, bins=np.arange(0, 25, 5))\n",
    "ax.set_legend()"
   ]
  },
  {
   "cell_type": "code",
   "execution_count": null,
   "id": "649f1410",
   "metadata": {
    "collapsed": true
   },
   "outputs": [],
   "source": [
    "ax = WindroseAxes.from_ax()\n",
    "ax.contourf(df.wind_dir, df.wind_vel, bins=np.arange(0, 25, 5), cmap=cm.hot)\n",
    "ax.set_legend()"
   ]
  },
  {
   "cell_type": "code",
   "execution_count": null,
   "id": "c3d18ff5",
   "metadata": {
    "collapsed": true
   },
   "outputs": [],
   "source": [
    "ax = WindroseAxes.from_ax()\n",
    "ax.contour(df.wind_dir, df.wind_vel, bins=np.arange(0, 25, 5), cmap=cm.hot, lw=3)\n",
    "ax.set_legend()"
   ]
  }
 ],
 "metadata": {
  "kernelspec": {
   "display_name": "Python 3",
   "language": "python",
   "name": "python3"
  },
  "language_info": {
   "codemirror_mode": {
    "name": "ipython",
    "version": 3
   },
   "file_extension": ".py",
   "mimetype": "text/x-python",
   "name": "python",
   "nbconvert_exporter": "python",
   "pygments_lexer": "ipython3",
   "version": "3.8.5"
  }
 },
 "nbformat": 4,
 "nbformat_minor": 5
}
