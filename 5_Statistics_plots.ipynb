{
 "cells": [
  {
   "cell_type": "markdown",
   "id": "39c89df2",
   "metadata": {},
   "source": [
    "## Introduction\n",
    "\n",
    "This notebook provides a few plots demonstrating outlier detection and correlation using different methods (e.g. Z-score method) and graphs (e.g. hisotgram, box plot).\n",
    "\n",
    "[![Open In Colab](https://colab.research.google.com/assets/colab-badge.svg)](https://colab.research.google.com/github/ginamanou/avalanche-susceptibility/blob/main/5_Some_plots.ipynb)"
   ]
  },
  {
   "cell_type": "markdown",
   "id": "df6f3568",
   "metadata": {},
   "source": [
    "### Import packages "
   ]
  },
  {
   "cell_type": "code",
   "execution_count": null,
   "id": "62a2181c",
   "metadata": {},
   "outputs": [],
   "source": [
    "from dateutil.parser import parse\n",
    "from datetime import datetime\n",
    "\n",
    "import matplotlib as mpl\n",
    "import matplotlib.pyplot as plt\n",
    "from matplotlib import cm\n",
    "import seaborn as sns\n",
    "\n",
    "import xarray as xr\n",
    "import numpy as np\n",
    "import pandas as pd\n",
    "\n",
    "import os\n",
    "import glob\n",
    "import pathlib\n",
    "from pathlib import Path\n",
    "\n",
    "#plt.rcParams.update({'figure.figsize': (15, 7), 'figure.dpi': 120})"
   ]
  },
  {
   "cell_type": "markdown",
   "id": "6c9cfca0",
   "metadata": {},
   "source": [
    "### Negative rainfall"
   ]
  },
  {
   "cell_type": "code",
   "execution_count": null,
   "id": "76648b10",
   "metadata": {},
   "outputs": [],
   "source": [
    "df = pd.read_csv(\"D:/Allaus/Data_analysis/Altres_estacions_from_meteo/2_no_nulls_2022/Borda_Vidal.csv\")\n",
    "df['date'] = pd.to_datetime(df['date'], format='%m/%d/%Y')\n",
    "#df"
   ]
  },
  {
   "cell_type": "code",
   "execution_count": null,
   "id": "67fee126",
   "metadata": {},
   "outputs": [],
   "source": [
    "df.rain.min()"
   ]
  },
  {
   "cell_type": "code",
   "execution_count": null,
   "id": "20dcbd5f",
   "metadata": {},
   "outputs": [],
   "source": [
    "df.date[0]"
   ]
  },
  {
   "cell_type": "code",
   "execution_count": null,
   "id": "b939ae04",
   "metadata": {
    "collapsed": true
   },
   "outputs": [],
   "source": [
    "plt.figure(figsize=(12, 8))\n",
    "sns.set_context(\"paper\", rc={\"font.size\":14,\"axes.titlesize\":14,\"axes.labelsize\":14, \n",
    "                             \"xtick.labelsize\":14, \"ytick.labelsize\":14, 'legend.fontsize': 14})   \n",
    "fig = sns.scatterplot(x=df.date, y=df.rain, color='b')\n",
    "fig.set(xlabel = 'Year', ylabel = 'Rainfall (mm)')\n",
    "fig.set_xticklabels(fig.get_xticklabels(), rotation=45)\n",
    "#fig.tick_params(labelrotation=15)\n",
    "fig.grid()\n",
    "#plt.suptitle(\"Borda Vidal station\", y=0.94)\n",
    "#fig.set_xlim(df.date[0], df.date[5296])\n",
    "plt.savefig('D:/Allaus/Manuscript/pictures_and_figures/negative rain - Borda Vidal.png', dpi=300)\n",
    "plt.show();"
   ]
  },
  {
   "cell_type": "markdown",
   "id": "cbb7efc5",
   "metadata": {},
   "source": [
    "### Outlier detection - **Z-score method**"
   ]
  },
  {
   "cell_type": "markdown",
   "id": "193fd56d",
   "metadata": {},
   "source": [
    "For temp_min"
   ]
  },
  {
   "cell_type": "code",
   "execution_count": null,
   "id": "a173cfa0",
   "metadata": {
    "collapsed": true
   },
   "outputs": [],
   "source": [
    "df = pd.read_csv(\"D:/Allaus/Data_analysis/Neu_from_meteo/7_map/Soldeu.csv\")\n",
    "df['date'] = pd.to_datetime(df['date'], format='%m/%d/%Y %H:%M')\n",
    "df"
   ]
  },
  {
   "cell_type": "code",
   "execution_count": null,
   "id": "362d80e8",
   "metadata": {
    "collapsed": true
   },
   "outputs": [],
   "source": [
    "sns.set_context(\"paper\", rc={\"font.size\":14,\"axes.titlesize\":14,\"axes.labelsize\":14, \n",
    "                             \"xtick.labelsize\":14, \"ytick.labelsize\":14, 'legend.fontsize': 14})\n",
    "fig = sns.displot(df.temp_min)\n",
    "fig.set(xlabel = 'Minimum temperature (°)')\n",
    "fig.set(xlim=(-30, 30))\n",
    "fig.set(ylim=(0, 320))\n",
    "#fig.set(title=\"Soldeu station\")\n",
    "plt.savefig('D:/Allaus/Manuscript/pictures_and_figures/outliers - temp min - Soldeu.png', dpi=300)\n",
    "plt.show();"
   ]
  },
  {
   "cell_type": "markdown",
   "id": "5096777e",
   "metadata": {},
   "source": [
    "For temp_max"
   ]
  },
  {
   "cell_type": "code",
   "execution_count": null,
   "id": "27e0ae7e",
   "metadata": {
    "collapsed": true
   },
   "outputs": [],
   "source": [
    "df = pd.read_csv(\"D:/Allaus/Data_analysis/Neu_from_meteo/7_map/Pal.csv\")\n",
    "df['date'] = pd.to_datetime(df['date'], format='%m/%d/%Y %H:%M')\n",
    "df"
   ]
  },
  {
   "cell_type": "code",
   "execution_count": null,
   "id": "f68a8224",
   "metadata": {
    "collapsed": true
   },
   "outputs": [],
   "source": [
    "plt.figure(figsize=(5,5))\n",
    "sns.set_context(\"paper\", rc={\"font.size\":14,\"axes.titlesize\":14,\"axes.labelsize\":14, \n",
    "                             \"xtick.labelsize\":14, \"ytick.labelsize\":14, 'legend.fontsize': 14})\n",
    "fig = sns.boxplot(df.temp_max)\n",
    "fig.set(ylabel = 'Maximum temperature (°)')\n",
    "#fig.set(xlim=(-3, 3))\n",
    "# fig.set(ylim=(0, 320))\n",
    "#fig.set(title=\"Pal station\")\n",
    "plt.savefig('D:/Allaus/Manuscript/pictures_and_figures/outliers - temp max - Pal.png', dpi=300, bbox_inches='tight')\n",
    "plt.show();"
   ]
  },
  {
   "cell_type": "markdown",
   "id": "3a186a54",
   "metadata": {},
   "source": [
    "### Threshold of extreme rainfall"
   ]
  },
  {
   "cell_type": "code",
   "execution_count": null,
   "id": "2317d3bd",
   "metadata": {
    "collapsed": true
   },
   "outputs": [],
   "source": [
    "df = pd.read_csv(\"D:/Allaus/Data_analysis/Altres_estacions_from_meteo/7_temps_outliers/La_Comella.csv\")\n",
    "df['date'] = pd.to_datetime(df['date'], format='%m/%d/%Y')\n",
    "df"
   ]
  },
  {
   "cell_type": "code",
   "execution_count": null,
   "id": "d6cee125",
   "metadata": {},
   "outputs": [],
   "source": [
    "#df.date[5843]"
   ]
  },
  {
   "cell_type": "code",
   "execution_count": null,
   "id": "46d25ab0",
   "metadata": {
    "collapsed": true
   },
   "outputs": [],
   "source": [
    "plt.figure(figsize=(12, 8))\n",
    "sns.set_context(\"paper\", rc={\"font.size\":15,\"axes.titlesize\":15,\"axes.labelsize\":15, \n",
    "                             \"xtick.labelsize\":15, \"ytick.labelsize\":15, 'legend.fontsize': 15})\n",
    "fig = sns.scatterplot(x=df.date, y=df.rain, color='b')\n",
    "fig.set(xlabel = 'Year', ylabel = 'Rainfall (mm)')\n",
    "fig.set_xticklabels(fig.get_xticklabels(), rotation=45)\n",
    "#fig.tick_params(labelrotation=15)\n",
    "#fig.grid()\n",
    "plt.axhline(y=df.rain.quantile(q=0.95),color='r') \n",
    "#plt.suptitle(\"La Comella station\", y=0.94)\n",
    "fig.set_xlim(df.date[0], df.date[5843])\n",
    "plt.savefig('D:/Allaus/Manuscript/pictures_and_figures/extreme rain threshold - La Comella.png', dpi=300)\n",
    "plt.show();"
   ]
  },
  {
   "cell_type": "markdown",
   "id": "a9b1c730",
   "metadata": {},
   "source": [
    "### Correlation"
   ]
  },
  {
   "cell_type": "code",
   "execution_count": null,
   "id": "f32409e2",
   "metadata": {
    "collapsed": true
   },
   "outputs": [],
   "source": [
    "df = pd.read_csv(\"D:/Allaus/Data_analysis/Neu_from_meteo/15_temp_range_temp_trend/Pal.csv\")\n",
    "df['date'] = pd.to_datetime(df['date'], format='%Y-%m-%d %H:%M:%S')\n",
    "df"
   ]
  },
  {
   "cell_type": "code",
   "execution_count": null,
   "id": "a79e7b19",
   "metadata": {
    "collapsed": true
   },
   "outputs": [],
   "source": [
    "corr=df.corr()\n",
    "corr.style.background_gradient(cmap='coolwarm')    "
   ]
  },
  {
   "cell_type": "code",
   "execution_count": null,
   "id": "9f2e7442",
   "metadata": {},
   "outputs": [],
   "source": [
    "df.snow_tot.corr(df.temp_range)"
   ]
  },
  {
   "cell_type": "code",
   "execution_count": null,
   "id": "8b1a5a10",
   "metadata": {
    "collapsed": true
   },
   "outputs": [],
   "source": [
    "temps = df[['temp_max', 'temp_min']]\n",
    "temps\n",
    "\n",
    "sns.pairplot(temps) # or sns.pairplot(num)"
   ]
  },
  {
   "cell_type": "code",
   "execution_count": null,
   "id": "fcc9b362",
   "metadata": {},
   "outputs": [],
   "source": [
    "print(sns.color_palette(\"colorblind\").as_hex())"
   ]
  },
  {
   "cell_type": "code",
   "execution_count": null,
   "id": "362440c3",
   "metadata": {},
   "outputs": [],
   "source": [
    "#sns.color_palette(palette='colorblind')\n",
    "plt.figure(figsize=(12,8))\n",
    "sns.set_context(\"paper\", rc={\"font.size\":15,\"axes.titlesize\":15,\"axes.labelsize\":15, \n",
    "                             \"xtick.labelsize\":15, \"ytick.labelsize\":15, 'legend.fontsize': 15})\n",
    "fig = sns.regplot(x=df.temp_max, y=df.temp_range, scatter_kws = {\"color\": \"#ece133\"}, line_kws = {\"color\": \"#d55e00\"})  \n",
    "fig.set(xlabel = 'Maximum temperature (°C)', ylabel='Range of daily temperatures')\n",
    "fig.grid()\n",
    "#fig.set(xlim=(-20,30))\n",
    "#plt.suptitle(\"Pal station\", y=0.92)\n",
    "\n",
    "plt.savefig('D:/Allaus/Manuscript/pictures_and_figures/temp correlation - Pal.png', dpi=300)\n",
    "plt.show();"
   ]
  }
 ],
 "metadata": {
  "kernelspec": {
   "display_name": "Python 3",
   "language": "python",
   "name": "python3"
  },
  "language_info": {
   "codemirror_mode": {
    "name": "ipython",
    "version": 3
   },
   "file_extension": ".py",
   "mimetype": "text/x-python",
   "name": "python",
   "nbconvert_exporter": "python",
   "pygments_lexer": "ipython3",
   "version": "3.8.5"
  }
 },
 "nbformat": 4,
 "nbformat_minor": 5
}
