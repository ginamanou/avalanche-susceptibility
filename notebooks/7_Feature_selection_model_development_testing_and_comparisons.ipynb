{
 "cells": [
  {
   "cell_type": "markdown",
   "id": "6d1903c5",
   "metadata": {},
   "source": [
    "[![Open In Colab](https://colab.research.google.com/assets/colab-badge.svg)](https://colab.research.google.com/github/ginamanou/avalanche-susceptibility/blob/main/7_Feature_selection_model_development_testing_and_comparisons.ipynb)\n",
    "\n",
    "## Introduction\n",
    "\n",
    "This notebook demonstrates the process of data-driven model development, attempting to solve a classification problem.\n",
    "\n",
    "It includes processes that need to precede the model development, like feature selection and splitting into training, validation and test sets.\n",
    "\n",
    "The developed models are:\n",
    "\n",
    "1) Decesion Tree\n",
    "2) Random Forest\n",
    "3) Extra Trees\n",
    "4) Adaboost\n",
    "5) Gradient Boosting\n",
    "6) XGBoost\n",
    "7) Support Vector Machine\n",
    "8) Logistic Regression\n",
    "9) Feedforward Neural Network\n",
    "\n",
    "Each model is trained, optimized, validated and then tested to check its performance. Once all models are deployed using the whole available dataset, the performances are compared using **heatmaps** and **ROC curves**."
   ]
  },
  {
   "cell_type": "markdown",
   "id": "42dfbe71",
   "metadata": {},
   "source": [
    "## Import the necessary packages"
   ]
  },
  {
   "cell_type": "code",
   "execution_count": null,
   "id": "466a71bd",
   "metadata": {},
   "outputs": [],
   "source": [
    "# General packages\n",
    "import pandas as pd\n",
    "import numpy as np\n",
    "import seaborn as sns\n",
    "import matplotlib.pyplot as plt\n",
    "import matplotlib.colors as colors\n",
    "%matplotlib inline"
   ]
  },
  {
   "cell_type": "code",
   "execution_count": null,
   "id": "e1f9a228",
   "metadata": {},
   "outputs": [],
   "source": [
    "# Preprocessing / Feature engineering\n",
    "from sklearn.preprocessing import OneHotEncoder\n",
    "\n",
    "from sklearn.preprocessing import StandardScaler\n",
    "from sklearn.preprocessing import scale"
   ]
  },
  {
   "cell_type": "code",
   "execution_count": null,
   "id": "9fbd7c90",
   "metadata": {},
   "outputs": [],
   "source": [
    "# Model_selection\n",
    "from sklearn.model_selection import train_test_split\n",
    "from sklearn.model_selection import cross_val_score\n",
    "from sklearn.model_selection import GridSearchCV\n",
    "from sklearn.model_selection import RandomizedSearchCV\n",
    "from sklearn.model_selection import KFold"
   ]
  },
  {
   "cell_type": "code",
   "execution_count": null,
   "id": "0abeff74",
   "metadata": {},
   "outputs": [],
   "source": [
    "from scipy.stats import uniform as sp_randFloat\n",
    "from scipy.stats import randint as sp_randInt"
   ]
  },
  {
   "cell_type": "code",
   "execution_count": null,
   "id": "85897108",
   "metadata": {},
   "outputs": [],
   "source": [
    "# Evaluation metrics\n",
    "from sklearn import metrics\n",
    "from sklearn.metrics import accuracy_score\n",
    "from sklearn.metrics import matthews_corrcoef\n",
    "from sklearn.metrics import f1_score\n",
    "from sklearn.metrics import cohen_kappa_score\n",
    "from sklearn.metrics import classification_report\n",
    "from sklearn.metrics import roc_auc_score\n",
    "from sklearn.metrics import roc_curve, auc\n",
    "from sklearn.metrics import balanced_accuracy_score\n",
    "from sklearn.metrics import make_scorer\n",
    "from sklearn.metrics import recall_score, precision_score\n",
    "\n",
    "from sklearn.metrics import confusion_matrix\n",
    "from sklearn.metrics import ConfusionMatrixDisplay\n",
    "\n",
    "from sklearn.metrics import precision_score, recall_score"
   ]
  },
  {
   "cell_type": "code",
   "execution_count": null,
   "id": "6b87b7f1",
   "metadata": {},
   "outputs": [],
   "source": [
    "# Feature selection\n",
    "from sklearn.decomposition import PCA\n",
    "from sklearn.feature_selection import VarianceThreshold\n",
    "from sklearn.feature_selection import mutual_info_classif\n",
    "from sklearn.feature_selection import SelectKBest\n",
    "from sklearn.feature_selection import chi2"
   ]
  },
  {
   "cell_type": "code",
   "execution_count": null,
   "id": "85492617",
   "metadata": {},
   "outputs": [],
   "source": [
    "# Special packages to plot trees\n",
    "import graphviz \n",
    "import pydotplus\n",
    "import pylab\n",
    "import colour\n",
    "from dtreeviz import trees\n",
    "from dtreeviz.trees import *"
   ]
  },
  {
   "cell_type": "code",
   "execution_count": null,
   "id": "865c634b",
   "metadata": {},
   "outputs": [],
   "source": [
    "# Models\n",
    "\n",
    "# Decision Tree\n",
    "from sklearn.tree import DecisionTreeClassifier\n",
    "from sklearn import tree\n",
    "from sklearn.tree import plot_tree\n",
    "from sklearn.tree import _tree\n",
    "\n",
    "# Random Forest\n",
    "from sklearn.ensemble import RandomForestClassifier\n",
    "\n",
    "# Extra Trees\n",
    "from sklearn.ensemble import ExtraTreesClassifier\n",
    "\n",
    "# AdaBoost\n",
    "from sklearn.ensemble import AdaBoostClassifier\n",
    "\n",
    "# Gradient Boost\n",
    "from sklearn.ensemble import GradientBoostingClassifier\n",
    "\n",
    "# XGBoost\n",
    "import xgboost as xgb\n",
    "\n",
    "# SVM\n",
    "from sklearn.svm import SVC\n",
    "\n",
    "# Neural Network\n",
    "import tensorflow as tf\n",
    "from tensorflow import keras\n",
    "from tensorflow.keras.models import Sequential\n",
    "from tensorflow.keras.layers import Dense\n",
    "\n",
    "# Logistic Regression\n",
    "from sklearn.linear_model import LogisticRegression"
   ]
  },
  {
   "cell_type": "markdown",
   "id": "876f741c",
   "metadata": {},
   "source": [
    "## Import the data"
   ]
  },
  {
   "cell_type": "code",
   "execution_count": null,
   "id": "136b8b43",
   "metadata": {
    "collapsed": true
   },
   "outputs": [],
   "source": [
    "# Here I can just load the respective preprocessed dataset/file from the folder, \n",
    "# since I have done the preprocessing already in another script\n",
    "\n",
    "df = pd.read_csv(\"D:/Allaus/Code/train/2_both_based_on_ptz/DataBase_IDW_preprocessed.csv\")\n",
    "df"
   ]
  },
  {
   "cell_type": "code",
   "execution_count": null,
   "id": "d43ec75f",
   "metadata": {
    "collapsed": true
   },
   "outputs": [],
   "source": [
    "df.columns"
   ]
  },
  {
   "cell_type": "code",
   "execution_count": null,
   "id": "f1332482",
   "metadata": {
    "collapsed": true
   },
   "outputs": [],
   "source": [
    "len(df.columns)"
   ]
  },
  {
   "cell_type": "markdown",
   "id": "b16fcc22",
   "metadata": {},
   "source": [
    "Some explorative plots"
   ]
  },
  {
   "cell_type": "code",
   "execution_count": null,
   "id": "4a6824e4",
   "metadata": {},
   "outputs": [],
   "source": [
    "for col in df.iloc[:,:]:\n",
    "    plt.hist(df[df['Avalanche'] == 1][col], color='red', label='Susceptible', alpha=0.7, density=True) # density normalizes these distributions\n",
    "    plt.hist(df[df['Avalanche'] == 0][col], color='blue', label='Not susceptible', alpha=0.7, density=True)\n",
    "    plt.title(col)\n",
    "    plt.ylabel('Probability')\n",
    "    plt.xlabel(col)\n",
    "    plt.legend()\n",
    "    plt.show();\n",
    "    "
   ]
  },
  {
   "cell_type": "code",
   "execution_count": null,
   "id": "c15f4d0b",
   "metadata": {},
   "outputs": [],
   "source": [
    "# # Alternative plotting\n",
    "# sns.pairplot(df_encoded, hue='Allaus', diag_kind='hist')\n",
    "# #plt.savefig('D:/Allaus/Data_analysis/ML/pairplot_ptz.png', dpi=300)\n",
    "# plt.show();"
   ]
  },
  {
   "cell_type": "markdown",
   "id": "e8c5661f",
   "metadata": {},
   "source": [
    "## Split between dependent and independent / target variables"
   ]
  },
  {
   "cell_type": "code",
   "execution_count": null,
   "id": "6566fb72",
   "metadata": {
    "collapsed": true
   },
   "outputs": [],
   "source": [
    "# Including the Area as a predictor is wrong, because I manipulated it when I was creating the non-allaus data, \n",
    "# it didn't come from the raw data\n",
    "\n",
    "X = df.drop(['Avalanche'], axis=1).copy()   \n",
    "X.head()"
   ]
  },
  {
   "cell_type": "code",
   "execution_count": null,
   "id": "5d7131d4",
   "metadata": {
    "collapsed": true
   },
   "outputs": [],
   "source": [
    "X.tail()"
   ]
  },
  {
   "cell_type": "code",
   "execution_count": null,
   "id": "811edc03",
   "metadata": {
    "collapsed": true
   },
   "outputs": [],
   "source": [
    "y = df['Avalanche'].copy()\n",
    "y.head()"
   ]
  },
  {
   "cell_type": "code",
   "execution_count": null,
   "id": "c490f487",
   "metadata": {
    "collapsed": true
   },
   "outputs": [],
   "source": [
    "X.shape, y.shape"
   ]
  },
  {
   "cell_type": "code",
   "execution_count": null,
   "id": "cdf0f6ab",
   "metadata": {
    "collapsed": true
   },
   "outputs": [],
   "source": [
    "X.dtypes"
   ]
  },
  {
   "cell_type": "code",
   "execution_count": null,
   "id": "0b21466a",
   "metadata": {
    "collapsed": true
   },
   "outputs": [],
   "source": [
    "y.unique()"
   ]
  },
  {
   "cell_type": "code",
   "execution_count": null,
   "id": "b41dc701",
   "metadata": {
    "collapsed": true
   },
   "outputs": [],
   "source": [
    "X = X.drop(columns=['OrientationToNorth', 'PotentialSnowTransport', 'Aspect_East', 'Aspect_North',\n",
    "       'Aspect_North-East', 'Aspect_North-West',\n",
    "       'Aspect_South-East', 'Aspect_South-West', 'Aspect_West', 'Wind_East',\n",
    "       'Wind_North', 'Wind_North-East', 'Wind_North-West',\n",
    "       'Wind_South-East', 'Wind_South-West', 'Wind_West', 'Aspect_South'])\n",
    "X"
   ]
  },
  {
   "cell_type": "markdown",
   "id": "f8eb85b0",
   "metadata": {},
   "source": [
    "## Shuffle the data"
   ]
  },
  {
   "cell_type": "markdown",
   "id": "d9c4129a",
   "metadata": {},
   "source": [
    "Shuffling may be bad for reproducibility, but it is good for reliability!!!"
   ]
  },
  {
   "cell_type": "code",
   "execution_count": null,
   "id": "ad9a6420",
   "metadata": {},
   "outputs": [],
   "source": [
    "# df = df.sample(frac = 1)  # in this case, I do it together with the train, valid, test split as seen below"
   ]
  },
  {
   "cell_type": "markdown",
   "id": "91a155db",
   "metadata": {},
   "source": [
    "## Train, validation and test set split"
   ]
  },
  {
   "cell_type": "code",
   "execution_count": null,
   "id": "b28ec7d7",
   "metadata": {},
   "outputs": [],
   "source": [
    "train, valid, test = np.split(df.sample(frac=1), [int(0.6*len(df)), int(0.8*len(df))])"
   ]
  },
  {
   "cell_type": "code",
   "execution_count": null,
   "id": "d46a7dc3",
   "metadata": {
    "collapsed": true
   },
   "outputs": [],
   "source": [
    "train.head()"
   ]
  },
  {
   "cell_type": "code",
   "execution_count": null,
   "id": "d5526da0",
   "metadata": {
    "collapsed": true
   },
   "outputs": [],
   "source": [
    "train.columns"
   ]
  },
  {
   "cell_type": "code",
   "execution_count": null,
   "id": "85656f4b",
   "metadata": {
    "collapsed": true
   },
   "outputs": [],
   "source": [
    "valid.head()"
   ]
  },
  {
   "cell_type": "code",
   "execution_count": null,
   "id": "695cf72f",
   "metadata": {
    "collapsed": true
   },
   "outputs": [],
   "source": [
    "test.head()"
   ]
  },
  {
   "cell_type": "code",
   "execution_count": null,
   "id": "2205b7ba",
   "metadata": {},
   "outputs": [],
   "source": [
    "X_train = train.drop(['Avalanche'], axis=1).copy()\n",
    "y_train = train['Avalanche'].copy()"
   ]
  },
  {
   "cell_type": "code",
   "execution_count": null,
   "id": "2c3c0356",
   "metadata": {},
   "outputs": [],
   "source": [
    "X_valid = valid.drop(['Avalanche'], axis=1).copy()\n",
    "y_valid = valid['Avalanche'].copy()"
   ]
  },
  {
   "cell_type": "code",
   "execution_count": null,
   "id": "498c7318",
   "metadata": {},
   "outputs": [],
   "source": [
    "X_test = test.drop(['Avalanche'], axis=1).copy()\n",
    "y_test = test['Avalanche'].copy()"
   ]
  },
  {
   "cell_type": "code",
   "execution_count": null,
   "id": "2a45142a",
   "metadata": {
    "collapsed": true
   },
   "outputs": [],
   "source": [
    "X_train.shape, y_train.shape"
   ]
  },
  {
   "cell_type": "code",
   "execution_count": null,
   "id": "ebbdeaa8",
   "metadata": {
    "collapsed": true
   },
   "outputs": [],
   "source": [
    "X_valid.shape, y_valid.shape"
   ]
  },
  {
   "cell_type": "code",
   "execution_count": null,
   "id": "31cfbe52",
   "metadata": {
    "collapsed": true
   },
   "outputs": [],
   "source": [
    "X_test.shape, y_test.shape"
   ]
  },
  {
   "cell_type": "code",
   "execution_count": null,
   "id": "9d5bcddf",
   "metadata": {
    "collapsed": true
   },
   "outputs": [],
   "source": [
    "y_train.unique(), y_valid.unique(), y_test.unique()"
   ]
  },
  {
   "cell_type": "code",
   "execution_count": null,
   "id": "41deec2f",
   "metadata": {},
   "outputs": [],
   "source": [
    "# Make sure that the classes are more or less balanced\n",
    "\n",
    "plt.hist(y_train)\n",
    "plt.ylabel(\"Count of output labels\")\n",
    "plt.show()\n",
    "\n",
    "plt.hist(y_valid)\n",
    "plt.ylabel(\"Count of output labels\")\n",
    "plt.show()\n",
    "\n",
    "plt.hist(y_test)\n",
    "plt.ylabel(\"Count of output labels\")\n",
    "plt.show()"
   ]
  },
  {
   "cell_type": "markdown",
   "id": "ebdeea6e",
   "metadata": {},
   "source": [
    "## Feature selection"
   ]
  },
  {
   "cell_type": "code",
   "execution_count": null,
   "id": "0daf53b4",
   "metadata": {
    "collapsed": true
   },
   "outputs": [],
   "source": [
    "X_train.info()"
   ]
  },
  {
   "cell_type": "code",
   "execution_count": null,
   "id": "5214e30e",
   "metadata": {},
   "outputs": [],
   "source": [
    "X_train.describe().T"
   ]
  },
  {
   "cell_type": "markdown",
   "id": "b85756c4",
   "metadata": {},
   "source": [
    "**Variance Threshold**\n",
    "\n",
    "In this case it is not an issue.\n",
    "\n",
    "I don't have features with constant values."
   ]
  },
  {
   "cell_type": "code",
   "execution_count": null,
   "id": "72dc2be1",
   "metadata": {},
   "outputs": [],
   "source": [
    "from sklearn.feature_selection import VarianceThreshold\n",
    "var_thres = VarianceThreshold(threshold=0)\n",
    "var_thres.fit(X_train)"
   ]
  },
  {
   "cell_type": "code",
   "execution_count": null,
   "id": "65faffb4",
   "metadata": {},
   "outputs": [],
   "source": [
    "var_thres.get_support()    # If all are true, then none of the variables is constant"
   ]
  },
  {
   "cell_type": "markdown",
   "id": "e2e426e4",
   "metadata": {},
   "source": [
    "**Chi-2 Test**\n",
    "\n",
    "!!! Only for categorical (non-negative) variables !!!\n",
    "\n",
    "It returns two values: F-score & p-value.\n",
    "\n",
    "The higher the F-score, the more important the feature is."
   ]
  },
  {
   "cell_type": "code",
   "execution_count": null,
   "id": "5680fa58",
   "metadata": {},
   "outputs": [],
   "source": [
    "X_train.columns"
   ]
  },
  {
   "cell_type": "code",
   "execution_count": null,
   "id": "ca178ad6",
   "metadata": {},
   "outputs": [],
   "source": [
    "len(X_train.columns)"
   ]
  },
  {
   "cell_type": "code",
   "execution_count": null,
   "id": "68b1f20d",
   "metadata": {},
   "outputs": [],
   "source": [
    "# Select only the categorical variables\n",
    "\n",
    "X_chi2 = X_train[['OrientationToNorth', 'Forest', 'Rocks', 'Screes', \n",
    "                  'PotentialSnowTransport', 'Aspect_East', 'Aspect_North',\n",
    "                   'Aspect_North-East', 'Aspect_North-West', 'Aspect_South',\n",
    "                   'Aspect_South-East', 'Aspect_South-West', 'Aspect_West', 'Wind_East',\n",
    "                   'Wind_North', 'Wind_North-East', 'Wind_North-West', 'Wind_South',\n",
    "                   'Wind_South-East', 'Wind_South-West', 'Wind_West']]\n",
    "len(X_chi2.columns)"
   ]
  },
  {
   "cell_type": "code",
   "execution_count": null,
   "id": "15425c15",
   "metadata": {},
   "outputs": [],
   "source": [
    "y_chi2 = y_train.copy()\n",
    "y_chi2"
   ]
  },
  {
   "cell_type": "code",
   "execution_count": null,
   "id": "db0e1158",
   "metadata": {},
   "outputs": [],
   "source": [
    "y_chi2.unique()"
   ]
  },
  {
   "cell_type": "code",
   "execution_count": null,
   "id": "0a3789c0",
   "metadata": {},
   "outputs": [],
   "source": [
    "from sklearn.feature_selection import chi2\n",
    "f_p_values = chi2(X_chi2, y_chi2)\n",
    "f_p_values"
   ]
  },
  {
   "cell_type": "code",
   "execution_count": null,
   "id": "dc692601",
   "metadata": {},
   "outputs": [],
   "source": [
    "p_values = pd.Series(f_p_values[1])\n",
    "p_values.index = X_chi2.columns\n",
    "p_values"
   ]
  },
  {
   "cell_type": "code",
   "execution_count": null,
   "id": "d4c7f068",
   "metadata": {},
   "outputs": [],
   "source": [
    "p_values.sort_values(ascending=True)"
   ]
  },
  {
   "cell_type": "markdown",
   "id": "ab6ea907",
   "metadata": {},
   "source": [
    "**Get rid of categorical values that are not important**\n",
    "\n",
    "Based on the Chi2 test.\n",
    "\n",
    "I remove every variable with p-value < 0.05.\n",
    "\n",
    "Alternative: use the SelectKBest object or the nlargest() function."
   ]
  },
  {
   "cell_type": "code",
   "execution_count": null,
   "id": "cf0dec56",
   "metadata": {},
   "outputs": [],
   "source": [
    "# # I can use this in order to select the features that I want after every test\n",
    "# from sklearn.feature_selection import SelectKBest\n",
    "\n",
    "# sel_feat = SelectKBest(chi2, k = 8)\n",
    "# sel_feat.fit(X_chi2, y_chi2)\n",
    "# X_chi2.columns[sel_feat.get_support()]\n",
    "\n",
    "# # nlargest() is also an option if I have the scores or the p-values\n",
    "# p_values.nsmallest(8)"
   ]
  },
  {
   "cell_type": "markdown",
   "id": "0c5b826d",
   "metadata": {},
   "source": [
    "**At first, mostly based on the histograms, remove the least important categorical features**"
   ]
  },
  {
   "cell_type": "code",
   "execution_count": null,
   "id": "02c5a263",
   "metadata": {},
   "outputs": [],
   "source": [
    "X_train.columns"
   ]
  },
  {
   "cell_type": "code",
   "execution_count": null,
   "id": "3c2ad2fd",
   "metadata": {},
   "outputs": [],
   "source": [
    "X_train = X_train.drop(columns=['OrientationToNorth', 'PotentialSnowTransport', 'Aspect_East', 'Aspect_North',\n",
    "       'Aspect_North-East', 'Aspect_North-West',\n",
    "       'Aspect_South-East', 'Aspect_South-West', 'Aspect_West', 'Wind_East',\n",
    "       'Wind_North', 'Wind_North-East', 'Wind_North-West',\n",
    "       'Wind_South-East', 'Wind_South-West', 'Wind_West'])\n",
    "X_train\n"
   ]
  },
  {
   "cell_type": "code",
   "execution_count": null,
   "id": "540d6229",
   "metadata": {},
   "outputs": [],
   "source": [
    "X_train.columns"
   ]
  },
  {
   "cell_type": "code",
   "execution_count": null,
   "id": "0e003638",
   "metadata": {},
   "outputs": [],
   "source": [
    "y_train.unique()"
   ]
  },
  {
   "cell_type": "code",
   "execution_count": null,
   "id": "181a3088",
   "metadata": {},
   "outputs": [],
   "source": [
    "y_train.shape"
   ]
  },
  {
   "cell_type": "markdown",
   "id": "3ad2cf60",
   "metadata": {},
   "source": [
    "**Do the same for the validation and test set**"
   ]
  },
  {
   "cell_type": "code",
   "execution_count": null,
   "id": "de4d05e2",
   "metadata": {},
   "outputs": [],
   "source": [
    "X_valid"
   ]
  },
  {
   "cell_type": "code",
   "execution_count": null,
   "id": "2f2cb046",
   "metadata": {},
   "outputs": [],
   "source": [
    "X_valid = X_valid.drop(columns=['OrientationToNorth', 'PotentialSnowTransport', 'Aspect_East', 'Aspect_North',\n",
    "       'Aspect_North-East', 'Aspect_North-West',\n",
    "       'Aspect_South-East', 'Aspect_South-West', 'Aspect_West', 'Wind_East',\n",
    "       'Wind_North', 'Wind_North-East', 'Wind_North-West',\n",
    "       'Wind_South-East', 'Wind_South-West', 'Wind_West'])\n",
    "X_valid\n"
   ]
  },
  {
   "cell_type": "code",
   "execution_count": null,
   "id": "794568d0",
   "metadata": {},
   "outputs": [],
   "source": [
    "y_valid.unique()"
   ]
  },
  {
   "cell_type": "code",
   "execution_count": null,
   "id": "4c403869",
   "metadata": {},
   "outputs": [],
   "source": [
    "y_valid.shape"
   ]
  },
  {
   "cell_type": "code",
   "execution_count": null,
   "id": "c6a12b78",
   "metadata": {},
   "outputs": [],
   "source": [
    "X_test = X_test.drop(columns=['OrientationToNorth', 'PotentialSnowTransport', 'Aspect_East', 'Aspect_North',\n",
    "       'Aspect_North-East', 'Aspect_North-West',\n",
    "       'Aspect_South-East', 'Aspect_South-West', 'Aspect_West', 'Wind_East',\n",
    "       'Wind_North', 'Wind_North-East', 'Wind_North-West',\n",
    "       'Wind_South-East', 'Wind_South-West', 'Wind_West'])\n",
    "X_test\n"
   ]
  },
  {
   "cell_type": "code",
   "execution_count": null,
   "id": "36ed9784",
   "metadata": {},
   "outputs": [],
   "source": [
    "y_test.shape"
   ]
  },
  {
   "cell_type": "markdown",
   "id": "67701059",
   "metadata": {},
   "source": [
    "**Pearson's Correlation**"
   ]
  },
  {
   "cell_type": "code",
   "execution_count": null,
   "id": "7c17de41",
   "metadata": {},
   "outputs": [],
   "source": [
    "# Plot color scaled correlation matrix\n",
    "\n",
    "corr=X_train.corr()\n",
    "corr.style.background_gradient(cmap='coolwarm')       "
   ]
  },
  {
   "cell_type": "code",
   "execution_count": null,
   "id": "458c7f55",
   "metadata": {},
   "outputs": [],
   "source": [
    "X_train.ExtremeRain.corr(X_train.MonthlyRain)"
   ]
  },
  {
   "cell_type": "code",
   "execution_count": null,
   "id": "60e724cc",
   "metadata": {},
   "outputs": [],
   "source": [
    "fig, ax = plt.subplots(figsize=(15, 12))\n",
    "sns.heatmap(X_train.corr())\n",
    "plt.title(\"Feature correlation heatmap\", y=1.04)\n",
    "plt.savefig('D:/Allaus/Manuscript/pictures_and_figures/correlation - independent variables.png', dpi=300)\n",
    "plt.show();"
   ]
  },
  {
   "cell_type": "code",
   "execution_count": null,
   "id": "0de35893",
   "metadata": {},
   "outputs": [],
   "source": [
    "df.SnowTotal.corr(df.Tmax)"
   ]
  },
  {
   "cell_type": "code",
   "execution_count": null,
   "id": "118a2a26",
   "metadata": {},
   "outputs": [],
   "source": [
    "def correlation(dataset, threshold):\n",
    "    col_corr = set()\n",
    "    corr_matrix = dataset.corr()\n",
    "    for i in range(len(corr_matrix.columns)):\n",
    "        for j in range(i):\n",
    "            if corr_matrix.iloc[i, j] > threshold:   # I want to keep the negative correlations\n",
    "                colname = corr_matrix.columns[i]\n",
    "                col_corr.add(colname)\n",
    "    return col_corr"
   ]
  },
  {
   "cell_type": "code",
   "execution_count": null,
   "id": "05c25fba",
   "metadata": {},
   "outputs": [],
   "source": [
    "corr_features = correlation(X_train, 0.85)\n",
    "len(set(corr_features))"
   ]
  },
  {
   "cell_type": "code",
   "execution_count": null,
   "id": "07ecb4a8",
   "metadata": {},
   "outputs": [],
   "source": [
    "corr_features"
   ]
  },
  {
   "cell_type": "markdown",
   "id": "c4615ef2",
   "metadata": {},
   "source": [
    "**Mutual Information**\n",
    "\n",
    "Mutual information is sometimes used as a synonym for information gain. \n",
    "Technically, they calculate the same quantity if applied to the same data."
   ]
  },
  {
   "cell_type": "code",
   "execution_count": null,
   "id": "37d35449",
   "metadata": {
    "collapsed": true
   },
   "outputs": [],
   "source": [
    "from sklearn.feature_selection import mutual_info_classif\n",
    "mutual_info = mutual_info_classif(X_train, y_train)\n",
    "mutual_info"
   ]
  },
  {
   "cell_type": "code",
   "execution_count": null,
   "id": "fd222c27",
   "metadata": {
    "collapsed": true
   },
   "outputs": [],
   "source": [
    "mutual_info = pd.Series(mutual_info)\n",
    "mutual_info.index = X_train.columns\n",
    "mutual_info.sort_values(ascending = False)"
   ]
  },
  {
   "cell_type": "code",
   "execution_count": null,
   "id": "0a18d28e",
   "metadata": {
    "collapsed": true
   },
   "outputs": [],
   "source": [
    "X_train.ExtremeRain.corr(X_train.Rain)"
   ]
  },
  {
   "cell_type": "code",
   "execution_count": null,
   "id": "28ef615d",
   "metadata": {
    "collapsed": true
   },
   "outputs": [],
   "source": [
    "X_train.WindSpeedMean.corr(X_train.WindSpeedMax)"
   ]
  },
  {
   "cell_type": "code",
   "execution_count": null,
   "id": "b2e9cd94",
   "metadata": {
    "collapsed": true
   },
   "outputs": [],
   "source": [
    "X_train.Slope.corr(X_train.CurvatureProf)"
   ]
  },
  {
   "cell_type": "code",
   "execution_count": null,
   "id": "66a401cb",
   "metadata": {
    "collapsed": true
   },
   "outputs": [],
   "source": [
    "X_train.Tmean.corr(X_train.Trange)"
   ]
  },
  {
   "cell_type": "code",
   "execution_count": null,
   "id": "e1d3e9cb",
   "metadata": {
    "collapsed": true
   },
   "outputs": [],
   "source": [
    "mutual_info.sort_values(ascending=False).plot.bar(figsize=(20,8))\n",
    "plt.title('Mutual Information')\n",
    "plt.xlabel(\"Features\")\n",
    "plt.ylabel(\"Scores\")\n",
    "plt.show();"
   ]
  },
  {
   "cell_type": "markdown",
   "id": "13e9c233",
   "metadata": {},
   "source": [
    "**Extra Trees - feature importance**"
   ]
  },
  {
   "cell_type": "code",
   "execution_count": null,
   "id": "1f099b46",
   "metadata": {},
   "outputs": [],
   "source": [
    "clf_et = ExtraTreesClassifier(criterion='entropy', random_state=5)\n",
    "clf_et.fit(X_train, y_train)"
   ]
  },
  {
   "cell_type": "code",
   "execution_count": null,
   "id": "905a5e1d",
   "metadata": {},
   "outputs": [],
   "source": [
    "# Feature importances\n",
    "clf_et.feature_importances_"
   ]
  },
  {
   "cell_type": "code",
   "execution_count": null,
   "id": "8a72095f",
   "metadata": {},
   "outputs": [],
   "source": [
    "features = X_train.columns\n",
    "importances=clf_et.feature_importances_\n",
    "indices=np.argsort(importances)\n",
    "\n",
    "plt.figure(figsize=(10, 12))\n",
    "plt.title(\"Feature Importances\")\n",
    "plt.barh(range(len(indices)), importances[indices], color='g', align='center')\n",
    "plt.yticks(range(len(indices)), [features[i] for i in indices])\n",
    "plt.xlabel(\"Relative importance\")\n",
    "plt.show()"
   ]
  },
  {
   "cell_type": "markdown",
   "id": "9e0400a0",
   "metadata": {},
   "source": [
    "**Remove more irrelevant features.**\n",
    "\n",
    "**Do it for train, valid and test sets.**"
   ]
  },
  {
   "cell_type": "code",
   "execution_count": null,
   "id": "f36bcf16",
   "metadata": {},
   "outputs": [],
   "source": [
    "X_train = X_train.drop(columns=['Aspect_South'])\n",
    "X_train"
   ]
  },
  {
   "cell_type": "code",
   "execution_count": null,
   "id": "911c62c1",
   "metadata": {},
   "outputs": [],
   "source": [
    "X_valid = X_valid.drop(columns=['Aspect_South'])\n",
    "X_valid\n"
   ]
  },
  {
   "cell_type": "code",
   "execution_count": null,
   "id": "eb364449",
   "metadata": {},
   "outputs": [],
   "source": [
    "X_test = X_test.drop(columns=['Aspect_South'])\n",
    "X_test\n"
   ]
  },
  {
   "cell_type": "code",
   "execution_count": null,
   "id": "955361ba",
   "metadata": {},
   "outputs": [],
   "source": [
    "y_test.shape, y_valid.shape, y_train.shape"
   ]
  },
  {
   "cell_type": "code",
   "execution_count": null,
   "id": "990b3ccc",
   "metadata": {},
   "outputs": [],
   "source": [
    "y_test.unique(), y_valid.unique(), y_train.unique()"
   ]
  },
  {
   "cell_type": "code",
   "execution_count": null,
   "id": "c1c6d5ca",
   "metadata": {},
   "outputs": [],
   "source": [
    "X_train.columns"
   ]
  },
  {
   "cell_type": "markdown",
   "id": "2483a959",
   "metadata": {},
   "source": [
    "**Save the train, valid, test sets for reproducibility of results during the stage of finalization and writing.**"
   ]
  },
  {
   "cell_type": "code",
   "execution_count": null,
   "id": "bc67c47a",
   "metadata": {},
   "outputs": [],
   "source": [
    "X_train.to_csv(\"D:/Allaus/Code/train/2_both_based_on_ptz/X_train.csv\")"
   ]
  },
  {
   "cell_type": "code",
   "execution_count": null,
   "id": "42c73550",
   "metadata": {},
   "outputs": [],
   "source": [
    "X_valid.to_csv(\"D:/Allaus/Code/train/2_both_based_on_ptz/X_valid.csv\")"
   ]
  },
  {
   "cell_type": "code",
   "execution_count": null,
   "id": "05e9f2df",
   "metadata": {},
   "outputs": [],
   "source": [
    "X_test.to_csv(\"D:/Allaus/Code/train/2_both_based_on_ptz/X_test.csv\")"
   ]
  },
  {
   "cell_type": "code",
   "execution_count": null,
   "id": "8bd0ec6a",
   "metadata": {},
   "outputs": [],
   "source": [
    "y_train.to_csv(\"D:/Allaus/Code/train/2_both_based_on_ptz/y_train.csv\")"
   ]
  },
  {
   "cell_type": "code",
   "execution_count": null,
   "id": "f2ab7e03",
   "metadata": {},
   "outputs": [],
   "source": [
    "y_valid.to_csv(\"D:/Allaus/Code/train/2_both_based_on_ptz/y_valid.csv\")"
   ]
  },
  {
   "cell_type": "code",
   "execution_count": null,
   "id": "21ffa11e",
   "metadata": {},
   "outputs": [],
   "source": [
    "y_test.to_csv(\"D:/Allaus/Code/train/2_both_based_on_ptz/y_test.csv\")"
   ]
  },
  {
   "cell_type": "markdown",
   "id": "e5ab0da5",
   "metadata": {},
   "source": [
    "## Data import\n",
    "\n",
    "Read directly the finalized datasets as of after the feature selection performed above"
   ]
  },
  {
   "cell_type": "code",
   "execution_count": null,
   "id": "5008434c",
   "metadata": {
    "collapsed": true
   },
   "outputs": [],
   "source": [
    "X_train = pd.read_csv(\"D:/Allaus/Code/train/2_both_based_on_ptz/X_train.csv\", index_col='Unnamed: 0')\n",
    "X_train"
   ]
  },
  {
   "cell_type": "code",
   "execution_count": null,
   "id": "0cd2a561",
   "metadata": {
    "collapsed": true
   },
   "outputs": [],
   "source": [
    "X_valid = pd.read_csv(\"D:/Allaus/Code/train/2_both_based_on_ptz/X_valid.csv\", index_col='Unnamed: 0')\n",
    "X_valid"
   ]
  },
  {
   "cell_type": "code",
   "execution_count": null,
   "id": "959be93e",
   "metadata": {
    "collapsed": true
   },
   "outputs": [],
   "source": [
    "X_test = pd.read_csv(\"D:/Allaus/Code/train/2_both_based_on_ptz/X_test.csv\", index_col='Unnamed: 0')\n",
    "X_test"
   ]
  },
  {
   "cell_type": "code",
   "execution_count": null,
   "id": "e438f065",
   "metadata": {
    "collapsed": true
   },
   "outputs": [],
   "source": [
    "y_train = pd.read_csv(\"D:/Allaus/Code/train/2_both_based_on_ptz/y_train.csv\", index_col='Unnamed: 0')\n",
    "y_train = y_train.Avalanche\n",
    "y_train"
   ]
  },
  {
   "cell_type": "code",
   "execution_count": null,
   "id": "991938d3",
   "metadata": {
    "collapsed": true
   },
   "outputs": [],
   "source": [
    "y_valid = pd.read_csv(\"D:/Allaus/Code/train/2_both_based_on_ptz/y_valid.csv\", index_col='Unnamed: 0')\n",
    "y_valid = y_valid.Avalanche\n",
    "y_valid"
   ]
  },
  {
   "cell_type": "code",
   "execution_count": null,
   "id": "7c4c5325",
   "metadata": {
    "collapsed": true
   },
   "outputs": [],
   "source": [
    "y_test = pd.read_csv(\"D:/Allaus/Code/train/2_both_based_on_ptz/y_test.csv\", index_col='Unnamed: 0')\n",
    "y_test = y_test.Avalanche\n",
    "y_test"
   ]
  },
  {
   "cell_type": "markdown",
   "id": "6a11dcd1",
   "metadata": {},
   "source": [
    "In case I wanted to try without the extra parameters that I created \\\n",
    "(I tried it and the models become worse)"
   ]
  },
  {
   "cell_type": "code",
   "execution_count": null,
   "id": "fdbb67be",
   "metadata": {},
   "outputs": [],
   "source": [
    "len(X_train.columns)"
   ]
  },
  {
   "cell_type": "code",
   "execution_count": null,
   "id": "748606cc",
   "metadata": {},
   "outputs": [],
   "source": [
    "X_train_minus1 = X_train.drop(columns=['SnowCover', 'CriticalRecharge'])\n",
    "X_train_minus1"
   ]
  },
  {
   "cell_type": "code",
   "execution_count": null,
   "id": "a4dbe025",
   "metadata": {},
   "outputs": [],
   "source": [
    "X_valid_minus1 = X_valid.drop(columns=['SnowCover', 'CriticalRecharge'])\n",
    "X_valid_minus1"
   ]
  },
  {
   "cell_type": "code",
   "execution_count": null,
   "id": "4ca78641",
   "metadata": {},
   "outputs": [],
   "source": [
    "X_test_minus1 = X_test.drop(columns=['SnowCover', 'CriticalRecharge'])\n",
    "X_test_minus1"
   ]
  },
  {
   "cell_type": "markdown",
   "id": "b1f9c342",
   "metadata": {},
   "source": [
    "Try with even less data"
   ]
  },
  {
   "cell_type": "code",
   "execution_count": null,
   "id": "a040d6dd",
   "metadata": {},
   "outputs": [],
   "source": [
    "X_train_minus2 = X_train.drop(columns=['SnowCover', 'CriticalRecharge', 'Rain', 'Rain2D',\n",
    "       'Rain3D', 'ExtremeRain', 'MonthlyRain', 'Tmin', 'Tmax', 'Tmean',\n",
    "       'Trange', 'SnowTotal', 'Snow24h', 'Snow48h', 'Snow72h', 'MonthlySnow',\n",
    "       'WindSpeedMean', 'WindSpeedMax', 'Wind_South'])\n",
    "X_train_minus2"
   ]
  },
  {
   "cell_type": "code",
   "execution_count": null,
   "id": "491bd35a",
   "metadata": {},
   "outputs": [],
   "source": [
    "X_valid_minus2 = X_valid.drop(columns=['SnowCover', 'CriticalRecharge', 'Rain', 'Rain2D',\n",
    "       'Rain3D', 'ExtremeRain', 'MonthlyRain', 'Tmin', 'Tmax', 'Tmean',\n",
    "       'Trange', 'SnowTotal', 'Snow24h', 'Snow48h', 'Snow72h', 'MonthlySnow',\n",
    "       'WindSpeedMean', 'WindSpeedMax', 'Wind_South'])\n",
    "X_valid_minus2"
   ]
  },
  {
   "cell_type": "code",
   "execution_count": null,
   "id": "fcfd9610",
   "metadata": {},
   "outputs": [],
   "source": [
    "X_test_minus2 = X_test.drop(columns=['SnowCover', 'CriticalRecharge', 'Rain', 'Rain2D',\n",
    "       'Rain3D', 'ExtremeRain', 'MonthlyRain', 'Tmin', 'Tmax', 'Tmean',\n",
    "       'Trange', 'SnowTotal', 'Snow24h', 'Snow48h', 'Snow72h', 'MonthlySnow',\n",
    "       'WindSpeedMean', 'WindSpeedMax', 'Wind_South'])\n",
    "X_test_minus2"
   ]
  },
  {
   "cell_type": "code",
   "execution_count": null,
   "id": "d5407a04",
   "metadata": {},
   "outputs": [],
   "source": [
    "y_train_minus1 = y_train\n",
    "y_train_minus2 = y_train\n",
    "y_valid_minus1 = y_valid\n",
    "y_valid_minus2 = y_valid\n",
    "y_test_minus1 = y_test\n",
    "y_test_minus2 = y_test"
   ]
  },
  {
   "cell_type": "code",
   "execution_count": null,
   "id": "e765d5a2",
   "metadata": {},
   "outputs": [],
   "source": [
    "#y_test_minus2.shape"
   ]
  },
  {
   "cell_type": "code",
   "execution_count": null,
   "id": "914aa70e",
   "metadata": {},
   "outputs": [],
   "source": [
    "#y_test.shape"
   ]
  },
  {
   "cell_type": "code",
   "execution_count": null,
   "id": "86e68efc",
   "metadata": {},
   "outputs": [],
   "source": [
    "#y_test_minus1"
   ]
  },
  {
   "cell_type": "code",
   "execution_count": null,
   "id": "87dd6b06",
   "metadata": {},
   "outputs": [],
   "source": [
    "frames_X_depl_minus1 = [X_train_minus1, X_valid_minus1]\n",
    "frames_y_depl_minus1 = [y_train_minus1, y_valid_minus1]\n",
    "\n",
    "frames_X_depl_minus2 = [X_train_minus2, X_valid_minus2]\n",
    "frames_y_depl_minus2 = [y_train_minus2, y_valid_minus2]"
   ]
  },
  {
   "cell_type": "code",
   "execution_count": null,
   "id": "dfdf0f45",
   "metadata": {},
   "outputs": [],
   "source": [
    "X_depl_minus1 = pd.concat(frames_X_depl_minus1)\n",
    "y_depl_minus1 = pd.concat(frames_y_depl_minus1)\n",
    "\n",
    "X_depl_minus2 = pd.concat(frames_X_depl_minus2)\n",
    "y_depl_minus2 = pd.concat(frames_y_depl_minus2)\n"
   ]
  },
  {
   "cell_type": "code",
   "execution_count": null,
   "id": "a592af76",
   "metadata": {},
   "outputs": [],
   "source": [
    "y_train_minus1 = y_train.to_numpy().ravel()\n",
    "y_train_minus2 = y_train.to_numpy().ravel()\n",
    "y_valid_minus1 = y_valid.to_numpy().ravel()\n",
    "y_valid_minus2 = y_valid.to_numpy().ravel()\n",
    "# y_test_minus1 = y_test_minus1.to_numpy().ravel()\n",
    "# y_test_minus2 = y_test_minus2.to_numpy().ravel()"
   ]
  },
  {
   "cell_type": "code",
   "execution_count": null,
   "id": "b38c0bda",
   "metadata": {},
   "outputs": [],
   "source": [
    "y_depl_minus1 = y_depl_minus1.to_numpy().ravel()\n",
    "y_depl_minus2 = y_depl_minus2.to_numpy().ravel()"
   ]
  },
  {
   "cell_type": "markdown",
   "id": "3ac2e66e",
   "metadata": {},
   "source": [
    "**Join training and validation sets for model deployment**"
   ]
  },
  {
   "cell_type": "code",
   "execution_count": null,
   "id": "4b15378f",
   "metadata": {},
   "outputs": [],
   "source": [
    "frames_X = [X_train, X_valid]\n",
    "frames_y = [y_train, y_valid]"
   ]
  },
  {
   "cell_type": "code",
   "execution_count": null,
   "id": "2b3522bd",
   "metadata": {},
   "outputs": [],
   "source": [
    "X_depl = pd.concat(frames_X)\n",
    "y_depl = pd.concat(frames_y)"
   ]
  },
  {
   "cell_type": "code",
   "execution_count": null,
   "id": "045a2ba8",
   "metadata": {},
   "outputs": [],
   "source": [
    "#X_depl.tail()"
   ]
  },
  {
   "cell_type": "code",
   "execution_count": null,
   "id": "bea20193",
   "metadata": {},
   "outputs": [],
   "source": [
    "y_depl = y_depl.to_numpy()\n",
    "y_depl"
   ]
  },
  {
   "cell_type": "code",
   "execution_count": null,
   "id": "c95180db",
   "metadata": {},
   "outputs": [],
   "source": [
    "y_depl = y_depl.ravel()\n",
    "y_depl"
   ]
  },
  {
   "cell_type": "code",
   "execution_count": null,
   "id": "143bd8bb",
   "metadata": {},
   "outputs": [],
   "source": [
    "#y_depl.shape"
   ]
  },
  {
   "cell_type": "code",
   "execution_count": null,
   "id": "5d829694",
   "metadata": {},
   "outputs": [],
   "source": [
    "y_test = y_test.to_numpy().ravel()\n"
   ]
  },
  {
   "cell_type": "code",
   "execution_count": null,
   "id": "6ac35b2a",
   "metadata": {},
   "outputs": [],
   "source": [
    "#y_test.shape"
   ]
  },
  {
   "cell_type": "markdown",
   "id": "f9c67bb8",
   "metadata": {},
   "source": [
    "## Model development"
   ]
  },
  {
   "cell_type": "markdown",
   "id": "ff461038",
   "metadata": {},
   "source": [
    "### 1) Decision Tree"
   ]
  },
  {
   "cell_type": "code",
   "execution_count": null,
   "id": "146df8b9",
   "metadata": {},
   "outputs": [],
   "source": [
    "from sklearn.tree import DecisionTreeClassifier\n",
    "from sklearn import tree\n",
    "from sklearn.tree import plot_tree\n",
    "from sklearn.tree import _tree"
   ]
  },
  {
   "cell_type": "markdown",
   "id": "93630321",
   "metadata": {},
   "source": [
    "Build and train initial tree"
   ]
  },
  {
   "cell_type": "code",
   "execution_count": null,
   "id": "28cfc992",
   "metadata": {},
   "outputs": [],
   "source": [
    "clf_dt = DecisionTreeClassifier(random_state=42)\n",
    "clf_dt = clf_dt.fit(X, y)"
   ]
  },
  {
   "cell_type": "markdown",
   "id": "e59eaf20",
   "metadata": {},
   "source": [
    "Plot trained tree\n"
   ]
  },
  {
   "cell_type": "code",
   "execution_count": null,
   "id": "628631e4",
   "metadata": {},
   "outputs": [],
   "source": [
    "clf_dt.classes_"
   ]
  },
  {
   "cell_type": "code",
   "execution_count": null,
   "id": "479d4294",
   "metadata": {
    "collapsed": true
   },
   "outputs": [],
   "source": [
    "plt.figure(figsize=(15, 7))\n",
    "plot_tree(clf_dt,\n",
    "         filled = True,\n",
    "         rounded = True,\n",
    "         class_names = ['Not Susceptible', 'Susceptible'],\n",
    "         feature_names = X.columns)                 # It is clearly overfitting!!!!!\n",
    "#plt.savefig(\"D:/Allaus/Manuscript/pictures_and_figures/DT - overfitted\")\n",
    "plt.show();"
   ]
  },
  {
   "cell_type": "markdown",
   "id": "9da6064b",
   "metadata": {},
   "source": [
    "Check the performance of the initial model using the VALIDATION SET\n"
   ]
  },
  {
   "cell_type": "markdown",
   "id": "94ab1d2d",
   "metadata": {},
   "source": [
    "Confusion matrix:"
   ]
  },
  {
   "cell_type": "code",
   "execution_count": null,
   "id": "9cebcb56",
   "metadata": {},
   "outputs": [],
   "source": [
    "ConfusionMatrixDisplay.from_estimator(clf_dt, X_valid_minus2, y_valid_minus2, display_labels=['Not Susceptible', 'Susceptible'], cmap=plt.cm.Blues)\n",
    "#plt.savefig('D:/Allaus/Data_analysis/ML/cm_initial.png', dpi=300)\n",
    "#plt.title(\"Confusion Matrix\")\n",
    "plt.show()"
   ]
  },
  {
   "cell_type": "markdown",
   "id": "c9b1ec39",
   "metadata": {},
   "source": [
    "Check other performance metrics:"
   ]
  },
  {
   "cell_type": "code",
   "execution_count": null,
   "id": "6f9e6bd4",
   "metadata": {},
   "outputs": [],
   "source": [
    "p_pred = clf_dt.predict_proba(X_valid_minus2)       \n",
    "y_pred = clf_dt.predict(X_valid_minus2)"
   ]
  },
  {
   "cell_type": "code",
   "execution_count": null,
   "id": "03962015",
   "metadata": {},
   "outputs": [],
   "source": [
    "#p_pred"
   ]
  },
  {
   "cell_type": "code",
   "execution_count": null,
   "id": "796b092f",
   "metadata": {},
   "outputs": [],
   "source": [
    "score = clf_dt.score(X_valid_minus2, y_valid_minus2)\n",
    "score"
   ]
  },
  {
   "cell_type": "code",
   "execution_count": null,
   "id": "91585eb8",
   "metadata": {},
   "outputs": [],
   "source": [
    "print(metrics.accuracy_score(y_valid_minus2, y_pred))    # same as above cell, different way"
   ]
  },
  {
   "cell_type": "markdown",
   "id": "6a5bda41",
   "metadata": {},
   "source": [
    "Check the performance of the initial model on unseen data (TEST SET)"
   ]
  },
  {
   "cell_type": "markdown",
   "id": "149817ba",
   "metadata": {},
   "source": [
    "Confusion matrix:"
   ]
  },
  {
   "cell_type": "code",
   "execution_count": null,
   "id": "57e75778",
   "metadata": {},
   "outputs": [],
   "source": [
    "ConfusionMatrixDisplay.from_estimator(clf_dt, X_test, y_test, display_labels=['Not Susceptible', 'Susceptible'], cmap=plt.cm.Blues)\n",
    "#plt.savefig('D:/Allaus/Data_analysis/ML/cm_initial.png', dpi=300)\n",
    "plt.show()"
   ]
  },
  {
   "cell_type": "markdown",
   "id": "622bd0d5",
   "metadata": {},
   "source": [
    "Check other performance metrics:"
   ]
  },
  {
   "cell_type": "code",
   "execution_count": null,
   "id": "c283f2bb",
   "metadata": {},
   "outputs": [],
   "source": [
    "p_pred = clf_dt.predict_proba(X_test)       \n",
    "y_pred = clf_dt.predict(X_test)"
   ]
  },
  {
   "cell_type": "code",
   "execution_count": null,
   "id": "e0453e8f",
   "metadata": {},
   "outputs": [],
   "source": [
    "score = clf_dt.score(X_test, y_test)     \n",
    "score                                    # Not amazing accuracy, thus I need to optimize the model\n",
    "                                         # Here I chose to do pruning by optimizing the alpha parameter instead of\n",
    "                                         # doing hyperparameter tuning, e.g., with GridSearchCV for all (or many of)\n",
    "                                         # the parameters that the Decision Tree in sklearn has"
   ]
  },
  {
   "cell_type": "code",
   "execution_count": null,
   "id": "7d1a208d",
   "metadata": {},
   "outputs": [],
   "source": [
    "print(metrics.accuracy_score(y_test, y_pred))    # same as above cell, different way"
   ]
  },
  {
   "cell_type": "code",
   "execution_count": null,
   "id": "e9585f2f",
   "metadata": {},
   "outputs": [],
   "source": [
    "print(metrics.recall_score(y_test, y_pred, pos_label=0))    "
   ]
  },
  {
   "cell_type": "code",
   "execution_count": null,
   "id": "bd0730c8",
   "metadata": {},
   "outputs": [],
   "source": [
    "print(metrics.precision_score(y_test, y_pred, pos_label=1))"
   ]
  },
  {
   "cell_type": "markdown",
   "id": "86eb2fa0",
   "metadata": {},
   "source": [
    "Compare the model's accuracy to null accuracy \\\n",
    "\\\n",
    "**Null Accuracy:** the accuracy that could be achieved by always predicting the most frequent class "
   ]
  },
  {
   "cell_type": "code",
   "execution_count": null,
   "id": "6504bf3a",
   "metadata": {},
   "outputs": [],
   "source": [
    "y_valid.value_counts()       # pretty balanced"
   ]
  },
  {
   "cell_type": "code",
   "execution_count": null,
   "id": "10d9768f",
   "metadata": {},
   "outputs": [],
   "source": [
    "# Calculate the percentage of ones\n",
    "a = y_valid.mean()\n",
    "a"
   ]
  },
  {
   "cell_type": "code",
   "execution_count": null,
   "id": "636db859",
   "metadata": {},
   "outputs": [],
   "source": [
    "# Calculate the percentage of zeros\n",
    "b = 1 - y_valid.mean()\n",
    "b"
   ]
  },
  {
   "cell_type": "code",
   "execution_count": null,
   "id": "0b5a2a7e",
   "metadata": {},
   "outputs": [],
   "source": [
    "# Null accuracy for binary classification problems\n",
    "if a > b:\n",
    "    print(a)\n",
    "else:\n",
    "    print(b)"
   ]
  },
  {
   "cell_type": "markdown",
   "id": "c0bb01e0",
   "metadata": {},
   "source": [
    "**Optimization with Cost Complexity Pruning**"
   ]
  },
  {
   "cell_type": "markdown",
   "id": "93204a11",
   "metadata": {},
   "source": [
    "Cost Complexity Pruning Part 1: Visualize alpha"
   ]
  },
  {
   "cell_type": "code",
   "execution_count": null,
   "id": "7c5ab09f",
   "metadata": {},
   "outputs": [],
   "source": [
    "path = clf_dt.cost_complexity_pruning_path(X_train_minus2, y_train_minus2)\n",
    "ccp_alphas = path.ccp_alphas\n",
    "ccp_alphas = ccp_alphas[:-1]\n",
    "\n",
    "clf_dts = []\n",
    "for ccp_alpha in ccp_alphas:\n",
    "    clf_dt = DecisionTreeClassifier(random_state = 0, ccp_alpha = ccp_alpha)\n",
    "    clf_dt.fit(X_train_minus2, y_train_minus2)\n",
    "    clf_dts.append(clf_dt)"
   ]
  },
  {
   "cell_type": "code",
   "execution_count": null,
   "id": "6902976a",
   "metadata": {},
   "outputs": [],
   "source": [
    "train_scores = [clf_dt.score(X_train_minus2, y_train_minus2) for clf_dt in clf_dts]\n",
    "valid_scores = [clf_dt.score(X_valid_minus2, y_valid_minus2) for clf_dt in clf_dts]\n",
    "\n",
    "fig, ax = plt.subplots()\n",
    "ax.set_xlabel('alpha')\n",
    "ax.set_ylabel('accuracy')\n",
    "ax.set_title('Accuracy vs alpha for training and validation sets')\n",
    "ax.plot(ccp_alphas, train_scores, marker = 'o', label='training', drawstyle='steps-post')\n",
    "ax.plot(ccp_alphas, valid_scores, marker = 'o', label='validation', drawstyle='steps-post')\n",
    "ax.legend()\n",
    "#plt.savefig(\"D:/Allaus/Manuscript/pictures_and_figures/DT - alpha vs accuracy\")\n",
    "plt.show();"
   ]
  },
  {
   "cell_type": "markdown",
   "id": "ed713ea7",
   "metadata": {},
   "source": [
    "Cost Complexity Pruning Part 2: Cross validation for finding the best alpha"
   ]
  },
  {
   "cell_type": "code",
   "execution_count": null,
   "id": "6f3591e6",
   "metadata": {},
   "outputs": [],
   "source": [
    "clf_dt = DecisionTreeClassifier(random_state=42, ccp_alpha=0.02)      \n",
    "\n",
    "scores = cross_val_score(clf_dt, X_train_minus2, y_train_minus2, cv=10)\n",
    "df = pd.DataFrame(data={'tree': range(10), 'accuracy': scores})\n",
    "\n",
    "df.plot(x='tree', y='accuracy', marker='o', linestyle='--');\n"
   ]
  },
  {
   "cell_type": "code",
   "execution_count": null,
   "id": "f318e108",
   "metadata": {},
   "outputs": [],
   "source": [
    "alpha_loop_values = []\n",
    "\n",
    "for ccp_alpha in ccp_alphas:\n",
    "    clf_dt = DecisionTreeClassifier(random_state = 0, ccp_alpha = ccp_alpha)\n",
    "    scores = cross_val_score(clf_dt, X_train_minus2, y_train_minus2, cv=10)\n",
    "    alpha_loop_values.append([ccp_alpha, np.mean(scores), np.std(scores)])\n",
    "    \n",
    "alpha_results = pd.DataFrame(alpha_loop_values, columns=['alpha', 'mean_accuracy', 'std'])\n",
    "\n",
    "alpha_results.plot(x='alpha',\n",
    "                   y='mean_accuracy',\n",
    "                   yerr='std',\n",
    "                   marker='o',\n",
    "                   linestyle='--');"
   ]
  },
  {
   "cell_type": "code",
   "execution_count": null,
   "id": "da24f1a1",
   "metadata": {},
   "outputs": [],
   "source": [
    "alpha_results[(alpha_results['alpha'] > 0.005)\n",
    "             & (alpha_results['alpha'] < 0.02)]"
   ]
  },
  {
   "cell_type": "code",
   "execution_count": null,
   "id": "797f74e8",
   "metadata": {},
   "outputs": [],
   "source": [
    "ideal_ccp_alpha = 0.014"
   ]
  },
  {
   "cell_type": "markdown",
   "id": "24b0c830",
   "metadata": {},
   "source": [
    "Build and train a pruned version of the tree"
   ]
  },
  {
   "cell_type": "code",
   "execution_count": null,
   "id": "9e27ae8c",
   "metadata": {},
   "outputs": [],
   "source": [
    "X_train"
   ]
  },
  {
   "cell_type": "code",
   "execution_count": null,
   "id": "7001fda1",
   "metadata": {},
   "outputs": [],
   "source": [
    "clf_dt_pruned = DecisionTreeClassifier(random_state=42, ccp_alpha = ideal_ccp_alpha) \n",
    "clf_dt_pruned = clf_dt_pruned.fit(X, y)"
   ]
  },
  {
   "cell_type": "markdown",
   "id": "dea24cdb",
   "metadata": {},
   "source": [
    "Check the performance of the pruned tree on the VALIDATION SET "
   ]
  },
  {
   "cell_type": "markdown",
   "id": "f5b71921",
   "metadata": {},
   "source": [
    "Confusion matrix:"
   ]
  },
  {
   "cell_type": "code",
   "execution_count": null,
   "id": "51de2730",
   "metadata": {},
   "outputs": [],
   "source": [
    "plt.figure(figsize=(12, 8))\n",
    "ConfusionMatrixDisplay.from_estimator(clf_dt_pruned, X_valid_minus2, y_valid_minus2, display_labels=['Not Susceptible', 'Susceptible'], cmap=plt.cm.Blues);\n",
    "#plt.yticks(rotation = 90)\n",
    "#plt.tight_layout\n",
    "#plt.savefig('D:/Allaus/Manuscript/pictures_and_figures/DT - CM_pruned_2', dpi=300, bbox_inches='tight')\n",
    "plt.show();\n",
    "# plt.yticks\n"
   ]
  },
  {
   "cell_type": "markdown",
   "id": "3aca9b9c",
   "metadata": {},
   "source": [
    "Other metrics"
   ]
  },
  {
   "cell_type": "code",
   "execution_count": null,
   "id": "80ac510b",
   "metadata": {},
   "outputs": [],
   "source": [
    "p_pred = clf_dt_pruned.predict_proba(X_valid_minus2)\n",
    "y_pred = clf_dt_pruned.predict(X_valid_minus2)"
   ]
  },
  {
   "cell_type": "code",
   "execution_count": null,
   "id": "b3af6d06",
   "metadata": {},
   "outputs": [],
   "source": [
    "# # Store the predicted probabilities for class 1\n",
    "\n",
    "# p_aval = p_pred[:,1]\n",
    "# p_aval"
   ]
  },
  {
   "cell_type": "code",
   "execution_count": null,
   "id": "39cba534",
   "metadata": {},
   "outputs": [],
   "source": [
    "score = clf_dt_pruned.score(X_valid_minus2, y_valid_minus2)\n",
    "score"
   ]
  },
  {
   "cell_type": "code",
   "execution_count": null,
   "id": "71660a94",
   "metadata": {},
   "outputs": [],
   "source": [
    "np.mean(cross_val_score(clf_dt_pruned, X_valid, y_valid, cv=10))"
   ]
  },
  {
   "cell_type": "code",
   "execution_count": null,
   "id": "f5a73160",
   "metadata": {},
   "outputs": [],
   "source": [
    "print(metrics.accuracy_score(y_valid, y_pred))       # same as above, different way"
   ]
  },
  {
   "cell_type": "code",
   "execution_count": null,
   "id": "7955d536",
   "metadata": {},
   "outputs": [],
   "source": [
    "print(classification_report(y_valid, y_pred))"
   ]
  },
  {
   "cell_type": "code",
   "execution_count": null,
   "id": "38a9d5e9",
   "metadata": {},
   "outputs": [],
   "source": [
    "print(metrics.recall_score(y_valid, y_pred, pos_label=1))"
   ]
  },
  {
   "cell_type": "code",
   "execution_count": null,
   "id": "1dfa35e3",
   "metadata": {},
   "outputs": [],
   "source": [
    "print(metrics.precision_score(y_valid, y_pred, pos_label=1))"
   ]
  },
  {
   "cell_type": "markdown",
   "id": "73d44c8f",
   "metadata": {},
   "source": [
    "Check the performance of the pruned tree on the TEST SET (**only at the very end**)"
   ]
  },
  {
   "cell_type": "markdown",
   "id": "0312fabb",
   "metadata": {},
   "source": [
    "Confusion matrix:"
   ]
  },
  {
   "cell_type": "code",
   "execution_count": null,
   "id": "050b2874",
   "metadata": {},
   "outputs": [],
   "source": [
    "clf_dt_pruned.classes_"
   ]
  },
  {
   "cell_type": "code",
   "execution_count": null,
   "id": "e5a0981c",
   "metadata": {},
   "outputs": [],
   "source": [
    "X_test"
   ]
  },
  {
   "cell_type": "code",
   "execution_count": null,
   "id": "ab0478b8",
   "metadata": {},
   "outputs": [],
   "source": [
    "X_depl"
   ]
  },
  {
   "cell_type": "code",
   "execution_count": null,
   "id": "c2426942",
   "metadata": {},
   "outputs": [],
   "source": [
    "ConfusionMatrixDisplay.from_estimator(clf_dt_pruned, X_test_minus2, y_test_minus2, display_labels=['Not Susceptible', 'Susceptible'], cmap=plt.cm.Blues)\n",
    "#plt.savefig('D:/Allaus/Manuscript/pictures_and_figures/DT - CM test', dpi=300, bbox_inches='tight')\n",
    "plt.show()\n"
   ]
  },
  {
   "cell_type": "markdown",
   "id": "6e811279",
   "metadata": {},
   "source": [
    "Check other performance metrics"
   ]
  },
  {
   "cell_type": "code",
   "execution_count": null,
   "id": "fe5f3b65",
   "metadata": {},
   "outputs": [],
   "source": [
    "p_pred = clf_dt_pruned.predict_proba(X_test_minus2)       \n",
    "y_pred = clf_dt_pruned.predict(X_test_minus2)"
   ]
  },
  {
   "cell_type": "code",
   "execution_count": null,
   "id": "11ef136f",
   "metadata": {},
   "outputs": [],
   "source": [
    "score = clf_dt_pruned.score(X_test_minus2, y_test_minus2)\n",
    "score"
   ]
  },
  {
   "cell_type": "code",
   "execution_count": null,
   "id": "46d46298",
   "metadata": {},
   "outputs": [],
   "source": [
    "print(metrics.recall_score(y_test, y_pred, pos_label=1))"
   ]
  },
  {
   "cell_type": "code",
   "execution_count": null,
   "id": "d70534f4",
   "metadata": {},
   "outputs": [],
   "source": [
    "print(metrics.precision_score(y_test, y_pred, pos_label=1))"
   ]
  },
  {
   "cell_type": "code",
   "execution_count": null,
   "id": "bf105962",
   "metadata": {},
   "outputs": [],
   "source": [
    "np.mean(cross_val_score(clf_dt_pruned, X_test_minus2, y_test_minus2, cv=10))"
   ]
  },
  {
   "cell_type": "markdown",
   "id": "89b719cb",
   "metadata": {},
   "source": [
    "Plot the pruned tree"
   ]
  },
  {
   "cell_type": "code",
   "execution_count": null,
   "id": "7b9784df",
   "metadata": {
    "collapsed": true
   },
   "outputs": [],
   "source": [
    "plt.figure(figsize=(15, 7.5))\n",
    "# plt.savefig('D:/Allaus/Data_analysis/ML/tree.png', dpi=300)\n",
    "plot_tree(clf_dt_pruned,\n",
    "         filled = True,\n",
    "         rounded = True,\n",
    "         class_names = ['Not Susceptible', 'Susceptible'],\n",
    "         feature_names = X.columns); \n",
    "#plt.savefig(\"D:/Allaus/Manuscript/pictures_and_figures/DT - for map\")\n",
    "plt.show();"
   ]
  },
  {
   "cell_type": "markdown",
   "id": "1c5f56ac",
   "metadata": {},
   "source": [
    "Plot the **rules** of the pruned tree**"
   ]
  },
  {
   "cell_type": "code",
   "execution_count": null,
   "id": "0aa76672",
   "metadata": {},
   "outputs": [],
   "source": [
    "text_representation = tree.export_text(clf_dt_pruned, feature_names=(list(X.columns)), show_weights=True)\n",
    "print(text_representation)"
   ]
  },
  {
   "cell_type": "markdown",
   "id": "5bc99641",
   "metadata": {},
   "source": [
    "Visualization with dtreeviz"
   ]
  },
  {
   "cell_type": "code",
   "execution_count": null,
   "id": "f6d6a488",
   "metadata": {},
   "outputs": [],
   "source": [
    "viz = dtreeviz(clf_dt_pruned,\n",
    "               X_valid,\n",
    "               y_valid,\n",
    "               target_name = 'Avalanche',\n",
    "               feature_names = X_train.columns)"
   ]
  },
  {
   "cell_type": "code",
   "execution_count": null,
   "id": "cae3a71b",
   "metadata": {},
   "outputs": [],
   "source": [
    "viz"
   ]
  },
  {
   "cell_type": "markdown",
   "id": "e7f7c178",
   "metadata": {},
   "source": [
    "### 2) Random forest"
   ]
  },
  {
   "cell_type": "code",
   "execution_count": null,
   "id": "6992ab0e",
   "metadata": {},
   "outputs": [],
   "source": [
    "from sklearn.ensemble import RandomForestClassifier"
   ]
  },
  {
   "cell_type": "markdown",
   "id": "4d7e9942",
   "metadata": {},
   "source": [
    "Build the initial model"
   ]
  },
  {
   "cell_type": "code",
   "execution_count": null,
   "id": "0b1a5014",
   "metadata": {},
   "outputs": [],
   "source": [
    "clf_rf = RandomForestClassifier(criterion='gini', max_depth=8, min_samples_split=10, random_state=5)\n",
    "clf_rf.fit(X_train_minus2, y_train_minus2)"
   ]
  },
  {
   "cell_type": "code",
   "execution_count": null,
   "id": "96e417dd",
   "metadata": {},
   "outputs": [],
   "source": [
    "# Feature importances\n",
    "clf_rf.feature_importances_"
   ]
  },
  {
   "cell_type": "code",
   "execution_count": null,
   "id": "6a17f0c9",
   "metadata": {},
   "outputs": [],
   "source": [
    "features = X_train.columns\n",
    "importances=clf_rf.feature_importances_\n",
    "indices=np.argsort(importances)\n",
    "\n",
    "plt.title(\"Feature Importances\")\n",
    "plt.barh(range(len(indices)), importances[indices], color='g', align='center')\n",
    "plt.yticks(range(len(indices)), [features[i] for i in indices])\n",
    "plt.xlabel(\"Relative importance\")\n",
    "plt.show()"
   ]
  },
  {
   "cell_type": "markdown",
   "id": "21c35dda",
   "metadata": {},
   "source": [
    "Check the accuracy of the initial model (VALIDATION SET)"
   ]
  },
  {
   "cell_type": "code",
   "execution_count": null,
   "id": "c93ff699",
   "metadata": {},
   "outputs": [],
   "source": [
    "ConfusionMatrixDisplay.from_estimator(clf_rf, X_valid_minus2, y_valid_minus2, display_labels=['Not Susceptible', 'Susceptible'], cmap=plt.cm.Blues)\n",
    "#plt.savefig('D:/Allaus/Data_analysis/ML/cm_initial.png', dpi=300)\n",
    "plt.show()"
   ]
  },
  {
   "cell_type": "code",
   "execution_count": null,
   "id": "78fdc39a",
   "metadata": {},
   "outputs": [],
   "source": [
    "y_pred = clf_rf.predict(X_valid_minus2)"
   ]
  },
  {
   "cell_type": "code",
   "execution_count": null,
   "id": "535e2066",
   "metadata": {},
   "outputs": [],
   "source": [
    "accuracy_score(y_valid_minus2, y_pred)"
   ]
  },
  {
   "cell_type": "code",
   "execution_count": null,
   "id": "60ce8642",
   "metadata": {},
   "outputs": [],
   "source": [
    "# This is an alternative to the train-valid-test split, that shows us the variance of the accuracy \n",
    "# by bootstrapping the X with 10-fold cross-validation\n",
    "\n",
    "np.mean(cross_val_score(clf_rf, X_valid_minus2, y_valid_minus2, cv=10))"
   ]
  },
  {
   "cell_type": "code",
   "execution_count": null,
   "id": "d188090f",
   "metadata": {},
   "outputs": [],
   "source": [
    "print(classification_report(y_valid_minus2, y_pred))"
   ]
  },
  {
   "cell_type": "markdown",
   "id": "5b321fcb",
   "metadata": {},
   "source": [
    "Check the accuracy of the initial model (TEST SET)"
   ]
  },
  {
   "cell_type": "code",
   "execution_count": null,
   "id": "c745fef5",
   "metadata": {},
   "outputs": [],
   "source": [
    "ConfusionMatrixDisplay.from_estimator(clf_rf, X_test, y_test, display_labels=['Susceptible', 'Not susceptible'], cmap=plt.cm.Blues)\n",
    "#plt.savefig('D:/Allaus/Data_analysis/ML/cm_initial.png', dpi=300)\n",
    "plt.show()"
   ]
  },
  {
   "cell_type": "code",
   "execution_count": null,
   "id": "5f39de9a",
   "metadata": {},
   "outputs": [],
   "source": [
    "y_pred = clf_rf.predict(X_test)\n",
    "accuracy_score(y_test, y_pred)          "
   ]
  },
  {
   "cell_type": "code",
   "execution_count": null,
   "id": "c1fd3704",
   "metadata": {},
   "outputs": [],
   "source": [
    "print(metrics.classification_report(y_test, y_pred))"
   ]
  },
  {
   "cell_type": "markdown",
   "id": "5d4785bb",
   "metadata": {},
   "source": [
    "Optimization"
   ]
  },
  {
   "cell_type": "markdown",
   "id": "2297ae79",
   "metadata": {},
   "source": [
    "**Alternative A:** RandomizedSearchCV() to make the optimization quicker"
   ]
  },
  {
   "cell_type": "code",
   "execution_count": null,
   "id": "2e77f2ea",
   "metadata": {},
   "outputs": [],
   "source": [
    "model = RandomForestClassifier(n_jobs = -1)\n",
    "\n",
    "parameters = {'min_samples_split': sp_randInt(2, 8),\n",
    "              'criterion': ('gini', 'entropy'),\n",
    "              'n_estimators': sp_randInt(10, 200),\n",
    "              'max_depth': sp_randInt(5, 8)}\n",
    "\n",
    "rf_grid_randm = RandomizedSearchCV(estimator=model, param_distributions=parameters, cv=10, n_iter=100, n_jobs=-1)\n",
    "\n",
    "rf_grid_randm.fit(X_train, y_train)\n",
    "\n",
    "print(rf_grid_randm.best_estimator_)\n",
    "print(rf_grid_randm.best_score_)\n",
    "print(rf_grid_randm.best_params_)           "
   ]
  },
  {
   "cell_type": "markdown",
   "id": "4a7eadcb",
   "metadata": {},
   "source": [
    "**Alterntive B:** GridSearchCV(), more thorough but also slower"
   ]
  },
  {
   "cell_type": "code",
   "execution_count": null,
   "id": "02af56d7",
   "metadata": {},
   "outputs": [],
   "source": [
    "parameters = {'n_estimators': (100, 200),\n",
    "              'criterion': ('gini', 'entropy'),\n",
    "              'max_depth': (3, 5, 7),\n",
    "              'max_features': ['sqrt'],\n",
    "              'min_samples_split': (2, 4, 6, 8),\n",
    "              'min_weight_fraction_leaf': (0.0, 0.1, 0.2, 0.3)\n",
    "}"
   ]
  },
  {
   "cell_type": "code",
   "execution_count": null,
   "id": "e0c42090",
   "metadata": {},
   "outputs": [],
   "source": [
    "rf_grid = GridSearchCV(RandomForestClassifier(n_jobs = -1, oob_score = False), param_grid = parameters, cv=10, verbose = True)"
   ]
  },
  {
   "cell_type": "code",
   "execution_count": null,
   "id": "35f470d5",
   "metadata": {},
   "outputs": [],
   "source": [
    "rf_grid_model = rf_grid.fit(X_train, y_train)"
   ]
  },
  {
   "cell_type": "code",
   "execution_count": null,
   "id": "3998025b",
   "metadata": {},
   "outputs": [],
   "source": [
    "rf_grid_model.best_estimator_         "
   ]
  },
  {
   "cell_type": "code",
   "execution_count": null,
   "id": "aef7a511",
   "metadata": {},
   "outputs": [],
   "source": [
    "rf_grid_model.best_score_"
   ]
  },
  {
   "cell_type": "markdown",
   "id": "d1bf0f08",
   "metadata": {},
   "source": [
    "Build the model with the best estimates"
   ]
  },
  {
   "cell_type": "code",
   "execution_count": null,
   "id": "46f7efbb",
   "metadata": {
    "collapsed": true
   },
   "outputs": [],
   "source": [
    "clf_rf = RandomForestClassifier(criterion='entropy', max_depth=7, min_samples_split=4, n_estimators=139,\n",
    "                       n_jobs=-1, random_state=42)\n",
    "clf_rf.fit(X_train, y_train)\n"
   ]
  },
  {
   "cell_type": "code",
   "execution_count": null,
   "id": "64111f4b",
   "metadata": {},
   "outputs": [],
   "source": [
    "plt.figure(figsize=(12, 8))\n",
    "ConfusionMatrixDisplay.from_estimator(clf_rf, X_valid_minus2, y_valid_minus2, display_labels=['Not susceptible', 'Susceptible'], cmap=plt.cm.Blues)\n",
    "#plt.savefig('D:/Allaus/Manuscript/pictures_and_figures/RF optimized - CM', dpi=300, bbox_inches='tight')\n",
    "plt.show();\n"
   ]
  },
  {
   "cell_type": "code",
   "execution_count": null,
   "id": "cf7954ec",
   "metadata": {},
   "outputs": [],
   "source": [
    "#clf_rf.estimators_"
   ]
  },
  {
   "cell_type": "code",
   "execution_count": null,
   "id": "6378d9a1",
   "metadata": {},
   "outputs": [],
   "source": [
    "len(clf_rf.estimators_)      # of course"
   ]
  },
  {
   "cell_type": "code",
   "execution_count": null,
   "id": "d64b1636",
   "metadata": {
    "collapsed": true
   },
   "outputs": [],
   "source": [
    "max = 0\n",
    "idx_max = 0\n",
    "min = 1\n",
    "idx_min = 0\n",
    "for i in range(len(clf_rf.estimators_)):\n",
    "    if clf_rf.estimators_[i].score(X_valid, y_valid) > max:\n",
    "        max = clf_rf.estimators_[i].score(X_valid, y_valid)\n",
    "        idx_max = i\n",
    "    elif clf_rf.estimators_[i].score(X_valid, y_valid) < min:\n",
    "        min = clf_rf.estimators_[i].score(X_valid, y_valid)\n",
    "        idx_min = i\n",
    "\n",
    "print(idx_max)\n",
    "print(max)\n",
    "print(idx_min)\n",
    "print(min)"
   ]
  },
  {
   "cell_type": "code",
   "execution_count": null,
   "id": "1a6a1e37",
   "metadata": {},
   "outputs": [],
   "source": [
    "clf_rf.estimators_[43].score(X_valid.values, y_valid.values)         # check for the best estimator"
   ]
  },
  {
   "cell_type": "code",
   "execution_count": null,
   "id": "6e43ac72",
   "metadata": {},
   "outputs": [],
   "source": [
    "y_pred = clf_rf.predict(X_valid_minus2)"
   ]
  },
  {
   "cell_type": "code",
   "execution_count": null,
   "id": "62a398d4",
   "metadata": {},
   "outputs": [],
   "source": [
    "accuracy_score(y_valid_minus2, y_pred)"
   ]
  },
  {
   "cell_type": "code",
   "execution_count": null,
   "id": "236b276e",
   "metadata": {},
   "outputs": [],
   "source": [
    "clf_rf.score(X_valid, y_valid)"
   ]
  },
  {
   "cell_type": "code",
   "execution_count": null,
   "id": "5fb877e6",
   "metadata": {
    "scrolled": true
   },
   "outputs": [],
   "source": [
    "np.mean(cross_val_score(clf_rf, X_valid_minus2, y_valid_minus2, cv=10))"
   ]
  },
  {
   "cell_type": "code",
   "execution_count": null,
   "id": "3630ce6e",
   "metadata": {},
   "outputs": [],
   "source": [
    "print(metrics.recall_score(y_valid, y_pred, pos_label=1))"
   ]
  },
  {
   "cell_type": "code",
   "execution_count": null,
   "id": "51e7cda9",
   "metadata": {},
   "outputs": [],
   "source": [
    "print(metrics.precision_score(y_valid, y_pred, pos_label=1))"
   ]
  },
  {
   "cell_type": "code",
   "execution_count": null,
   "id": "68e6b1ba",
   "metadata": {
    "collapsed": true
   },
   "outputs": [],
   "source": [
    "plt.figure(figsize=(15, 7.5))\n",
    "# plt.savefig('D:/Allaus/Data_analysis/ML/tree.png', dpi=300)\n",
    "plot_tree(clf_rf[43],\n",
    "         filled = True,\n",
    "         rounded = True,\n",
    "         class_names = ['Not susceptible', 'Susceptible'],\n",
    "         feature_names = X_train.columns);                     "
   ]
  },
  {
   "cell_type": "code",
   "execution_count": null,
   "id": "de3349e1",
   "metadata": {
    "collapsed": true
   },
   "outputs": [],
   "source": [
    "X_train.columns"
   ]
  },
  {
   "cell_type": "code",
   "execution_count": null,
   "id": "29003648",
   "metadata": {
    "collapsed": true
   },
   "outputs": [],
   "source": [
    "lista = X_train.columns.values.tolist()\n",
    "#lista"
   ]
  },
  {
   "cell_type": "code",
   "execution_count": null,
   "id": "25e0fdad",
   "metadata": {
    "collapsed": true
   },
   "outputs": [],
   "source": [
    "text_repr = tree.export_text(clf_rf.estimators_[43], feature_names = lista, show_weights=True)  \n",
    "print(text_repr)  "
   ]
  },
  {
   "cell_type": "code",
   "execution_count": null,
   "id": "4a2c3c06",
   "metadata": {
    "collapsed": true
   },
   "outputs": [],
   "source": [
    "features = X_train.columns\n",
    "importances=clf_rf.feature_importances_\n",
    "indices=np.argsort(importances)\n",
    "\n",
    "plt.title(\"Feature Importances\")\n",
    "plt.barh(range(len(indices)), importances[indices], color='g', align='center')\n",
    "plt.yticks(range(len(indices)), [features[i] for i in indices])\n",
    "plt.xlabel(\"Relative importance\")\n",
    "plt.savefig(\"D:/Allaus/Manuscript/pictures_and_figures/RF - feature importance\", dpi=300, bbox_inches='tight')\n",
    "plt.show()"
   ]
  },
  {
   "cell_type": "markdown",
   "id": "87d33177",
   "metadata": {},
   "source": [
    "Performance on TEST SET"
   ]
  },
  {
   "cell_type": "code",
   "execution_count": null,
   "id": "5320970c",
   "metadata": {},
   "outputs": [],
   "source": [
    "ConfusionMatrixDisplay.from_estimator(clf_rf, X_test_minus2, y_test_minus2, display_labels=['Susceptible', 'Not susceptible'], cmap=plt.cm.Blues)\n",
    "#plt.savefig('D:/Allaus/Manuscript/pictures_and_figures/RF - CM test', dpi=300, bbox_inches='tight')\n",
    "plt.show()"
   ]
  },
  {
   "cell_type": "code",
   "execution_count": null,
   "id": "0aad39bf",
   "metadata": {},
   "outputs": [],
   "source": [
    "y_pred = clf_rf.predict(X_test_minus2)"
   ]
  },
  {
   "cell_type": "code",
   "execution_count": null,
   "id": "061600b3",
   "metadata": {},
   "outputs": [],
   "source": [
    "print(classification_report(y_test_minus2, y_pred))"
   ]
  },
  {
   "cell_type": "code",
   "execution_count": null,
   "id": "0d543aa7",
   "metadata": {},
   "outputs": [],
   "source": [
    "np.mean(cross_val_score(clf_rf, X_test_minus2, y_test_minus2, cv=10))"
   ]
  },
  {
   "cell_type": "markdown",
   "id": "4c5ea117",
   "metadata": {},
   "source": [
    "### 3) Extra Trees"
   ]
  },
  {
   "cell_type": "code",
   "execution_count": null,
   "id": "61c6db93",
   "metadata": {},
   "outputs": [],
   "source": [
    "from sklearn.ensemble import ExtraTreesClassifier"
   ]
  },
  {
   "cell_type": "markdown",
   "id": "90af104e",
   "metadata": {},
   "source": [
    "Build the initial model"
   ]
  },
  {
   "cell_type": "code",
   "execution_count": null,
   "id": "573bae69",
   "metadata": {},
   "outputs": [],
   "source": [
    "clf_et = ExtraTreesClassifier(criterion='entropy', random_state=5)\n",
    "clf_et.fit(X_train, y_train)"
   ]
  },
  {
   "cell_type": "code",
   "execution_count": null,
   "id": "5e647d84",
   "metadata": {},
   "outputs": [],
   "source": [
    "# Feature importances\n",
    "clf_et.feature_importances_"
   ]
  },
  {
   "cell_type": "code",
   "execution_count": null,
   "id": "892f00fc",
   "metadata": {},
   "outputs": [],
   "source": [
    "features = X_train.columns\n",
    "importances=clf_et.feature_importances_\n",
    "indices=np.argsort(importances)\n",
    "\n",
    "plt.title(\"Feature Importances\")\n",
    "plt.barh(range(len(indices)), importances[indices], color='g', align='center')\n",
    "plt.yticks(range(len(indices)), [features[i] for i in indices])\n",
    "plt.xlabel(\"Relative importance\")\n",
    "plt.show()"
   ]
  },
  {
   "cell_type": "markdown",
   "id": "eb655ab6",
   "metadata": {},
   "source": [
    "Check the accuracy of the initial model (VALIDATION SET)"
   ]
  },
  {
   "cell_type": "code",
   "execution_count": null,
   "id": "f8023e4f",
   "metadata": {},
   "outputs": [],
   "source": [
    "ConfusionMatrixDisplay.from_estimator(clf_et, X_valid, y_valid, display_labels=['Not susceptible', 'Susceptible'], cmap=plt.cm.Blues)\n",
    "#plt.savefig('D:/Allaus/Data_analysis/ML/cm_initial.png', dpi=300)\n",
    "plt.show()"
   ]
  },
  {
   "cell_type": "code",
   "execution_count": null,
   "id": "6e8adcf7",
   "metadata": {},
   "outputs": [],
   "source": [
    "y_pred = clf_et.predict(X_valid)"
   ]
  },
  {
   "cell_type": "code",
   "execution_count": null,
   "id": "eb22cb86",
   "metadata": {},
   "outputs": [],
   "source": [
    "accuracy_score(y_valid, y_pred)"
   ]
  },
  {
   "cell_type": "code",
   "execution_count": null,
   "id": "911796a9",
   "metadata": {},
   "outputs": [],
   "source": [
    "cross_val_score(clf_et, X_valid, y_valid, cv=10) "
   ]
  },
  {
   "cell_type": "markdown",
   "id": "d0913066",
   "metadata": {},
   "source": [
    "Optimization"
   ]
  },
  {
   "cell_type": "code",
   "execution_count": null,
   "id": "114e2da1",
   "metadata": {},
   "outputs": [],
   "source": [
    "# # Alternative A: Very slow, I'm not going to use it\n",
    "\n",
    "# parameters = {'n_estimators': (10, 30, 50, 70, 90, 100),\n",
    "#               'criterion': ('gini', 'entropy', 'log_loss'),\n",
    "#               'max_depth': (3, 5, 7, 9),\n",
    "#               'max_features': ['sqrt'],\n",
    "#               'min_samples_split': (2, 4, 6),\n",
    "#               'min_weight_fraction_leaf': (0.0, 0.1, 0.2, 0.3)\n",
    "# }\n",
    "\n",
    "# et_grid = GridSearchCV(ExtraTreesClassifier(n_jobs = -1, oob_score = False), param_grid = parameters, cv=10, verbose = True)\n"
   ]
  },
  {
   "cell_type": "code",
   "execution_count": null,
   "id": "e983f9b6",
   "metadata": {},
   "outputs": [],
   "source": [
    "# et_grid_model = et_grid.fit(X_train, y_train)\n",
    "# et_grid_model.best_estimator_ \n",
    "# et_grid_model.best_score_\n",
    "# et_grid_model.best_params_"
   ]
  },
  {
   "cell_type": "code",
   "execution_count": null,
   "id": "bb0d0b26",
   "metadata": {},
   "outputs": [],
   "source": [
    "# Alternative B: A looot faster\n",
    "\n",
    "model = ExtraTreesClassifier(n_jobs = -1)\n",
    "\n",
    "parameters = {'min_samples_split': sp_randInt(2, 10),\n",
    "              'criterion': ('gini', 'entropy', 'log_loss'),\n",
    "              'min_weight_fraction_leaf': sp_randFloat(0.0, 0.5),\n",
    "              'n_estimators': sp_randInt(10, 100),\n",
    "              'max_depth': sp_randInt(5, 7)}\n",
    "\n",
    "et_grid_randm = RandomizedSearchCV(estimator=model, param_distributions=parameters, cv=10, n_iter=100, n_jobs=-1)\n",
    "\n",
    "et_grid_randm.fit(X_train, y_train)\n",
    "\n",
    "print(et_grid_randm.best_estimator_)\n",
    "print(et_grid_randm.best_score_)\n",
    "print(et_grid_randm.best_params_)           # I'm gonna use this, cause it's a lot faster"
   ]
  },
  {
   "cell_type": "markdown",
   "id": "5205cbe4",
   "metadata": {},
   "source": [
    "Build the model with the best estimates"
   ]
  },
  {
   "cell_type": "code",
   "execution_count": null,
   "id": "cc710c19",
   "metadata": {},
   "outputs": [],
   "source": [
    "clf_et = ExtraTreesClassifier(criterion='gini', max_depth=9, min_samples_split=4, max_features = 'sqrt',\n",
    "                     min_weight_fraction_leaf=0,\n",
    "                     n_estimators=90, n_jobs=-1)\n",
    "clf_et.fit(X_train, y_train)"
   ]
  },
  {
   "cell_type": "code",
   "execution_count": null,
   "id": "18aa8d27",
   "metadata": {},
   "outputs": [],
   "source": [
    "#clf_et.estimators_"
   ]
  },
  {
   "cell_type": "code",
   "execution_count": null,
   "id": "a4c54024",
   "metadata": {},
   "outputs": [],
   "source": [
    "max = 0\n",
    "idx_max = 0\n",
    "min = 1\n",
    "idx_min = 0\n",
    "for i in range(len(clf_et.estimators_)):\n",
    "    if clf_et.estimators_[i].score(X_valid, y_valid) > max:\n",
    "        max = clf_et.estimators_[i].score(X_valid, y_valid)\n",
    "        idx_max = i\n",
    "    elif clf_et.estimators_[i].score(X_valid, y_valid) < min:\n",
    "        min = clf_et.estimators_[i].score(X_valid, y_valid)\n",
    "        idx_min = i\n",
    "\n",
    "print(idx_max)\n",
    "print(max)\n",
    "print(idx_min)\n",
    "print(min)"
   ]
  },
  {
   "cell_type": "code",
   "execution_count": null,
   "id": "6423d0ef",
   "metadata": {},
   "outputs": [],
   "source": [
    "plt.figure(figsize=(15, 7.5))\n",
    "# plt.savefig('D:/Allaus/Data_analysis/ML/tree.png', dpi=300)\n",
    "plot_tree(clf_et[4],\n",
    "         filled = True,\n",
    "         rounded = True,\n",
    "         class_names = ['Not susceptible', 'Susceptible'],\n",
    "         feature_names = X_train.columns);                     "
   ]
  },
  {
   "cell_type": "markdown",
   "id": "bf7bd7fd",
   "metadata": {},
   "source": [
    "Performance on VALIDATION SET"
   ]
  },
  {
   "cell_type": "code",
   "execution_count": null,
   "id": "27778865",
   "metadata": {},
   "outputs": [],
   "source": [
    "ConfusionMatrixDisplay.from_estimator(clf_et, X_valid, y_valid, display_labels=['Not susceptible', 'Susceptible'], cmap=plt.cm.Blues)\n",
    "#plt.savefig('D:/Allaus/Data_analysis/ML/cm_initial.png', dpi=300)\n",
    "plt.show()           # Worse than before optimization......\n"
   ]
  },
  {
   "cell_type": "code",
   "execution_count": null,
   "id": "feb2daae",
   "metadata": {},
   "outputs": [],
   "source": [
    "y_pred = clf_et.predict(X_valid)"
   ]
  },
  {
   "cell_type": "code",
   "execution_count": null,
   "id": "a20d0a41",
   "metadata": {},
   "outputs": [],
   "source": [
    "accuracy_score(y_valid, y_pred)"
   ]
  },
  {
   "cell_type": "code",
   "execution_count": null,
   "id": "e01a8e1d",
   "metadata": {},
   "outputs": [],
   "source": [
    "clf_et.score(X_valid, y_valid)    # Bad accuracy, I will probably use it only for feature selection"
   ]
  },
  {
   "cell_type": "code",
   "execution_count": null,
   "id": "fbb0b6e8",
   "metadata": {},
   "outputs": [],
   "source": [
    "print(metrics.recall_score(y_valid, y_pred, pos_label=1))"
   ]
  },
  {
   "cell_type": "code",
   "execution_count": null,
   "id": "e8c277fc",
   "metadata": {},
   "outputs": [],
   "source": [
    "print(metrics.precision_score(y_valid, y_pred, pos_label=1))"
   ]
  },
  {
   "cell_type": "code",
   "execution_count": null,
   "id": "7ed284d5",
   "metadata": {},
   "outputs": [],
   "source": [
    "ConfusionMatrixDisplay.from_estimator(clf_et, X_test, y_test, display_labels=['Not susceptible', 'Susceptible'], cmap=plt.cm.Blues)\n",
    "#plt.savefig('D:/Allaus/Data_analysis/ML/cm_initial.png', dpi=300)\n",
    "plt.show()           "
   ]
  },
  {
   "cell_type": "code",
   "execution_count": null,
   "id": "787608f2",
   "metadata": {},
   "outputs": [],
   "source": [
    "y_pred = clf_et.predict(X_test)"
   ]
  },
  {
   "cell_type": "code",
   "execution_count": null,
   "id": "36cd1774",
   "metadata": {},
   "outputs": [],
   "source": [
    "print(metrics.classification_report(y_test, y_pred))"
   ]
  },
  {
   "cell_type": "markdown",
   "id": "5f1b62d5",
   "metadata": {},
   "source": [
    "### 4) AdaBoost"
   ]
  },
  {
   "cell_type": "code",
   "execution_count": null,
   "id": "11c1c87a",
   "metadata": {},
   "outputs": [],
   "source": [
    "from sklearn.ensemble import AdaBoostClassifier"
   ]
  },
  {
   "cell_type": "markdown",
   "id": "7138b8aa",
   "metadata": {},
   "source": [
    "---|--- Short way ---|---"
   ]
  },
  {
   "cell_type": "code",
   "execution_count": null,
   "id": "97934eb5",
   "metadata": {},
   "outputs": [],
   "source": [
    "# Alternative A: Very slow\n",
    "\n",
    "ada = AdaBoostClassifier()\n",
    "search_grid = {'n_estimators': [100, 150, 200], 'learning_rate': [0.1, 0.03, 0.5]}\n",
    "search = GridSearchCV(estimator = ada, param_grid = search_grid, scoring = 'accuracy', n_jobs = -1, cv = 10)"
   ]
  },
  {
   "cell_type": "code",
   "execution_count": null,
   "id": "23173e73",
   "metadata": {},
   "outputs": [],
   "source": [
    "search.fit(X_train, y_train)            # It takes toooo long\n",
    "print(search.best_params_)\n",
    "print(search.best_score_)"
   ]
  },
  {
   "cell_type": "code",
   "execution_count": null,
   "id": "0a43f4ec",
   "metadata": {},
   "outputs": [],
   "source": [
    "# Alternative B: A looot faster\n",
    "\n",
    "model = AdaBoostClassifier()\n",
    "\n",
    "parameters = {'learning_rate': (0.1, 0.3, 0.5),\n",
    "              'n_estimators': sp_randInt(10, 500)}\n",
    "\n",
    "ada_grid_randm = RandomizedSearchCV(estimator=model, param_distributions=parameters, cv=10, n_iter=100, n_jobs=-1)\n",
    "\n",
    "ada_grid_randm.fit(X_train_minus1, y_train_minus1)\n",
    "\n",
    "print(ada_grid_randm.best_estimator_)\n",
    "print(ada_grid_randm.best_score_)\n",
    "print(ada_grid_randm.best_params_)           # I'm gonna use this, cause it's faster (but still very slow)"
   ]
  },
  {
   "cell_type": "markdown",
   "id": "9fa412f9",
   "metadata": {},
   "source": [
    "Build of model with otimized parameters"
   ]
  },
  {
   "cell_type": "code",
   "execution_count": null,
   "id": "a00e8f66",
   "metadata": {},
   "outputs": [],
   "source": [
    "ada = AdaBoostClassifier(learning_rate=0.5, n_estimators=425, random_state=42)\n",
    "ada.fit(X_train, y_train)"
   ]
  },
  {
   "cell_type": "markdown",
   "id": "e55783ae",
   "metadata": {},
   "source": [
    "Performance based on VALIDATION SET"
   ]
  },
  {
   "cell_type": "code",
   "execution_count": null,
   "id": "aaa17fe0",
   "metadata": {},
   "outputs": [],
   "source": [
    "ConfusionMatrixDisplay.from_estimator(ada, X_valid_minus2, y_valid_minus2, display_labels=['Not susceptible', 'Susceptible'], cmap=plt.cm.Blues)\n",
    "#plt.savefig('D:/Allaus/Manuscript/pictures_and_figures/ada optimized - CM', dpi=300, bbox_inches='tight')\n",
    "plt.show();\n"
   ]
  },
  {
   "cell_type": "code",
   "execution_count": null,
   "id": "97b271af",
   "metadata": {},
   "outputs": [],
   "source": [
    "y_pred = ada.predict(X_valid_minus2)"
   ]
  },
  {
   "cell_type": "code",
   "execution_count": null,
   "id": "56c266fd",
   "metadata": {},
   "outputs": [],
   "source": [
    "accuracy_score(y_valid_minus2, y_pred)"
   ]
  },
  {
   "cell_type": "code",
   "execution_count": null,
   "id": "b418ceb0",
   "metadata": {},
   "outputs": [],
   "source": [
    "score = np.mean(cross_val_score(ada, X_valid_minus2, y_valid_minus2, scoring='accuracy', cv=10, n_jobs=-1))  \n",
    "score"
   ]
  },
  {
   "cell_type": "code",
   "execution_count": null,
   "id": "cdd9f117",
   "metadata": {},
   "outputs": [],
   "source": [
    "print(metrics.recall_score(y_valid, y_pred, pos_label=1))"
   ]
  },
  {
   "cell_type": "code",
   "execution_count": null,
   "id": "f032688e",
   "metadata": {},
   "outputs": [],
   "source": [
    "print(metrics.precision_score(y_valid, y_pred, pos_label=1))"
   ]
  },
  {
   "cell_type": "code",
   "execution_count": null,
   "id": "6b11e123",
   "metadata": {},
   "outputs": [],
   "source": [
    "ConfusionMatrixDisplay.from_estimator(ada, X_test_minus2, y_test_minus2, display_labels=['Not susceptible', 'Susceptible'], cmap=plt.cm.Blues)\n",
    "#plt.savefig('D:/Allaus/Manuscript/pictures_and_figures/ada - CM test', dpi=300, bbox_inches='tight')\n",
    "plt.show()\n"
   ]
  },
  {
   "cell_type": "code",
   "execution_count": null,
   "id": "adef01ac",
   "metadata": {},
   "outputs": [],
   "source": [
    "y_pred = ada.predict(X_test_minus2)"
   ]
  },
  {
   "cell_type": "code",
   "execution_count": null,
   "id": "94c4a9bc",
   "metadata": {},
   "outputs": [],
   "source": [
    "print(metrics.classification_report(y_test_minus2, y_pred))"
   ]
  },
  {
   "cell_type": "code",
   "execution_count": null,
   "id": "256a4e88",
   "metadata": {},
   "outputs": [],
   "source": [
    "score = np.mean(cross_val_score(ada, X_test_minus1, y_test_minus1, scoring='accuracy', cv=10, n_jobs=-1))  \n",
    "score"
   ]
  },
  {
   "cell_type": "markdown",
   "id": "b25a8bbf",
   "metadata": {},
   "source": [
    "---|--- Longer way ---|---"
   ]
  },
  {
   "cell_type": "code",
   "execution_count": null,
   "id": "c81cdcd5",
   "metadata": {},
   "outputs": [],
   "source": [
    "class DecisionStump:\n",
    "    \n",
    "    def __init__(self):\n",
    "        self.polarity = 1\n",
    "        self. geature_idx = None\n",
    "        self.threshold = None\n",
    "        self.alpha = None\n",
    "        \n",
    "    def predict(self, X):\n",
    "        n_samples = X.shape[0]\n",
    "        X_column = X.iloc[:, self.feature_idx]\n",
    "        \n",
    "        predictions = np.ones(n_samples)\n",
    "        if self.polarity ==1:\n",
    "            predictions[X_column < self.threshold] = -1\n",
    "        else:\n",
    "            predictions[X_column > self.threshold] = -1\n",
    "        return predictions\n",
    "\n",
    "class Adaboost:\n",
    "    \n",
    "    def __init__(self, n_clf=5):\n",
    "        self.n_clf = n_clf\n",
    "        \n",
    "    def fit(self, X, y):\n",
    "        n_samples, n_features = X.shape\n",
    "        \n",
    "        # init weights\n",
    "        w = np.full(n_samples, (1 / n_samples))\n",
    "        \n",
    "        self.clfs = []\n",
    "        for _ in range(self.n_clf):\n",
    "            clf = DecisionStump()\n",
    "            \n",
    "            min_error = float('inf')\n",
    "            \n",
    "            for feature_i in range(n_features):\n",
    "                X_column = X.iloc[:, feature_i]\n",
    "                thresholds = np.unique(X_column)\n",
    "                \n",
    "                for threshold in thresholds:\n",
    "                    p = 1\n",
    "                    predictions = np.ones(n_samples)\n",
    "                    predictions[X_column < threshold] = -1\n",
    "                    \n",
    "                    missclassified = w[y != predictions]\n",
    "                    error = sum(missclassified)\n",
    "                    \n",
    "                    if error > 0.5:\n",
    "                        error = 1 - error\n",
    "                        p = -1\n",
    "                    if error < min_error:\n",
    "                        min_error = error\n",
    "                        clf.polarity = p\n",
    "                        clf.threshold = threshold\n",
    "                        clf.feature_idx = feature_i\n",
    "            \n",
    "            EPS = 1e-10\n",
    "            clf.alpha = 0.5 * np.log((1 - min_error) / (min_error + EPS))\n",
    "            \n",
    "            predictions = clf.predict(X)\n",
    "            \n",
    "            w *= np.exp(-clf.alpha * y * predictions)\n",
    "            w /= np.sum(w)\n",
    "            \n",
    "            self.clfs.append(clf)\n",
    "            \n",
    "    \n",
    "    def predict(self, X):\n",
    "        clf_preds = [clf.alpha * clf.predict(X) for clf in self.clfs]\n",
    "        y_pred = np.sum(clf_preds, axis=0)\n",
    "        y_pred = np.sign(y_pred)\n",
    "        return y_pred\n"
   ]
  },
  {
   "cell_type": "code",
   "execution_count": null,
   "id": "91cda14b",
   "metadata": {},
   "outputs": [],
   "source": [
    "def accuracy(y_true, y_pred):\n",
    "    accuracy = np.sum(y_true == y_pred) / len(y_true)\n",
    "    return accuracy"
   ]
  },
  {
   "cell_type": "code",
   "execution_count": null,
   "id": "b21bf084",
   "metadata": {},
   "outputs": [],
   "source": [
    "y_train.unique()"
   ]
  },
  {
   "cell_type": "code",
   "execution_count": null,
   "id": "b0fc7e17",
   "metadata": {},
   "outputs": [],
   "source": [
    "y_train[y_train == 0] = -1\n",
    "y_train.unique()"
   ]
  },
  {
   "cell_type": "code",
   "execution_count": null,
   "id": "3cb5960e",
   "metadata": {},
   "outputs": [],
   "source": [
    "y_valid.unique()"
   ]
  },
  {
   "cell_type": "code",
   "execution_count": null,
   "id": "46e5315f",
   "metadata": {},
   "outputs": [],
   "source": [
    "y_valid[y_valid == 0] = -1\n",
    "y_valid.unique()"
   ]
  },
  {
   "cell_type": "code",
   "execution_count": null,
   "id": "80b635da",
   "metadata": {},
   "outputs": [],
   "source": [
    "y_test.unique()"
   ]
  },
  {
   "cell_type": "code",
   "execution_count": null,
   "id": "d2b83338",
   "metadata": {},
   "outputs": [],
   "source": [
    "y_test[y_test == 0] = -1\n",
    "y_test.unique()"
   ]
  },
  {
   "cell_type": "code",
   "execution_count": null,
   "id": "b5378ad4",
   "metadata": {},
   "outputs": [],
   "source": [
    "# Adaboost classification with 500 weak classifiers   It takes a loooong time to run, but has good accuracy probably\n",
    "clf_ada = Adaboost(n_clf=500)\n",
    "clf_ada.fit(X_train, y_train)"
   ]
  },
  {
   "cell_type": "markdown",
   "id": "d23e0256",
   "metadata": {},
   "source": [
    "Performance based on VALIDATION SET"
   ]
  },
  {
   "cell_type": "code",
   "execution_count": null,
   "id": "2feeeae4",
   "metadata": {},
   "outputs": [],
   "source": [
    "y_pred = clf_ada.predict(X_valid)\n",
    "\n",
    "acc = accuracy(y_valid, y_pred)\n",
    "print(\"Accuracy:\", acc)"
   ]
  },
  {
   "cell_type": "markdown",
   "id": "36866d8c",
   "metadata": {},
   "source": [
    "### 5) Gradient Boosting"
   ]
  },
  {
   "cell_type": "code",
   "execution_count": null,
   "id": "fcb36f5a",
   "metadata": {},
   "outputs": [],
   "source": [
    "from sklearn.ensemble import GradientBoostingClassifier"
   ]
  },
  {
   "cell_type": "markdown",
   "id": "f2c227ec",
   "metadata": {},
   "source": [
    "Parameter optimization"
   ]
  },
  {
   "cell_type": "code",
   "execution_count": null,
   "id": "911cf3d8",
   "metadata": {},
   "outputs": [],
   "source": [
    "# ROUND 1: Optimization of hyperparamaters with cross validation\n",
    "param_grid = {\n",
    "    'max_depth': [1, 3, 5],\n",
    "    'learning_rate': [0.1, 0.3, 0.5],\n",
    "    'subsample': [0.5, 0.75, 1],\n",
    "    'random_state': [1],\n",
    "    'n_estimators': [100, 500]\n",
    "}\n",
    "\n",
    "optimal_params = GridSearchCV(estimator=GradientBoostingClassifier(), param_grid=param_grid, scoring='roc_auc', \n",
    "                              verbose=0, n_jobs=-1, cv=10)\n",
    "\n",
    "optimal_params.fit(X_train_minus1, y_train_minus1)\n",
    "\n",
    "print(optimal_params.best_params_)"
   ]
  },
  {
   "cell_type": "code",
   "execution_count": null,
   "id": "b6ceb0f7",
   "metadata": {},
   "outputs": [],
   "source": [
    "# ROUND 2      # It takes a long time to run!!!\n",
    "               # It is the optimization of the n_estimators that takes so long. The more the merrier (until some point\n",
    "               # that my computer is not powerful enough to reach.)\n",
    "               # That's why I can just set the maximum trees that I want to be created.\n",
    "               # Or I can try the RandomizedSearchCV().\n",
    "                \n",
    "param_grid = {\n",
    "    'max_depth': [5],\n",
    "    'learning_rate': [0.1, 0.01, 0.001],\n",
    "    'subsample': [0.75],\n",
    "    'random_state': [1],\n",
    "    'n_estimators': [500]\n",
    "}\n",
    "\n",
    "optimal_params = GridSearchCV(estimator=GradientBoostingClassifier(), param_grid=param_grid, scoring='roc_auc', \n",
    "                              verbose=0, n_jobs=-1, cv=10)\n",
    "\n",
    "optimal_params.fit(X_train_minus1, y_train_minus1)\n",
    "\n",
    "print(optimal_params.best_params_)"
   ]
  },
  {
   "cell_type": "markdown",
   "id": "fde422c9",
   "metadata": {},
   "source": [
    "Building and training of the model with the optimized parameters"
   ]
  },
  {
   "cell_type": "code",
   "execution_count": null,
   "id": "c3a775b4",
   "metadata": {},
   "outputs": [],
   "source": [
    "GBC = GradientBoostingClassifier(max_depth=5, learning_rate=0.1, subsample=0.75, random_state=1, n_estimators=1000)\n",
    "GBC.fit(X_train, y_train)"
   ]
  },
  {
   "cell_type": "markdown",
   "id": "f79556d4",
   "metadata": {},
   "source": [
    "**Confusion matrix** using the VALIDATION SET"
   ]
  },
  {
   "cell_type": "code",
   "execution_count": null,
   "id": "c3ef9cac",
   "metadata": {},
   "outputs": [],
   "source": [
    "ConfusionMatrixDisplay.from_estimator(GBC, X_valid_minus2, y_valid_minus2, values_format = 'd', display_labels=['Not susceptible', 'Susceptible'], cmap=plt.cm.Blues)\n",
    "#plt.savefig('D:/Allaus/Manuscript/pictures_and_figures/gradient boost optimized - CM', dpi=300, bbox_inches='tight')\n",
    "plt.show();\n"
   ]
  },
  {
   "cell_type": "code",
   "execution_count": null,
   "id": "90093e0e",
   "metadata": {},
   "outputs": [],
   "source": [
    "y_pred = GBC.predict(X_valid)"
   ]
  },
  {
   "cell_type": "code",
   "execution_count": null,
   "id": "cc8e64e0",
   "metadata": {},
   "outputs": [],
   "source": [
    "accuracy_score(y_valid, y_pred)"
   ]
  },
  {
   "cell_type": "code",
   "execution_count": null,
   "id": "cc21df29",
   "metadata": {},
   "outputs": [],
   "source": [
    "score = np.mean(cross_val_score(GBC, X_valid, y_valid, scoring='accuracy', cv=10, n_jobs=-1))  \n",
    "score"
   ]
  },
  {
   "cell_type": "code",
   "execution_count": null,
   "id": "19c1f3f6",
   "metadata": {},
   "outputs": [],
   "source": [
    "print(metrics.recall_score(y_valid, y_pred, pos_label=1))"
   ]
  },
  {
   "cell_type": "code",
   "execution_count": null,
   "id": "11caa201",
   "metadata": {},
   "outputs": [],
   "source": [
    "print(metrics.precision_score(y_valid, y_pred, pos_label=1))"
   ]
  },
  {
   "cell_type": "code",
   "execution_count": null,
   "id": "dc6963fe",
   "metadata": {},
   "outputs": [],
   "source": [
    "ConfusionMatrixDisplay.from_estimator(GBC, X_test_minus2, y_test_minus2, values_format = 'd', display_labels=['Not susceptible', 'Susceptible'], cmap=plt.cm.Blues)\n",
    "#plt.savefig('D:/Allaus/Manuscript/pictures_and_figures/gradient boost - CM test', dpi=300, bbox_inches='tight')\n",
    "plt.show()\n"
   ]
  },
  {
   "cell_type": "code",
   "execution_count": null,
   "id": "d2e3f7ef",
   "metadata": {},
   "outputs": [],
   "source": [
    "y_pred = GBC.predict(X_test_minus2)"
   ]
  },
  {
   "cell_type": "code",
   "execution_count": null,
   "id": "986a7dd6",
   "metadata": {},
   "outputs": [],
   "source": [
    "print(metrics.classification_report(y_test_minus2, y_pred))"
   ]
  },
  {
   "cell_type": "code",
   "execution_count": null,
   "id": "3a24fbc9",
   "metadata": {},
   "outputs": [],
   "source": [
    "score = np.mean(cross_val_score(GBC, X_test_minus1, y_test_minus1, scoring='accuracy', cv=10, n_jobs=-1))  \n",
    "score"
   ]
  },
  {
   "cell_type": "markdown",
   "id": "96403a3e",
   "metadata": {},
   "source": [
    "Other metrics"
   ]
  },
  {
   "cell_type": "code",
   "execution_count": null,
   "id": "ac2a454a",
   "metadata": {},
   "outputs": [],
   "source": [
    "y_train_pred = GBC.predict_proba(X_train)[:,1]\n",
    "y_valid_pred = GBC.predict_proba(X_valid)[:,1]\n",
    "#y_test_pred = GBC.predict_proba(X_test)[:,1]\n",
    "\n",
    "print(\"AUC Train: {:.4f}\\nAUC Valid: {:.4f}\".format(roc_auc_score(y_train, y_train_pred),\n",
    "                                                                      roc_auc_score(y_valid, y_valid_pred)))\n",
    "\n",
    "# print(\"AUC Train: {:.4f}\\nAUC Valid: {:.4f}\\nAUC Test: {:.4f}\".format(roc_auc_score(y_train, y_train_pred),\n",
    "#                                                                       roc_auc_score(y_valid, y_valid_pred),\n",
    "#                                                                       roc_auc_score(y_test, y_test_pred)))"
   ]
  },
  {
   "cell_type": "code",
   "execution_count": null,
   "id": "c5705d64",
   "metadata": {},
   "outputs": [],
   "source": [
    "l = [tree for tree in GBC.staged_predict_proba(X_train)]\n",
    "trees = np.stack(l)\n",
    "trees.shape"
   ]
  },
  {
   "cell_type": "code",
   "execution_count": null,
   "id": "86c07e4c",
   "metadata": {},
   "outputs": [],
   "source": [
    "y_train_pred_trees = np.stack([tree for tree in GBC.staged_predict_proba(X_train)])[:,:,1]\n",
    "y_valid_pred_trees = np.stack([tree for tree in GBC.staged_predict_proba(X_valid)])[:,:,1]\n",
    "#y_test_pred_trees = np.stack([tree for tree in GBC.staged_predict_proba(X_test)])[:,:,1]\n",
    "\n",
    "y_train_pred_trees.shape, y_valid_pred_trees.shape#, y_test_pred_trees.shape"
   ]
  },
  {
   "cell_type": "code",
   "execution_count": null,
   "id": "09ff4e3b",
   "metadata": {},
   "outputs": [],
   "source": [
    "# y_train_pred_trees = np.stack(list(GBC.staged_predict_proba(X_train)))[:,:,1]  # for some reason it doesn't work now\n",
    "# y_valid_pred_trees = np.stack(list(GBC.staged_predict_proba(X_valid)))[:,:,1]\n",
    "# y_test_pred_trees = np.stack(list(GBC.staged_predict_proba(X_test)))[:,:,1]\n",
    "\n",
    "# y_train_pred_trees.shape, y_valid_pred_trees.shape, y_test_pred_trees.shape"
   ]
  },
  {
   "cell_type": "code",
   "execution_count": null,
   "id": "926b0e25",
   "metadata": {},
   "outputs": [],
   "source": [
    "auc_train_trees = [roc_auc_score(y_train, y_pred) for y_pred in y_train_pred_trees]\n",
    "auc_valid_trees = [roc_auc_score(y_valid, y_pred) for y_pred in y_valid_pred_trees]\n",
    "#auc_test_trees = [roc_auc_score(y_test, y_pred) for y_pred in y_test_pred_trees]"
   ]
  },
  {
   "cell_type": "markdown",
   "id": "02ec3c01",
   "metadata": {},
   "source": [
    "Plot the curves"
   ]
  },
  {
   "cell_type": "code",
   "execution_count": null,
   "id": "a07783fa",
   "metadata": {},
   "outputs": [],
   "source": [
    "plt.figure(figsize=(10,6))\n",
    "\n",
    "plt.plot(auc_train_trees, label='Train Data')\n",
    "plt.plot(auc_valid_trees, label='Validation Data')\n",
    "#plt.plot(auc_test_trees, label='Test Data')\n",
    "\n",
    "plt.title('AUC vs Number of Trees')\n",
    "plt.ylabel('AUC')\n",
    "plt.xlabel('Number of Trees')\n",
    "plt.legend()\n",
    "\n",
    "plt.savefig(\"D:/Allaus/Manuscript/pictures_and_figures/gradient boost - number of trees\")\n",
    "plt.show();"
   ]
  },
  {
   "cell_type": "markdown",
   "id": "d55a1278",
   "metadata": {},
   "source": [
    "Importance of features"
   ]
  },
  {
   "cell_type": "code",
   "execution_count": null,
   "id": "b14e1199",
   "metadata": {
    "collapsed": true
   },
   "outputs": [],
   "source": [
    "pd.DataFrame({\"Variable_Name\":X_train.columns,\n",
    "              \"Importance\":GBC.feature_importances_}).sort_values('Importance', ascending=False)\n",
    "\n"
   ]
  },
  {
   "cell_type": "code",
   "execution_count": null,
   "id": "94a08a21",
   "metadata": {
    "collapsed": true
   },
   "outputs": [],
   "source": [
    "# Alternative: Adding colors to the data frame\n",
    "\n",
    "feat = pd.DataFrame({\"Variable_Name\":X_train.columns, \"Importance\":GBC.feature_importances_})\n",
    "cm = sns.light_palette(\"green\", as_cmap=True)\n",
    "s = feat.style.background_gradient(cmap=cm)\n",
    "s"
   ]
  },
  {
   "cell_type": "code",
   "execution_count": null,
   "id": "9bb6a77a",
   "metadata": {
    "collapsed": true
   },
   "outputs": [],
   "source": [
    "features = X_train.columns\n",
    "importances=GBC.feature_importances_\n",
    "indices=np.argsort(importances)\n",
    "\n",
    "#plt.title(\"Feature Importances\")\n",
    "plt.barh(range(len(indices)), importances[indices], color='y', align='center')\n",
    "plt.yticks(range(len(indices)), [features[i] for i in indices])\n",
    "plt.ylabel(\"Feature\")\n",
    "plt.xlabel(\"Relative importance\")\n",
    "plt.savefig(\"D:/Allaus/Manuscript/pictures_and_figures/gradient boost - feature importance\", dpi=300, bbox_inches='tight')\n",
    "plt.show();"
   ]
  },
  {
   "cell_type": "markdown",
   "id": "8dc0c6fb",
   "metadata": {},
   "source": [
    "### 6) XGBoost"
   ]
  },
  {
   "cell_type": "code",
   "execution_count": null,
   "id": "0956b04c",
   "metadata": {},
   "outputs": [],
   "source": [
    "import xgboost as xgb"
   ]
  },
  {
   "cell_type": "code",
   "execution_count": null,
   "id": "584950d5",
   "metadata": {},
   "outputs": [],
   "source": [
    "clf_xgb = xgb.XGBClassifier(objective='binary:logistic', seed=42, early_stopping_rounds=10, \n",
    "                            eval_metric='aucpr', random_state=42)\n",
    "clf_xgb.fit(X_train,\n",
    "            y_train,\n",
    "            verbose=True,\n",
    "            eval_set=[(X_valid, y_valid)])\n"
   ]
  },
  {
   "cell_type": "markdown",
   "id": "51e905dd",
   "metadata": {},
   "source": [
    "Confusion matrix using the VALIDATION SET"
   ]
  },
  {
   "cell_type": "code",
   "execution_count": null,
   "id": "315ece70",
   "metadata": {},
   "outputs": [],
   "source": [
    "ConfusionMatrixDisplay.from_estimator(clf_xgb, X_valid, y_valid, values_format = 'd', display_labels=['Not susceptible', 'Susceptible'], cmap=plt.cm.Blues)\n",
    "#plt.savefig('D:/Allaus/Data_analysis/ML/cm_initial.png', dpi=300)\n",
    "plt.show()  \n"
   ]
  },
  {
   "cell_type": "markdown",
   "id": "3f6c9f15",
   "metadata": {},
   "source": [
    "Hyperparameter tuning"
   ]
  },
  {
   "cell_type": "code",
   "execution_count": null,
   "id": "238dd8aa",
   "metadata": {},
   "outputs": [],
   "source": [
    "# ROUND 1: Optimization of hyperparamaters with cross validation \n",
    "param_grid = {\n",
    "    'max_depth': [3, 5, 7],\n",
    "    'learning_rate': [0.1, 0.3, 0.5],\n",
    "    'gamma': [0, 0.25, 1],\n",
    "    'reg_lambda': [0, 1, 10],\n",
    "    'scale_pos_weight': [1, 3, 5]\n",
    "}\n",
    "\n",
    "optimal_params = GridSearchCV(estimator=xgb.XGBClassifier(objective='binary:logistic', seed=42,\n",
    "                                                          early_stopping_rounds=10, \n",
    "                                                          eval_metric='auc',\n",
    "                                                          #subsample=0.9, \n",
    "                                                          #colsample_bytree=0.5\n",
    "                                                         ),\n",
    "                              param_grid=param_grid,\n",
    "                              scoring='roc_auc',\n",
    "                              verbose=0,  # if you want to see what Grid Search is doing you put 2 instead of 0\n",
    "                              n_jobs=-1, \n",
    "                              cv=10)\n",
    "\n",
    "optimal_params.fit(X_train_minus1,\n",
    "                   y_train_minus1,\n",
    "                   eval_set=[(X_valid_minus1, y_valid_minus1)],\n",
    "                   verbose=False)\n",
    "\n",
    "print(optimal_params.best_params_)"
   ]
  },
  {
   "cell_type": "code",
   "execution_count": null,
   "id": "70c6d572",
   "metadata": {},
   "outputs": [],
   "source": [
    "# ROUND 2\n",
    "param_grid = {\n",
    "    'max_depth': [3],\n",
    "    'learning_rate': [0,5, 0.7, 0.9],\n",
    "    'gamma': [0],\n",
    "    'reg_lambda': [1],\n",
    "    'scale_pos_weight': [1]\n",
    "}\n",
    "\n",
    "optimal_params = GridSearchCV(estimator=xgb.XGBClassifier(objective='binary:logistic', seed=42,\n",
    "                                                          early_stopping_rounds=10, \n",
    "                                                          eval_metric='auc',\n",
    "                                                          #subsample=0.9, \n",
    "                                                          #colsample_bytree=0.5\n",
    "                                                         ),\n",
    "                              param_grid=param_grid,\n",
    "                              scoring='roc_auc',\n",
    "                              verbose=0,  # if you want to see what Grid Search is doing you put 2 instead of 0\n",
    "                              n_jobs=-1, \n",
    "                              cv=10)\n",
    "\n",
    "optimal_params.fit(X_train_minus1,\n",
    "                   y_train_minus1,\n",
    "                   eval_set=[(X_valid_minus1, y_valid_minus1)],\n",
    "                   verbose=False)\n",
    "\n",
    "print(optimal_params.best_params_)"
   ]
  },
  {
   "cell_type": "markdown",
   "id": "5d46c67e",
   "metadata": {},
   "source": [
    "Building the model with the optimized parameters"
   ]
  },
  {
   "cell_type": "code",
   "execution_count": null,
   "id": "b307bfac",
   "metadata": {},
   "outputs": [],
   "source": [
    "# Now that we have optimised the hyperparameters, we can build the final XGBoost model\n",
    "clf_xgb = xgb.XGBClassifier(objective='binary:logistic', \n",
    "                            seed=42, \n",
    "                            #early_stopping_rounds=10, \n",
    "                            #eval_metric='aucpr', \n",
    "                            gamma=0, \n",
    "                            learning_rate=0.7, \n",
    "                            max_depth=3, \n",
    "                            reg_lambda=1, \n",
    "                            scale_pos_weight=1,\n",
    "                            #subsample=0.9, \n",
    "                            #colsample_bytree=0.5\n",
    "                           )\n",
    "\n",
    "clf_xgb.fit(X_depl_minus1, \n",
    "            y_depl_minus1,\n",
    "            verbose=True)#,\n",
    "            #eval_set=[(X_test, y_test)])"
   ]
  },
  {
   "cell_type": "markdown",
   "id": "5f1dda7c",
   "metadata": {},
   "source": [
    "Confusion matrix using the VALIDATION SET"
   ]
  },
  {
   "cell_type": "code",
   "execution_count": null,
   "id": "63d20c84",
   "metadata": {},
   "outputs": [],
   "source": [
    "ConfusionMatrixDisplay.from_estimator(clf_xgb, X_valid, y_valid, values_format = 'd', display_labels=['Not susceptible', 'Susceptible'], cmap=plt.cm.Blues)\n",
    "#plt.savefig('D:/Allaus/Data_analysis/ML/cm_initial.png', dpi=300)\n",
    "plt.savefig('D:/Allaus/Manuscript/pictures_and_figures/xgboost - CM', dpi=300, bbox_inches='tight')\n",
    "plt.show();\n"
   ]
  },
  {
   "cell_type": "code",
   "execution_count": null,
   "id": "41947d45",
   "metadata": {},
   "outputs": [],
   "source": [
    "y_pred = clf_xgb.predict(X_valid)\n"
   ]
  },
  {
   "cell_type": "code",
   "execution_count": null,
   "id": "b75542c9",
   "metadata": {},
   "outputs": [],
   "source": [
    "accuracy_score(y_valid, y_pred)"
   ]
  },
  {
   "cell_type": "code",
   "execution_count": null,
   "id": "d0a92545",
   "metadata": {},
   "outputs": [],
   "source": [
    "print(metrics.recall_score(y_valid, y_pred, pos_label=1))"
   ]
  },
  {
   "cell_type": "code",
   "execution_count": null,
   "id": "d756a65e",
   "metadata": {},
   "outputs": [],
   "source": [
    "print(metrics.precision_score(y_valid, y_pred, pos_label=1))"
   ]
  },
  {
   "cell_type": "code",
   "execution_count": null,
   "id": "539cf8e9",
   "metadata": {},
   "outputs": [],
   "source": [
    "ConfusionMatrixDisplay.from_estimator(clf_xgb, X_test, y_test, values_format = 'd', display_labels=['Not susceptible', 'Susceptible'], cmap=plt.cm.Blues)\n",
    "plt.savefig('D:/Allaus/Manuscript/pictures_and_figures/xgboost - CM test', dpi=300, bbox_inches='tight')\n",
    "plt.show()\n"
   ]
  },
  {
   "cell_type": "code",
   "execution_count": null,
   "id": "c0e7ce6a",
   "metadata": {},
   "outputs": [],
   "source": [
    "y_pred = clf_xgb.predict(X_depl)"
   ]
  },
  {
   "cell_type": "code",
   "execution_count": null,
   "id": "e0a94648",
   "metadata": {},
   "outputs": [],
   "source": [
    "print(metrics.classification_report(y_depl, y_pred))"
   ]
  },
  {
   "cell_type": "code",
   "execution_count": null,
   "id": "e6fafae1",
   "metadata": {},
   "outputs": [],
   "source": [
    "inputs = pd.DataFrame(X_test_minus2).reset_index()\n",
    "inputs"
   ]
  },
  {
   "cell_type": "markdown",
   "id": "8d6417b3",
   "metadata": {},
   "source": [
    "Cross validation"
   ]
  },
  {
   "cell_type": "code",
   "execution_count": null,
   "id": "1a214eb6",
   "metadata": {},
   "outputs": [],
   "source": [
    "acc_per_fold = []\n",
    "\n",
    "# Merge inputs and targets\n",
    "# inputs = np.concatenate((X_depl, X_test), axis=0)\n",
    "# targets = np.concatenate((y_depl, y_test), axis=0)\n",
    "inputs = pd.DataFrame(X_test_minus1).reset_index().drop(columns=[\"index\"])\n",
    "targets = pd.DataFrame(y_test_minus1).reset_index().drop(columns=[\"index\"])\n",
    "\n",
    "# Define the K-fold Cross Validator\n",
    "kfold = KFold(n_splits=10, shuffle=True)\n",
    "\n",
    "# K-fold Cross Validation model evaluation\n",
    "fold_no = 1\n",
    "for train, test in kfold.split(inputs, targets):\n",
    "\n",
    "    # Generate a print\n",
    "    print('------------------------------------------------------------------------')\n",
    "    print(f'Training for fold {fold_no} ...')\n",
    "    \n",
    "\n",
    "    # Fit data to model\n",
    "    clf_xgb = xgb.XGBClassifier(objective='binary:logistic', \n",
    "                                seed=42, \n",
    "                                early_stopping_rounds=10, \n",
    "                                eval_metric='aucpr', \n",
    "                                gamma=0, \n",
    "                                learning_rate=0.7, \n",
    "                                max_depth=3, \n",
    "                                reg_lambda=1, \n",
    "                                scale_pos_weight=1,\n",
    "                                #subsample=0.9, \n",
    "                                #colsample_bytree=0.5\n",
    "                               )\n",
    "\n",
    "    clf_xgb.fit(X_depl_minus1, \n",
    "                y_depl_minus1,\n",
    "                verbose=True,\n",
    "                eval_set=[(inputs.loc[train, :], targets.loc[train, :])])\n",
    "\n",
    "    # Generate generalization metrics\n",
    "    y_pred = clf_xgb.predict(inputs.loc[test, :])\n",
    "    score = accuracy_score(targets.loc[test, :], y_pred)\n",
    "    print(f'Score for fold {fold_no}: {score*100}%')\n",
    "    acc_per_fold.append(score * 100)\n",
    "\n",
    "    # Increase fold number\n",
    "    fold_no = fold_no + 1"
   ]
  },
  {
   "cell_type": "code",
   "execution_count": null,
   "id": "cdaea57b",
   "metadata": {},
   "outputs": [],
   "source": [
    "acc_per_fold"
   ]
  },
  {
   "cell_type": "markdown",
   "id": "758d2299",
   "metadata": {},
   "source": [
    "Plot one (the first) tree"
   ]
  },
  {
   "cell_type": "markdown",
   "id": "259f9fcc",
   "metadata": {},
   "source": [
    "This way we can get a first idea of the parameters, in order to know better how to optimize them next"
   ]
  },
  {
   "cell_type": "code",
   "execution_count": null,
   "id": "caf2a9ee",
   "metadata": {},
   "outputs": [],
   "source": [
    "clf_xgb = xgb.XGBClassifier(objective='binary:logistic', \n",
    "                            seed=42, \n",
    "                            early_stopping_rounds=10, \n",
    "                            eval_metric='aucpr', \n",
    "                            gamma=0.25, \n",
    "                            learning_rate=0.3, \n",
    "                            max_depth=5, \n",
    "                            reg_lambda=1, \n",
    "                            scale_pos_weight=1,\n",
    "                            #subsample=0.9, \n",
    "                            #colsample_bytree=0.5\n",
    "                            n_estimators=1)\n",
    "\n",
    "clf_xgb.fit(X_train, y_train,\n",
    "            eval_set=[(X_valid, y_valid)])\n",
    "\n",
    "bst = clf_xgb.get_booster()\n",
    "for importance_type in ('weight', 'gain', 'cover', 'total_gain', 'total_cover'):\n",
    "    print('%s: '% importance_type, bst.get_score(importance_type=importance_type))\n",
    "\n",
    "node_params = {'shape': 'box',\n",
    "               'style': 'filled, rounded',\n",
    "               'fillcolor': '#78cbe',\n",
    "              }\n",
    "leaf_params = {'shape': 'box',\n",
    "               'style': 'filled',\n",
    "               'fillcolor': '#e48038'}\n",
    "\n",
    "xgb.to_graphviz(clf_xgb, num_trees=0, size='10, 10', condition_node_params=node_params, leaf_node_params=leaf_params)\n",
    "\n",
    "# # if you want to save the figure\n",
    "# graph_data = xgb.to_graphviz(clf_xgb, num_trees=0, size='10, 10',\n",
    "#                              condition_node_params=node_params, leaf_node_params=leaf_params)\n",
    "# graph_data.view(filename='xgboost_model')  # it saves a pdf"
   ]
  },
  {
   "cell_type": "code",
   "execution_count": null,
   "id": "69c92d4e",
   "metadata": {},
   "outputs": [],
   "source": [
    "acc_per_fold"
   ]
  },
  {
   "cell_type": "markdown",
   "id": "92f67af3",
   "metadata": {},
   "source": [
    "**Multi-collinearity test**\n",
    "\n",
    "The higher the value of VIF the higher correlation between this variable and the rest."
   ]
  },
  {
   "cell_type": "code",
   "execution_count": null,
   "id": "484dc78a",
   "metadata": {},
   "outputs": [],
   "source": [
    "X_train"
   ]
  },
  {
   "cell_type": "code",
   "execution_count": null,
   "id": "502afe4e",
   "metadata": {},
   "outputs": [],
   "source": [
    "# Compute VIF data for each independent variable\n",
    "from statsmodels.stats.outliers_influence import variance_inflation_factor"
   ]
  },
  {
   "cell_type": "code",
   "execution_count": null,
   "id": "6a308a67",
   "metadata": {},
   "outputs": [],
   "source": [
    "vif = pd.DataFrame()\n",
    "vif[\"features\"] = X_train.columns\n",
    "vif[\"vif_Factor\"] = [variance_inflation_factor(X_train.values, i) for i in range(X_train.shape[1])]\n",
    "vif                       "
   ]
  },
  {
   "cell_type": "code",
   "execution_count": null,
   "id": "c5198dbd",
   "metadata": {},
   "outputs": [],
   "source": [
    "vif.sort_values(by='vif_Factor', ascending=False)"
   ]
  },
  {
   "cell_type": "code",
   "execution_count": null,
   "id": "042f9ca2",
   "metadata": {},
   "outputs": [],
   "source": [
    "X_train.Rain.corr(X_train.Snow24h)"
   ]
  },
  {
   "cell_type": "markdown",
   "id": "87f01f08",
   "metadata": {},
   "source": [
    "**Scaling / Standardization of the data**"
   ]
  },
  {
   "cell_type": "markdown",
   "id": "de4d5677",
   "metadata": {},
   "source": [
    "The radial Basis Function (RBF), **which is the default kernel of the SVC object of the sklearn package**, assumes that the data are centered and scaled. In other words, each column should have a mean value = 0 and a standard deviation = 1. So, we need to do this to the train, validation and test datasets. It is also necessary for the Linear Regression and the NN."
   ]
  },
  {
   "cell_type": "markdown",
   "id": "08347c6b",
   "metadata": {},
   "source": [
    "NOTE 1: We will first split the data into train, valid, test and then scale them separately in order to avoid Data Leakage. **Data Leakage** occurs when information about the training dataset corrupts or influences the validation and testing datasets."
   ]
  },
  {
   "cell_type": "markdown",
   "id": "1adb6595",
   "metadata": {},
   "source": [
    "NOTE 2: Logistic regression and SVM with a linear kernel have similar performance but depending on your features, one may be more efficient than the other."
   ]
  },
  {
   "cell_type": "markdown",
   "id": "11632097",
   "metadata": {},
   "source": [
    "NOTE 3: It is important to standardize the validation and test set using the mean and std of the train set and not calculate it separately for all datasets. The reason is that a true test of the built model is how it does on unseen data using the parameters to learn from the training set."
   ]
  },
  {
   "cell_type": "markdown",
   "id": "ad360f59",
   "metadata": {},
   "source": [
    "**a) Prepare special dataset for SVM and Logistic Regression that suffer from multicollinearity**"
   ]
  },
  {
   "cell_type": "code",
   "execution_count": null,
   "id": "0f19cb99",
   "metadata": {},
   "outputs": [],
   "source": [
    "X_train"
   ]
  },
  {
   "cell_type": "code",
   "execution_count": null,
   "id": "3ea13c10",
   "metadata": {},
   "outputs": [],
   "source": [
    "X_train_mc = X_train.drop(columns=['Rain2D', 'Rain3D', 'Snow48h', 'Snow72h', \n",
    "                                   'Tmax', 'Tmin', 'Trange']).copy()\n",
    "X_train_mc"
   ]
  },
  {
   "cell_type": "code",
   "execution_count": null,
   "id": "e0fef151",
   "metadata": {},
   "outputs": [],
   "source": [
    "y_train_mc = y_train.copy()"
   ]
  },
  {
   "cell_type": "code",
   "execution_count": null,
   "id": "8671d782",
   "metadata": {},
   "outputs": [],
   "source": [
    "y_train_mc.shape"
   ]
  },
  {
   "cell_type": "code",
   "execution_count": null,
   "id": "036ee420",
   "metadata": {},
   "outputs": [],
   "source": [
    "X_valid"
   ]
  },
  {
   "cell_type": "code",
   "execution_count": null,
   "id": "86f33be6",
   "metadata": {},
   "outputs": [],
   "source": [
    "X_valid_mc = X_valid.drop(columns=['Rain2D', 'Rain3D', 'Snow48h', 'Snow72h', \n",
    "                                   'Tmax', 'Tmin', 'Trange']).copy()\n",
    "X_valid_mc"
   ]
  },
  {
   "cell_type": "code",
   "execution_count": null,
   "id": "b58ef403",
   "metadata": {},
   "outputs": [],
   "source": [
    "y_valid_mc = y_valid.copy()"
   ]
  },
  {
   "cell_type": "code",
   "execution_count": null,
   "id": "befdd7e3",
   "metadata": {},
   "outputs": [],
   "source": [
    "y_valid_mc.shape"
   ]
  },
  {
   "cell_type": "code",
   "execution_count": null,
   "id": "ba54b6e5",
   "metadata": {},
   "outputs": [],
   "source": [
    "X_test"
   ]
  },
  {
   "cell_type": "code",
   "execution_count": null,
   "id": "5c21e9d7",
   "metadata": {},
   "outputs": [],
   "source": [
    "X_test_mc = X_test.drop(columns=['Rain2D', 'Rain3D', 'Snow48h', 'Snow72h', 'Tmax', 'Tmin', 'Trange']).copy()\n",
    "X_test_mc"
   ]
  },
  {
   "cell_type": "code",
   "execution_count": null,
   "id": "db1319e7",
   "metadata": {},
   "outputs": [],
   "source": [
    "y_test_mc = y_test.copy()"
   ]
  },
  {
   "cell_type": "code",
   "execution_count": null,
   "id": "b01a2511",
   "metadata": {},
   "outputs": [],
   "source": [
    "y_test_mc.shape"
   ]
  },
  {
   "cell_type": "markdown",
   "id": "202eb82a",
   "metadata": {},
   "source": [
    "**b) Prepare datasets for NN that needs the data to be scaled**"
   ]
  },
  {
   "cell_type": "code",
   "execution_count": null,
   "id": "76122bbb",
   "metadata": {},
   "outputs": [],
   "source": [
    "X_train.columns"
   ]
  },
  {
   "cell_type": "code",
   "execution_count": null,
   "id": "5129ae4f",
   "metadata": {},
   "outputs": [],
   "source": [
    "len(X_train.columns)"
   ]
  },
  {
   "cell_type": "code",
   "execution_count": null,
   "id": "4f8dc8dd",
   "metadata": {},
   "outputs": [],
   "source": [
    "X_train_nn = X_train.copy()\n",
    "X_train"
   ]
  },
  {
   "cell_type": "code",
   "execution_count": null,
   "id": "dee19dd0",
   "metadata": {},
   "outputs": [],
   "source": [
    "X_valid_nn = X_valid.copy()\n",
    "X_valid_nn"
   ]
  },
  {
   "cell_type": "code",
   "execution_count": null,
   "id": "25f01708",
   "metadata": {},
   "outputs": [],
   "source": [
    "X_test_nn = X_test.copy()\n",
    "X_test_nn"
   ]
  },
  {
   "cell_type": "code",
   "execution_count": null,
   "id": "f2b6a471",
   "metadata": {},
   "outputs": [],
   "source": [
    "y_train_nn = y_train.copy()"
   ]
  },
  {
   "cell_type": "code",
   "execution_count": null,
   "id": "8e5082bd",
   "metadata": {},
   "outputs": [],
   "source": [
    "y_valid_nn = y_valid.copy()"
   ]
  },
  {
   "cell_type": "code",
   "execution_count": null,
   "id": "4d1e2c46",
   "metadata": {},
   "outputs": [],
   "source": [
    "y_test_nn = y_test.copy()"
   ]
  },
  {
   "cell_type": "code",
   "execution_count": null,
   "id": "ff17bb41",
   "metadata": {},
   "outputs": [],
   "source": [
    "y_train_nn"
   ]
  },
  {
   "cell_type": "code",
   "execution_count": null,
   "id": "7c30f7a0",
   "metadata": {},
   "outputs": [],
   "source": [
    "mean_nn = X_train_nn[['Elevation', 'Slope', 'CurvaturePlan', 'CurvatureProf', 'SnowCover', 'CriticalRecharge', \n",
    "                'Rain', 'Rain2D', 'Rain3D', 'Tmin', 'Tmax', 'Tmean', 'Trange', 'SnowTotal', 'MonthlyRain', 'MonthlySnow',\n",
    "                'Snow24h', 'Snow48h', 'Snow72h', 'WindSpeedMean', 'WindSpeedMax', 'ExtremeRain']].mean(axis=0)\n",
    "mean_nn"
   ]
  },
  {
   "cell_type": "code",
   "execution_count": null,
   "id": "79f3afa3",
   "metadata": {},
   "outputs": [],
   "source": [
    "std_nn = X_train_nn[['Elevation', 'Slope', 'CurvaturePlan', 'CurvatureProf', 'SnowCover', 'CriticalRecharge', \n",
    "                'Rain', 'Rain2D', 'Rain3D', 'Tmin', 'Tmax', 'Tmean', 'Trange', 'SnowTotal', 'MonthlyRain', 'MonthlySnow',\n",
    "                'Snow24h', 'Snow48h', 'Snow72h', 'WindSpeedMean', 'WindSpeedMax', 'ExtremeRain']].std(axis=0)\n",
    "std_nn"
   ]
  },
  {
   "cell_type": "code",
   "execution_count": null,
   "id": "3f5d4292",
   "metadata": {},
   "outputs": [],
   "source": [
    "X_train_nn[['Elevation', 'Slope', 'CurvaturePlan', 'CurvatureProf', 'SnowCover', 'CriticalRecharge', \n",
    "                'Rain', 'Rain2D', 'Rain3D', 'Tmin', 'Tmax', 'Tmean', 'Trange', 'SnowTotal', 'MonthlyRain', 'MonthlySnow',\n",
    "                'Snow24h', 'Snow48h', 'Snow72h', 'WindSpeedMean', 'WindSpeedMax', 'ExtremeRain']] -= mean_nn\n",
    "X_train_nn[['Elevation', 'Slope', 'CurvaturePlan', 'CurvatureProf', 'SnowCover', 'CriticalRecharge', \n",
    "                'Rain', 'Rain2D', 'Rain3D', 'Tmin', 'Tmax', 'Tmean', 'Trange', 'SnowTotal', 'MonthlyRain', 'MonthlySnow',\n",
    "                'Snow24h', 'Snow48h', 'Snow72h', 'WindSpeedMean', 'WindSpeedMax', 'ExtremeRain']] /= std_nn\n",
    "\n",
    "X_valid_nn[['Elevation', 'Slope', 'CurvaturePlan', 'CurvatureProf', 'SnowCover', 'CriticalRecharge', \n",
    "                'Rain', 'Rain2D', 'Rain3D', 'Tmin', 'Tmax', 'Tmean', 'Trange', 'SnowTotal', 'MonthlyRain', 'MonthlySnow',\n",
    "                'Snow24h', 'Snow48h', 'Snow72h', 'WindSpeedMean', 'WindSpeedMax', 'ExtremeRain']] -= mean_nn\n",
    "X_valid_nn[['Elevation', 'Slope', 'CurvaturePlan', 'CurvatureProf', 'SnowCover', 'CriticalRecharge', \n",
    "                'Rain', 'Rain2D', 'Rain3D', 'Tmin', 'Tmax', 'Tmean', 'Trange', 'SnowTotal', 'MonthlyRain', 'MonthlySnow',\n",
    "                'Snow24h', 'Snow48h', 'Snow72h', 'WindSpeedMean', 'WindSpeedMax', 'ExtremeRain']] /= std_nn\n",
    "\n",
    "X_test_nn[['Elevation', 'Slope', 'CurvaturePlan', 'CurvatureProf', 'SnowCover', 'CriticalRecharge', \n",
    "                'Rain', 'Rain2D', 'Rain3D', 'Tmin', 'Tmax', 'Tmean', 'Trange', 'SnowTotal', 'MonthlyRain', 'MonthlySnow',\n",
    "                'Snow24h', 'Snow48h', 'Snow72h', 'WindSpeedMean', 'WindSpeedMax', 'ExtremeRain']] -= mean_nn\n",
    "X_test_nn[['Elevation', 'Slope', 'CurvaturePlan', 'CurvatureProf', 'SnowCover', 'CriticalRecharge', \n",
    "                'Rain', 'Rain2D', 'Rain3D', 'Tmin', 'Tmax', 'Tmean', 'Trange', 'SnowTotal', 'MonthlyRain', 'MonthlySnow',\n",
    "                'Snow24h', 'Snow48h', 'Snow72h', 'WindSpeedMean', 'WindSpeedMax', 'ExtremeRain']] /= std_nn"
   ]
  },
  {
   "cell_type": "code",
   "execution_count": null,
   "id": "1a3896de",
   "metadata": {},
   "outputs": [],
   "source": [
    "X_train_nn"
   ]
  },
  {
   "cell_type": "markdown",
   "id": "a4588453",
   "metadata": {},
   "source": [
    "**---------------------------------------------------------------------------------------------------------------------**"
   ]
  },
  {
   "cell_type": "code",
   "execution_count": null,
   "id": "8f693cb1",
   "metadata": {},
   "outputs": [],
   "source": [
    "X_train_mc.columns"
   ]
  },
  {
   "cell_type": "code",
   "execution_count": null,
   "id": "ce68d6b3",
   "metadata": {},
   "outputs": [],
   "source": [
    "X_train_mc"
   ]
  },
  {
   "cell_type": "code",
   "execution_count": null,
   "id": "cc3b86dd",
   "metadata": {},
   "outputs": [],
   "source": [
    "len(X_train_mc.columns)"
   ]
  },
  {
   "cell_type": "code",
   "execution_count": null,
   "id": "7530609f",
   "metadata": {},
   "outputs": [],
   "source": [
    "mean_mc = X_train_mc[['Elevation', 'Slope', 'CurvaturePlan', 'CurvatureProf', 'SnowCover', 'CriticalRecharge', \n",
    "                'Rain', 'ExtremeRain', 'MonthlyRain', 'Tmean', 'SnowTotal', 'MonthlySnow', 'Snow24h', \n",
    "                'WindSpeedMean', 'WindSpeedMax']].mean(axis=0)\n",
    "mean_mc"
   ]
  },
  {
   "cell_type": "code",
   "execution_count": null,
   "id": "bd76a9ae",
   "metadata": {},
   "outputs": [],
   "source": [
    "std_mc = X_train_mc[['Elevation', 'Slope', 'CurvaturePlan', 'CurvatureProf', 'SnowCover', 'CriticalRecharge', \n",
    "                'Rain', 'ExtremeRain', 'MonthlyRain', 'Tmean', 'SnowTotal', 'MonthlySnow', 'Snow24h', \n",
    "                'WindSpeedMean', 'WindSpeedMax']].std(axis=0)\n",
    "std_mc"
   ]
  },
  {
   "cell_type": "code",
   "execution_count": null,
   "id": "c3d8f13f",
   "metadata": {},
   "outputs": [],
   "source": [
    "X_train_mc[['Elevation', 'Slope', 'CurvaturePlan', 'CurvatureProf', 'SnowCover', 'CriticalRecharge', \n",
    "                'Rain', 'ExtremeRain', 'MonthlyRain', 'Tmean', 'SnowTotal', 'MonthlySnow', 'Snow24h', \n",
    "                'WindSpeedMean', 'WindSpeedMax']] -= mean_mc\n",
    "X_train_mc[['Elevation', 'Slope', 'CurvaturePlan', 'CurvatureProf', 'SnowCover', 'CriticalRecharge', \n",
    "                'Rain', 'ExtremeRain', 'MonthlyRain', 'Tmean', 'SnowTotal', 'MonthlySnow', 'Snow24h', \n",
    "                'WindSpeedMean', 'WindSpeedMax']] /= std_mc\n",
    "\n",
    "X_valid_mc[['Elevation', 'Slope', 'CurvaturePlan', 'CurvatureProf', 'SnowCover', 'CriticalRecharge', \n",
    "                'Rain', 'ExtremeRain', 'MonthlyRain', 'Tmean', 'SnowTotal', 'MonthlySnow', 'Snow24h', \n",
    "                'WindSpeedMean', 'WindSpeedMax']] -= mean_mc\n",
    "X_valid_mc[['Elevation', 'Slope', 'CurvaturePlan', 'CurvatureProf', 'SnowCover', 'CriticalRecharge', \n",
    "                'Rain', 'ExtremeRain', 'MonthlyRain', 'Tmean', 'SnowTotal', 'MonthlySnow', 'Snow24h', \n",
    "                'WindSpeedMean', 'WindSpeedMax']] /= std_mc\n",
    "\n",
    "X_test_mc[['Elevation', 'Slope', 'CurvaturePlan', 'CurvatureProf', 'SnowCover', 'CriticalRecharge', \n",
    "                'Rain', 'ExtremeRain', 'MonthlyRain', 'Tmean', 'SnowTotal', 'MonthlySnow', 'Snow24h', \n",
    "                'WindSpeedMean', 'WindSpeedMax']] -= mean_mc\n",
    "X_test_mc[['Elevation', 'Slope', 'CurvaturePlan', 'CurvatureProf', 'SnowCover', 'CriticalRecharge', \n",
    "                'Rain', 'ExtremeRain', 'MonthlyRain', 'Tmean', 'SnowTotal', 'MonthlySnow', 'Snow24h', \n",
    "                'WindSpeedMean', 'WindSpeedMax']] /= std_mc"
   ]
  },
  {
   "cell_type": "code",
   "execution_count": null,
   "id": "538abae2",
   "metadata": {},
   "outputs": [],
   "source": [
    "X_train.dtypes"
   ]
  },
  {
   "cell_type": "code",
   "execution_count": null,
   "id": "e11f94f6",
   "metadata": {},
   "outputs": [],
   "source": [
    "X_train_mc.dtypes"
   ]
  },
  {
   "cell_type": "code",
   "execution_count": null,
   "id": "4a2a2192",
   "metadata": {},
   "outputs": [],
   "source": [
    "X_train_nn.dtypes"
   ]
  },
  {
   "cell_type": "code",
   "execution_count": null,
   "id": "6223c251",
   "metadata": {},
   "outputs": [],
   "source": [
    "# Test to see that the binary variables did not get affected by the standardization\n",
    "plt.hist(X_train_nn.Forest)\n",
    "plt.show()"
   ]
  },
  {
   "cell_type": "code",
   "execution_count": null,
   "id": "d3471eb9",
   "metadata": {},
   "outputs": [],
   "source": [
    "# The same for the target\n",
    "plt.hist(y_train_mc)\n",
    "plt.show()"
   ]
  },
  {
   "cell_type": "code",
   "execution_count": null,
   "id": "03764d44",
   "metadata": {},
   "outputs": [],
   "source": [
    "X_train_mc.shape, X_valid_mc.shape, X_test_mc.shape"
   ]
  },
  {
   "cell_type": "code",
   "execution_count": null,
   "id": "b9e354d2",
   "metadata": {},
   "outputs": [],
   "source": [
    "# from sklearn.preprocessing import scale"
   ]
  },
  {
   "cell_type": "code",
   "execution_count": null,
   "id": "b8581cef",
   "metadata": {},
   "outputs": [],
   "source": [
    "# X_train_mc_scaled = scale(X_train_mc)\n",
    "# X_valid_mc_scaled = scale(X_valid_mc)\n",
    "# X_test_mc_scaled = scale(X_test_mc)"
   ]
  },
  {
   "cell_type": "code",
   "execution_count": null,
   "id": "0e032c93",
   "metadata": {},
   "outputs": [],
   "source": [
    "# X_train_mc_scaled[4]"
   ]
  },
  {
   "cell_type": "markdown",
   "id": "69f290c4",
   "metadata": {},
   "source": [
    "**Build the deployment datasets for Log Reg, SVM & NN**"
   ]
  },
  {
   "cell_type": "code",
   "execution_count": null,
   "id": "50efbcbe",
   "metadata": {},
   "outputs": [],
   "source": [
    "frames_X_nn_depl = [X_train_nn, X_valid_nn]\n",
    "frames_y_nn_depl = [y_train_nn, y_valid_nn]"
   ]
  },
  {
   "cell_type": "code",
   "execution_count": null,
   "id": "fcee8bba",
   "metadata": {},
   "outputs": [],
   "source": [
    "frames_X_mc_depl = [X_train_mc, X_valid_mc]\n",
    "frames_y_mc_depl = [y_train_mc, y_valid_mc]"
   ]
  },
  {
   "cell_type": "code",
   "execution_count": null,
   "id": "6405b900",
   "metadata": {},
   "outputs": [],
   "source": [
    "X_depl_nn = pd.concat(frames_X_nn_depl)\n",
    "y_depl_nn = pd.concat(frames_y_nn_depl)"
   ]
  },
  {
   "cell_type": "code",
   "execution_count": null,
   "id": "3556ec0c",
   "metadata": {},
   "outputs": [],
   "source": [
    "X_depl_mc = pd.concat(frames_X_mc_depl)\n",
    "y_depl_mc = pd.concat(frames_y_mc_depl)"
   ]
  },
  {
   "cell_type": "code",
   "execution_count": null,
   "id": "769b7744",
   "metadata": {},
   "outputs": [],
   "source": [
    "X_depl_mc"
   ]
  },
  {
   "cell_type": "code",
   "execution_count": null,
   "id": "5d525085",
   "metadata": {},
   "outputs": [],
   "source": [
    "y_depl_mc = y_depl_mc.to_numpy().ravel()\n",
    "y_depl_nn = y_depl_nn.to_numpy().ravel()"
   ]
  },
  {
   "cell_type": "code",
   "execution_count": null,
   "id": "f38d0784",
   "metadata": {},
   "outputs": [],
   "source": [
    "y_depl_mc.shape, y_depl_nn.shape"
   ]
  },
  {
   "cell_type": "code",
   "execution_count": null,
   "id": "71ef2302",
   "metadata": {},
   "outputs": [],
   "source": [
    "y_test_mc = y_test_mc.to_numpy().ravel()\n",
    "y_test_nn = y_test_nn.to_numpy().ravel()"
   ]
  },
  {
   "cell_type": "code",
   "execution_count": null,
   "id": "47671657",
   "metadata": {},
   "outputs": [],
   "source": [
    "y_test_mc.shape, y_test_nn.shape"
   ]
  },
  {
   "cell_type": "markdown",
   "id": "11bb7b89",
   "metadata": {},
   "source": [
    "**Other versions of the dataset**"
   ]
  },
  {
   "cell_type": "code",
   "execution_count": null,
   "id": "7bc90c95",
   "metadata": {},
   "outputs": [],
   "source": [
    "X_train_mc.columns"
   ]
  },
  {
   "cell_type": "code",
   "execution_count": null,
   "id": "b5f4eed5",
   "metadata": {},
   "outputs": [],
   "source": [
    "X_train_mc_minus1 = X_train_mc.drop(columns=['SnowCover', 'CriticalRecharge'])\n",
    "X_valid_mc_minus1 = X_valid_mc.drop(columns=['SnowCover', 'CriticalRecharge'])\n",
    "X_test_mc_minus1 = X_test_mc.drop(columns=['SnowCover', 'CriticalRecharge'])\n",
    "\n",
    "X_train_mc_minus2 = X_train_mc.drop(columns=['SnowCover', 'CriticalRecharge', 'Rain',\n",
    "       'ExtremeRain', 'MonthlyRain', 'Tmean', 'SnowTotal', 'Snow24h',\n",
    "       'MonthlySnow', 'WindSpeedMean', 'WindSpeedMax', 'Wind_South'])\n",
    "X_valid_mc_minus2 = X_valid_mc.drop(columns=['SnowCover', 'CriticalRecharge', 'Rain',\n",
    "       'ExtremeRain', 'MonthlyRain', 'Tmean', 'SnowTotal', 'Snow24h',\n",
    "       'MonthlySnow', 'WindSpeedMean', 'WindSpeedMax', 'Wind_South'])\n",
    "X_test_mc_minus2 = X_test_mc.drop(columns=['SnowCover', 'CriticalRecharge', 'Rain',\n",
    "       'ExtremeRain', 'MonthlyRain', 'Tmean', 'SnowTotal', 'Snow24h',\n",
    "       'MonthlySnow', 'WindSpeedMean', 'WindSpeedMax', 'Wind_South'])\n"
   ]
  },
  {
   "cell_type": "code",
   "execution_count": null,
   "id": "bc3cb2c8",
   "metadata": {},
   "outputs": [],
   "source": [
    "y_train_mc_minus1 = y_train_mc\n",
    "y_train_mc_minus2 = y_train_mc\n",
    "y_valid_mc_minus1 = y_valid_mc\n",
    "y_valid_mc_minus2 = y_valid_mc\n",
    "y_test_mc_minus1 = y_test_mc\n",
    "y_test_mc_minus2 = y_test_mc"
   ]
  },
  {
   "cell_type": "code",
   "execution_count": null,
   "id": "4cf43006",
   "metadata": {},
   "outputs": [],
   "source": [
    "frames_X_mc_depl_minus1 = [X_train_mc_minus1, X_valid_mc_minus1]\n",
    "frames_y_mc_depl_minus1 = [y_train_mc_minus1, y_valid_mc_minus1]\n",
    "\n",
    "frames_X_mc_depl_minus2 = [X_train_mc_minus2, X_valid_mc_minus2]\n",
    "frames_y_mc_depl_minus2 = [y_train_mc_minus2, y_valid_mc_minus2]"
   ]
  },
  {
   "cell_type": "code",
   "execution_count": null,
   "id": "ab485191",
   "metadata": {},
   "outputs": [],
   "source": [
    "X_depl_mc_minus1 = pd.concat(frames_X_mc_depl_minus1)\n",
    "y_depl_mc_minus1 = pd.concat(frames_y_mc_depl_minus1)\n",
    "\n",
    "X_depl_mc_minus2 = pd.concat(frames_X_mc_depl_minus2)\n",
    "y_depl_mc_minus2 = pd.concat(frames_y_mc_depl_minus2)"
   ]
  },
  {
   "cell_type": "code",
   "execution_count": null,
   "id": "1474201c",
   "metadata": {},
   "outputs": [],
   "source": [
    "y_train_mc_minus1 = y_train_mc_minus1.to_numpy().ravel()\n",
    "y_train_mc_minus2 = y_train_mc_minus2.to_numpy().ravel()\n",
    "y_valid_mc_minus1 = y_valid_mc_minus1.to_numpy().ravel()\n",
    "y_valid_mc_minus2 = y_valid_mc_minus2.to_numpy().ravel()\n",
    "# y_test_mc_minus1 = y_test_mc_minus1.to_numpy().ravel()\n",
    "# y_test_mc_minus2 = y_test_mc_minus2.to_numpy().ravel()"
   ]
  },
  {
   "cell_type": "code",
   "execution_count": null,
   "id": "93193407",
   "metadata": {},
   "outputs": [],
   "source": [
    "y_depl_mc_minus1 = y_depl_mc_minus1.to_numpy().ravel()\n",
    "y_depl_mc_minus2 = y_depl_mc_minus2.to_numpy().ravel()"
   ]
  },
  {
   "cell_type": "code",
   "execution_count": null,
   "id": "6005c223",
   "metadata": {},
   "outputs": [],
   "source": [
    "y_depl_mc_minus2.shape"
   ]
  },
  {
   "cell_type": "code",
   "execution_count": null,
   "id": "69f40ae9",
   "metadata": {},
   "outputs": [],
   "source": [
    "X_train_nn.columns"
   ]
  },
  {
   "cell_type": "code",
   "execution_count": null,
   "id": "6340c879",
   "metadata": {},
   "outputs": [],
   "source": [
    "X_train_nn_minus1 = X_train_nn.drop(columns=['SnowCover', 'CriticalRecharge'])\n",
    "X_valid_nn_minus1 = X_valid_nn.drop(columns=['SnowCover', 'CriticalRecharge'])\n",
    "X_test_nn_minus1 = X_test_nn.drop(columns=['SnowCover', 'CriticalRecharge'])\n",
    "\n",
    "X_train_nn_minus2 = X_train_nn.drop(columns=['SnowCover', 'CriticalRecharge', 'Rain', 'Rain2D',\n",
    "       'Rain3D', 'ExtremeRain', 'MonthlyRain', 'Tmin', 'Tmax', 'Tmean',\n",
    "       'Trange', 'SnowTotal', 'Snow24h', 'Snow48h', 'Snow72h', 'MonthlySnow',\n",
    "       'WindSpeedMean', 'WindSpeedMax', 'Wind_South'])\n",
    "X_valid_nn_minus2 = X_valid_nn.drop(columns=['SnowCover', 'CriticalRecharge', 'Rain', 'Rain2D',\n",
    "       'Rain3D', 'ExtremeRain', 'MonthlyRain', 'Tmin', 'Tmax', 'Tmean',\n",
    "       'Trange', 'SnowTotal', 'Snow24h', 'Snow48h', 'Snow72h', 'MonthlySnow',\n",
    "       'WindSpeedMean', 'WindSpeedMax', 'Wind_South'])\n",
    "X_test_nn_minus2 = X_test_nn.drop(columns=['SnowCover', 'CriticalRecharge', 'Rain', 'Rain2D',\n",
    "       'Rain3D', 'ExtremeRain', 'MonthlyRain', 'Tmin', 'Tmax', 'Tmean',\n",
    "       'Trange', 'SnowTotal', 'Snow24h', 'Snow48h', 'Snow72h', 'MonthlySnow',\n",
    "       'WindSpeedMean', 'WindSpeedMax', 'Wind_South'])"
   ]
  },
  {
   "cell_type": "code",
   "execution_count": null,
   "id": "781a3af0",
   "metadata": {},
   "outputs": [],
   "source": [
    "y_train_nn_minus1 = y_train_nn\n",
    "y_train_nn_minus2 = y_train_nn\n",
    "y_valid_nn_minus1 = y_valid_nn\n",
    "y_valid_nn_minus2 = y_valid_nn\n",
    "y_test_nn_minus1 = y_test_nn\n",
    "y_test_nn_minus2 = y_test_nn"
   ]
  },
  {
   "cell_type": "code",
   "execution_count": null,
   "id": "1a580ebe",
   "metadata": {},
   "outputs": [],
   "source": [
    "frames_X_nn_depl_minus1 = [X_train_nn_minus1, X_valid_nn_minus1]\n",
    "frames_y_nn_depl_minus1 = [y_train_nn_minus1, y_valid_nn_minus1]\n",
    "\n",
    "frames_X_nn_depl_minus2 = [X_train_nn_minus2, X_valid_nn_minus2]\n",
    "frames_y_nn_depl_minus2 = [y_train_nn_minus2, y_valid_nn_minus2]"
   ]
  },
  {
   "cell_type": "code",
   "execution_count": null,
   "id": "3ac298a1",
   "metadata": {},
   "outputs": [],
   "source": [
    "X_depl_nn_minus1 = pd.concat(frames_X_nn_depl_minus1)\n",
    "y_depl_nn_minus1 = pd.concat(frames_y_nn_depl_minus1)\n",
    "\n",
    "X_depl_nn_minus2 = pd.concat(frames_X_nn_depl_minus2)\n",
    "y_depl_nn_minus2 = pd.concat(frames_y_nn_depl_minus2)"
   ]
  },
  {
   "cell_type": "code",
   "execution_count": null,
   "id": "0ac239c0",
   "metadata": {},
   "outputs": [],
   "source": [
    "y_train_nn_minus1 = y_train_nn.to_numpy().ravel()\n",
    "y_train_nn_minus2 = y_train_nn.to_numpy().ravel()\n",
    "y_valid_nn_minus1 = y_valid_nn.to_numpy().ravel()\n",
    "y_valid_nn_minus2 = y_valid_nn.to_numpy().ravel()\n",
    "# y_test_nn_minus1 = y_test_nn.to_numpy().ravel()\n",
    "# y_test_nn_minus2 = y_test_nn.to_numpy().ravel()"
   ]
  },
  {
   "cell_type": "code",
   "execution_count": null,
   "id": "f68c223c",
   "metadata": {},
   "outputs": [],
   "source": [
    "y_depl_nn_minus1 = y_depl_nn_minus1.to_numpy().ravel()\n",
    "y_depl_nn_minus2 = y_depl_nn_minus2.to_numpy().ravel()"
   ]
  },
  {
   "cell_type": "markdown",
   "id": "0095eaa1",
   "metadata": {},
   "source": [
    "### 7) Support Vector Machine (SVM)\n",
    "(They do well with small datasets (sometimes might need downsampling))"
   ]
  },
  {
   "cell_type": "code",
   "execution_count": null,
   "id": "a02a665b",
   "metadata": {},
   "outputs": [],
   "source": [
    "from sklearn.svm import SVC"
   ]
  },
  {
   "cell_type": "markdown",
   "id": "41824986",
   "metadata": {},
   "source": [
    "Build a preliminary SVM"
   ]
  },
  {
   "cell_type": "code",
   "execution_count": null,
   "id": "755fbce5",
   "metadata": {},
   "outputs": [],
   "source": [
    "clf_svm = SVC(random_state=42)\n",
    "clf_svm.fit(X_train_mc, y_train_mc)"
   ]
  },
  {
   "cell_type": "markdown",
   "id": "733b5b83",
   "metadata": {},
   "source": [
    "Performance based on the VALIDATION SET"
   ]
  },
  {
   "cell_type": "code",
   "execution_count": null,
   "id": "2dd851ab",
   "metadata": {},
   "outputs": [],
   "source": [
    "ConfusionMatrixDisplay.from_estimator(clf_svm, X_valid_mc, y_valid_mc, values_format = 'd', display_labels=['Not susceptible', 'Susceptible'], cmap=plt.cm.Blues)\n",
    "#plt.savefig('D:/Allaus/Data_analysis/ML/cm_initial.png', dpi=300)\n",
    "plt.savefig('D:/Allaus/Manuscript/pictures_and_figures/SVM - CM before optimization', dpi=300, bbox_inches='tight')\n",
    "plt.show();      # SVM are pretty good out of the box, confirmed!"
   ]
  },
  {
   "cell_type": "markdown",
   "id": "ddb3c0db",
   "metadata": {},
   "source": [
    "Optimize parameters with Cross Validation and GridSearchCV(). \\\n",
    "\\\n",
    "Optimizing an SVM is all about finding the best value for gamma, and, potentially; the regularization parameter C."
   ]
  },
  {
   "cell_type": "markdown",
   "id": "082d8bba",
   "metadata": {},
   "source": [
    "Since we have two parameters to optimize we will use GridSearchCV()."
   ]
  },
  {
   "cell_type": "code",
   "execution_count": null,
   "id": "97ef2475",
   "metadata": {},
   "outputs": [],
   "source": [
    "param_grid = [\n",
    "    {'C': [0.5, 1, 10, 100],   # C must be > 0 \n",
    "     'gamma': ['scale', 1, 0.1, 0.01, 0.001, 0.0001],\n",
    "     'kernel': ['rbf', 'linear']}\n",
    "]\n",
    "\n",
    "\n",
    "optimal_params = GridSearchCV(SVC(),\n",
    "                              param_grid,\n",
    "                              cv=10,\n",
    "                              scoring='accuracy',\n",
    "                              verbose=0, \n",
    "                              n_jobs=-1)\n",
    "\n",
    "optimal_params.fit(X_train_mc_minus1, y_train_mc_minus1)\n",
    "print(optimal_params.best_params_)"
   ]
  },
  {
   "cell_type": "markdown",
   "id": "9820de24",
   "metadata": {},
   "source": [
    "Build the final SVM with the optimized parameters"
   ]
  },
  {
   "cell_type": "code",
   "execution_count": null,
   "id": "6e799f0b",
   "metadata": {},
   "outputs": [],
   "source": [
    "clf_svm = SVC(random_state=42, C=10, gamma='scale', kernel='rbf')\n",
    "clf_svm.fit(X_depl_mc_minus1, y_depl_mc_minus1)"
   ]
  },
  {
   "cell_type": "markdown",
   "id": "0ba4a684",
   "metadata": {},
   "source": [
    "Performance on the VALIDATION SET"
   ]
  },
  {
   "cell_type": "code",
   "execution_count": null,
   "id": "71d6e9da",
   "metadata": {},
   "outputs": [],
   "source": [
    "ConfusionMatrixDisplay.from_estimator(clf_svm, X_valid_mc, y_valid_mc, values_format = 'd', display_labels=['Not susceptible', 'Susceptible'], cmap=plt.cm.Blues)\n",
    "#plt.savefig('D:/Allaus/Data_analysis/ML/cm_initial.png', dpi=300)\n",
    "#plt.savefig('D:/Allaus/Manuscript/pictures_and_figures/SVM - CM after optimization', dpi=300, bbox_inches='tight')\n",
    "plt.show();  "
   ]
  },
  {
   "cell_type": "code",
   "execution_count": null,
   "id": "b7942ae5",
   "metadata": {},
   "outputs": [],
   "source": [
    "ConfusionMatrixDisplay.from_estimator(clf_svm, X_test_mc_minus1, y_test_mc_minus1, values_format = 'd', display_labels=['Not susceptible', 'Susceptible'], cmap=plt.cm.Blues)\n",
    "#plt.savefig('D:/Allaus/Manuscript/pictures_and_figures/SVM - CM test', dpi=300, bbox_inches='tight')\n",
    "plt.show()  "
   ]
  },
  {
   "cell_type": "code",
   "execution_count": null,
   "id": "59133040",
   "metadata": {},
   "outputs": [],
   "source": [
    "score = np.mean(cross_val_score(clf_svm, X_test_mc_minus1, y_test_mc_minus1, scoring='accuracy', cv=10, n_jobs=-1))  \n",
    "score"
   ]
  },
  {
   "cell_type": "code",
   "execution_count": null,
   "id": "4fad1c0e",
   "metadata": {},
   "outputs": [],
   "source": [
    "y_pred = clf_svm.predict(X_test_mc)"
   ]
  },
  {
   "cell_type": "code",
   "execution_count": null,
   "id": "15484ee1",
   "metadata": {},
   "outputs": [],
   "source": [
    "print(metrics.classification_report(y_test_mc, y_pred))"
   ]
  },
  {
   "cell_type": "code",
   "execution_count": null,
   "id": "b4636c5e",
   "metadata": {},
   "outputs": [],
   "source": [
    "print(metrics.recall_score(y_test, y_pred, pos_label=1))"
   ]
  },
  {
   "cell_type": "markdown",
   "id": "55f38770",
   "metadata": {},
   "source": [
    "The last thing we are going to do is to draw a support vector machine decision boundary to see how to interprete it."
   ]
  },
  {
   "cell_type": "markdown",
   "id": "43a83478",
   "metadata": {},
   "source": [
    "**PCA (Principal Component Analysis)** \\\n",
    "\\\n",
    "We use PCA to combine the 35 features into 2 orthogonal meta-features that we can use as axes for a graph.\n",
    "To put it simply, it is a way to scrink a 35-dimensional graph into a 2-dimensional graph. "
   ]
  },
  {
   "cell_type": "code",
   "execution_count": null,
   "id": "ae459f8c",
   "metadata": {},
   "outputs": [],
   "source": [
    "# pca = PCA()  # By default, PCA() centers the data but does not scale it\n",
    "# X_train_pca = pca.fit_transform(X_train)\n",
    "\n",
    "# per_var = np.round(pca.explained_variance_ratio_* 100, decimals=1)\n",
    "# labels = [str(x) for x in range(1, len(per_var)+1)]\n",
    "\n",
    "# plt.bar(x=range(1, len(per_var)+1), height=per_var)\n",
    "# plt.tick_params(axis='x',\n",
    "#                 which='both',\n",
    "#                 bottom=False,\n",
    "#                 top=False,\n",
    "#                 labelbottom=False)\n",
    "# plt.ylabel('Percentage of explained variance')\n",
    "# plt.xlabel('Principal Components')\n",
    "# plt.title('Scree plot')\n",
    "# plt.show()"
   ]
  },
  {
   "cell_type": "markdown",
   "id": "85967d78",
   "metadata": {},
   "source": [
    "The bar plot shows that the first two components PC1 and PC2 account for a relatively large amount of variation in the raw data, and this means that they will be good candidates for the x and y axes in the 2-dimensional graph."
   ]
  },
  {
   "cell_type": "code",
   "execution_count": null,
   "id": "b4324991",
   "metadata": {},
   "outputs": [],
   "source": [
    "# train_pc1_coords = X_train_pca[:, 0]\n",
    "# train_pc2_coords = X_train_pca[:, 1]\n",
    "\n",
    "# pca_train_scaled = scale(np.column_stack((train_pc1_coords, train_pc2_coords)))\n",
    "\n",
    "# param_grid = [{'C': [0.5, 1, 10, 100],   # C must be > 0 \n",
    "#                'gamma': ['scale', 1, 0.1, 0.01, 0.001, 0.0001],\n",
    "#                'kernel': ['rbf', 'linear']}\n",
    "# ]\n",
    "\n",
    "\n",
    "# optimal_params = GridSearchCV(SVC(),\n",
    "#                               param_grid,\n",
    "#                               cv=10,\n",
    "#                               scoring='accuracy',\n",
    "#                               verbose=0)\n",
    "\n",
    "# optimal_params.fit(pca_train_scaled, y_train)\n",
    "# print(optimal_params.best_params_)"
   ]
  },
  {
   "cell_type": "code",
   "execution_count": null,
   "id": "b9c55808",
   "metadata": {},
   "outputs": [],
   "source": [
    "# clf_svm = SVC(random_state=42, C=100, gamma='scale', kernel='rbf')\n",
    "# clf_svm.fit(pca_train_scaled, y_train)\n",
    "\n",
    "# X_valid_pca = pca.transform(X_valid)\n",
    "\n",
    "# valid_pc1_coords = X_valid_pca[:, 0]\n",
    "# valid_pc2_coords = X_valid_pca[:, 1]\n",
    "\n",
    "# x_min = valid_pc1_coords.min() - 1\n",
    "# x_max = valid_pc1_coords.max() + 1\n",
    "\n",
    "# y_min = valid_pc2_coords.min() - 1\n",
    "# y_max = valid_pc2_coords.max() + 1\n",
    "\n",
    "# xx, yy = np.meshgrid(np.arange(start=x_min, stop=x_max, step=0.1),\n",
    "#                      np.arange(start=y_min, stop=y_max, step=0.1))\n",
    "\n",
    "# Z = clf_svm.predict(np.column_stack((xx.ravel(), yy.ravel())))\n",
    "# Z = Z.reshape(xx.shape)\n",
    "\n",
    "# fig, ax = plt.subplots(figsize=(10, 10))\n",
    "# ax.contourf(xx, yy, Z, alpha=0.1)\n",
    "\n",
    "# cmap = colors.ListedColormap(['#e41a1c', '#4daf4a'])\n",
    "\n",
    "# scatter = ax.scatter(valid_pc1_coords, valid_pc2_coords, c=y_valid,\n",
    "#                      cmap=cmap,\n",
    "#                      s=100,\n",
    "#                      edgecolors='k',  # k is black\n",
    "#                      alpha=0.7)\n",
    "\n",
    "# legend = ax.legend(scatter.legend_elements()[0],\n",
    "#                    scatter.legend_elements()[1],\n",
    "#                    loc='upper right')\n",
    "\n",
    "# ax.set_ylabel('PC2')\n",
    "# ax.set_xlabel('PC1')\n",
    "# ax.set_title('Decision surface using the PCA transformed/projected features')\n",
    "# plt.show()   # Doesn't look nice...Attempt not successful"
   ]
  },
  {
   "cell_type": "markdown",
   "id": "2b764791",
   "metadata": {},
   "source": [
    "### 8) Logistic Regression"
   ]
  },
  {
   "cell_type": "code",
   "execution_count": null,
   "id": "a1c89fd9",
   "metadata": {},
   "outputs": [],
   "source": [
    "from sklearn.linear_model import LogisticRegression"
   ]
  },
  {
   "cell_type": "code",
   "execution_count": null,
   "id": "f3d14ebd",
   "metadata": {},
   "outputs": [],
   "source": [
    "param_grid = [\n",
    "    {'C': [0.5, 1, 10, 100],   # C must be > 0 \n",
    "     'max_iter': [100, 500, 1000],\n",
    "     'solver': [\"lbfgs\", \"liblinear\", \"newton-cg\", \"newton-cholesky\"]}\n",
    "]\n",
    "\n",
    "optimal_params = GridSearchCV(LogisticRegression(),\n",
    "                              param_grid,\n",
    "                              cv=10,\n",
    "                              scoring='accuracy',\n",
    "                              verbose=0, \n",
    "                              n_jobs=-1)\n",
    "\n",
    "optimal_params.fit(X_train_mc_minus1, y_train_mc_minus1)\n",
    "print(optimal_params.best_params_)"
   ]
  },
  {
   "cell_type": "code",
   "execution_count": null,
   "id": "b140c4a9",
   "metadata": {},
   "outputs": [],
   "source": [
    "reg = LogisticRegression(solver='lbfgs', max_iter = 100, C=1, random_state=5)\n",
    "reg.fit(X_depl_mc_minus1, y_depl_mc_minus1)"
   ]
  },
  {
   "cell_type": "markdown",
   "id": "93b896ed",
   "metadata": {},
   "source": [
    "Training accuracy"
   ]
  },
  {
   "cell_type": "code",
   "execution_count": null,
   "id": "51e99462",
   "metadata": {},
   "outputs": [],
   "source": [
    "y_pred = reg.predict(X_train_mc)\n",
    "metrics.accuracy_score(y_train_mc, y_pred)"
   ]
  },
  {
   "cell_type": "markdown",
   "id": "8a7890a9",
   "metadata": {},
   "source": [
    "Validation accuracy"
   ]
  },
  {
   "cell_type": "code",
   "execution_count": null,
   "id": "6e050566",
   "metadata": {},
   "outputs": [],
   "source": [
    "ConfusionMatrixDisplay.from_estimator(reg, X_valid_mc, y_valid_mc, values_format = 'd', display_labels=['Not susceptible', 'Susceptible'], cmap=plt.cm.Blues)\n",
    "#plt.savefig('D:/Allaus/Data_analysis/ML/cm_initial.png', dpi=300)\n",
    "#plt.savefig('D:/Allaus/Manuscript/pictures_and_figures/log reg - CM', dpi=300, bbox_inches='tight')\n",
    "plt.show();  "
   ]
  },
  {
   "cell_type": "code",
   "execution_count": null,
   "id": "330510b7",
   "metadata": {},
   "outputs": [],
   "source": [
    "y_pred = reg.predict(X_valid_mc)\n",
    "metrics.accuracy_score(y_valid_mc, y_pred)"
   ]
  },
  {
   "cell_type": "code",
   "execution_count": null,
   "id": "06066087",
   "metadata": {},
   "outputs": [],
   "source": [
    "y_pred"
   ]
  },
  {
   "cell_type": "code",
   "execution_count": null,
   "id": "72d19088",
   "metadata": {},
   "outputs": [],
   "source": [
    "print(metrics.classification_report(y_valid_mc, y_pred))"
   ]
  },
  {
   "cell_type": "markdown",
   "id": "8d1554da",
   "metadata": {},
   "source": [
    "Testing accuracy"
   ]
  },
  {
   "cell_type": "code",
   "execution_count": null,
   "id": "6f7e6d96",
   "metadata": {},
   "outputs": [],
   "source": [
    "ConfusionMatrixDisplay.from_estimator(reg, X_test_mc_minus2, y_test_mc_minus2, values_format = 'd', display_labels=['Not susceptible', 'Susceptible'], cmap=plt.cm.Blues)\n",
    "#plt.savefig('D:/Allaus/Manuscript/pictures_and_figures/log reg - CM test', dpi=300, bbox_inches='tight')\n",
    "plt.show()  "
   ]
  },
  {
   "cell_type": "code",
   "execution_count": null,
   "id": "202dea7e",
   "metadata": {},
   "outputs": [],
   "source": [
    "y_pred = reg.predict(X_test_mc)\n",
    "metrics.accuracy_score(y_test_mc, y_pred)"
   ]
  },
  {
   "cell_type": "code",
   "execution_count": null,
   "id": "185d7452",
   "metadata": {},
   "outputs": [],
   "source": [
    "print(metrics.classification_report(y_test, y_pred))"
   ]
  },
  {
   "cell_type": "code",
   "execution_count": null,
   "id": "6aadbc4b",
   "metadata": {},
   "outputs": [],
   "source": [
    "score = np.mean(cross_val_score(reg, X_test_mc_minus1, y_test_mc_minus1, scoring='accuracy', cv=10, n_jobs=-1))  \n",
    "score"
   ]
  },
  {
   "cell_type": "markdown",
   "id": "35b9b8f2",
   "metadata": {},
   "source": [
    "### 9) Feedforward Neural Network"
   ]
  },
  {
   "cell_type": "code",
   "execution_count": null,
   "id": "57e05afc",
   "metadata": {},
   "outputs": [],
   "source": [
    "# tf.version.VERSION"
   ]
  },
  {
   "cell_type": "code",
   "execution_count": null,
   "id": "dfaeac55",
   "metadata": {},
   "outputs": [],
   "source": [
    "from tensorflow.keras.models import Sequential\n",
    "from tensorflow.keras.layers import Dense"
   ]
  },
  {
   "cell_type": "code",
   "execution_count": null,
   "id": "25c5c433",
   "metadata": {},
   "outputs": [],
   "source": [
    "len(X_train_nn.columns)"
   ]
  },
  {
   "cell_type": "code",
   "execution_count": null,
   "id": "1baf570e",
   "metadata": {},
   "outputs": [],
   "source": [
    "X_train_nn   "
   ]
  },
  {
   "cell_type": "markdown",
   "id": "ba96591a",
   "metadata": {},
   "source": [
    "Create the neural network"
   ]
  },
  {
   "cell_type": "code",
   "execution_count": null,
   "id": "9442f23a",
   "metadata": {},
   "outputs": [],
   "source": [
    "model = Sequential()\n",
    "model.add(Dense(64, input_dim = len(X_depl_nn.columns), activation = 'relu'))\n",
    "model.add(Dense(128, activation = 'relu'))\n",
    "model.add(Dense(1, activation = 'sigmoid'))\n",
    "print(model.summary())"
   ]
  },
  {
   "cell_type": "markdown",
   "id": "21fcd8c0",
   "metadata": {},
   "source": [
    "Compile the model"
   ]
  },
  {
   "cell_type": "markdown",
   "id": "e1b69bee",
   "metadata": {},
   "source": [
    "(It checks if there are any cycles in the sequential model)"
   ]
  },
  {
   "cell_type": "code",
   "execution_count": null,
   "id": "ec362ff5",
   "metadata": {},
   "outputs": [],
   "source": [
    "model.compile(loss='binary_crossentropy', optimizer='adam', metrics=['accuracy'])"
   ]
  },
  {
   "cell_type": "markdown",
   "id": "4d8b7dd7",
   "metadata": {},
   "source": [
    "Train the model"
   ]
  },
  {
   "cell_type": "markdown",
   "id": "ede3281f",
   "metadata": {},
   "source": [
    "- We feed X_train into the model and the model calculates errors using y_train.\n",
    "- In one epoch the model scans through all the rows in the X_train.\n",
    "- Updating the number of epochs usually increases the accuracy of the model, because the more often the model sees the entire dataset the more likely it is that it's going to get better.\n",
    "- To observe the accuracy on the validation data during the training, add validation_data = (X_valid, y_valid)."
   ]
  },
  {
   "cell_type": "code",
   "execution_count": null,
   "id": "f3f65425",
   "metadata": {},
   "outputs": [],
   "source": [
    "from keras.callbacks import EarlyStopping, ModelCheckpoint\n",
    "#callback_a = ModelCheckpoint(filepath = 'D:/Allaus/Code/my_best_NN.hdf5', monitor='val_loss', save_best_only=True, save_weights_only=True)\n",
    "callback_b = EarlyStopping(monitor='val_loss', min_delta=0.0002, verbose=1, start_from_epoch=70)"
   ]
  },
  {
   "cell_type": "code",
   "execution_count": null,
   "id": "741d26dd",
   "metadata": {},
   "outputs": [],
   "source": [
    "history = model.fit(X_train_nn_minus2, y_train_nn_minus2, validation_data=(X_valid_nn_minus2, y_valid_nn_minus2), epochs=256, batch_size=10, callbacks=[callback_a, callback_b])"
   ]
  },
  {
   "cell_type": "markdown",
   "id": "4dee7ceb",
   "metadata": {},
   "source": [
    "Check the learning curves"
   ]
  },
  {
   "cell_type": "code",
   "execution_count": null,
   "id": "d68d58f5",
   "metadata": {},
   "outputs": [],
   "source": [
    "print(history.params)"
   ]
  },
  {
   "cell_type": "code",
   "execution_count": null,
   "id": "579e1a45",
   "metadata": {},
   "outputs": [],
   "source": [
    "plt.plot(history.history['accuracy'])\n",
    "plt.plot(history.history['val_accuracy'])\n",
    "plt.ylabel('Accuracy')\n",
    "plt.xlabel('epoch')\n",
    "plt.legend(['training data', 'validation data'], loc='lower right')\n",
    "plt.show()"
   ]
  },
  {
   "cell_type": "code",
   "execution_count": null,
   "id": "4fe10c16",
   "metadata": {},
   "outputs": [],
   "source": [
    "model.load_weights('D:/Allaus/Code/my_best_NN.hdf5')"
   ]
  },
  {
   "cell_type": "markdown",
   "id": "5858b5d6",
   "metadata": {},
   "source": [
    "Evaluate the model on the TRAINING DATA\n",
    "Just to make sure that everything works fine, **the score otherwise is useless**."
   ]
  },
  {
   "cell_type": "code",
   "execution_count": null,
   "id": "23d494b2",
   "metadata": {},
   "outputs": [],
   "source": [
    "scores = model.evaluate(X_train_nn, y_train_nn)\n",
    "print(model.metrics_names)\n",
    "print(scores)\n",
    "print(\"\\n%s: %.2f%%\" % (model.metrics_names[1], scores[1]*100))"
   ]
  },
  {
   "cell_type": "markdown",
   "id": "c2394176",
   "metadata": {},
   "source": [
    "Evaluate the model on the VALIDATION DATA"
   ]
  },
  {
   "cell_type": "code",
   "execution_count": null,
   "id": "02bb5086",
   "metadata": {},
   "outputs": [],
   "source": [
    "scores = model.evaluate(X_valid_nn, y_valid_nn)\n",
    "print(\"\\n%s: %.2f%%\" % (model.metrics_names[1], scores[1]*100))"
   ]
  },
  {
   "cell_type": "code",
   "execution_count": null,
   "id": "afa736ff",
   "metadata": {},
   "outputs": [],
   "source": [
    "prediction = model.predict(X_valid_nn)"
   ]
  },
  {
   "cell_type": "code",
   "execution_count": null,
   "id": "e63c1fbd",
   "metadata": {},
   "outputs": [],
   "source": [
    "print(prediction[0:10].round())"
   ]
  },
  {
   "cell_type": "code",
   "execution_count": null,
   "id": "2980faf1",
   "metadata": {},
   "outputs": [],
   "source": [
    "print(y_valid[0:10])"
   ]
  },
  {
   "cell_type": "code",
   "execution_count": null,
   "id": "195ea792",
   "metadata": {},
   "outputs": [],
   "source": [
    "plt.plot(y_valid_nn, prediction, '.', alpha=0.3)\n",
    "plt.xlabel('True labels')\n",
    "plt.ylabel('Predicted confidence scores')\n",
    "plt.show()"
   ]
  },
  {
   "cell_type": "markdown",
   "id": "ee0b262f",
   "metadata": {},
   "source": [
    "Confusion matrix"
   ]
  },
  {
   "cell_type": "code",
   "execution_count": null,
   "id": "435ac93f",
   "metadata": {},
   "outputs": [],
   "source": [
    "ax = plt.subplot()\n",
    "\n",
    "cm = confusion_matrix(y_valid_nn, predict_results)\n",
    "\n",
    "sns.heatmap(cm, annot=True, fmt='d', ax = ax, cmap=plt.cm.Blues)\n",
    "\n",
    "ax.set_xlabel('Predicted labels')\n",
    "ax.set_ylabel('True labels')\n",
    "#ax.set_title('Confusion matrix')\n",
    "ax.xaxis.set_ticklabels(['Not susceptible', 'Susceptible'])\n",
    "ax.yaxis.set_ticklabels(['Not susceptible', 'Susceptible'])\n",
    "plt.savefig('D:/Allaus/Manuscript/pictures_and_figures/NN - CM', dpi=300, bbox_inches='tight')\n",
    "plt.show();"
   ]
  },
  {
   "cell_type": "code",
   "execution_count": null,
   "id": "4ef60402",
   "metadata": {},
   "outputs": [],
   "source": [
    "cm"
   ]
  },
  {
   "cell_type": "markdown",
   "id": "966fa234",
   "metadata": {},
   "source": [
    "Evaluate the model on the TEST DATA"
   ]
  },
  {
   "cell_type": "code",
   "execution_count": null,
   "id": "f2d0adad",
   "metadata": {},
   "outputs": [],
   "source": [
    "scores = model.evaluate(X_test_nn, y_test_nn)\n",
    "print(\"\\n%s: %.2f%%\" % (model.metrics_names[1], scores[1]*100))"
   ]
  },
  {
   "cell_type": "code",
   "execution_count": null,
   "id": "5e245b3d",
   "metadata": {},
   "outputs": [],
   "source": [
    "prediction = model.predict(X_test_nn)"
   ]
  },
  {
   "cell_type": "code",
   "execution_count": null,
   "id": "9fd4f8ff",
   "metadata": {},
   "outputs": [],
   "source": [
    "predict_results = (prediction > 0.5)\n",
    "#predict_results"
   ]
  },
  {
   "cell_type": "markdown",
   "id": "243668d6",
   "metadata": {},
   "source": [
    "Confusion matrix"
   ]
  },
  {
   "cell_type": "code",
   "execution_count": null,
   "id": "bb364559",
   "metadata": {},
   "outputs": [],
   "source": [
    "ax = plt.subplot()\n",
    "\n",
    "cm = confusion_matrix(y_test_nn, predict_results)\n",
    "\n",
    "sns.heatmap(cm, annot=True, fmt='d', ax = ax, cmap=plt.cm.Blues)\n",
    "\n",
    "ax.set_xlabel('Predicted labels')\n",
    "ax.set_ylabel('True labels')\n",
    "#ax.set_title('Confusion matrix')\n",
    "ax.xaxis.set_ticklabels(['Not susceptible', 'Susceptible'])\n",
    "ax.yaxis.set_ticklabels(['Not susceptible', 'Susceptible'])\n",
    "plt.savefig('D:/Allaus/Manuscript/pictures_and_figures/NN - CM test', dpi=300, bbox_inches='tight')\n",
    "plt.show();"
   ]
  },
  {
   "cell_type": "markdown",
   "id": "371bb8de",
   "metadata": {},
   "source": [
    "Cross validation"
   ]
  },
  {
   "cell_type": "code",
   "execution_count": null,
   "id": "7e67c0ec",
   "metadata": {},
   "outputs": [],
   "source": [
    "from tensorflow.keras.datasets import cifar10\n",
    "from tensorflow.keras.models import Sequential\n",
    "from tensorflow.keras.layers import Dense, Flatten, Conv2D, MaxPooling2D\n",
    "from tensorflow.keras.losses import sparse_categorical_crossentropy\n",
    "from tensorflow.keras.optimizers import Adam\n",
    "from sklearn.model_selection import KFold\n",
    "import numpy as np\n",
    "\n",
    "acc_per_fold = []\n",
    "loss_per_fold = []\n",
    "\n",
    "# Merge inputs and targets\n",
    "inputs = np.concatenate((X_depl_nn_minus2, X_test_nn_minus2), axis=0)\n",
    "targets = np.concatenate((y_depl_nn_minus2, y_test_nn_minus2), axis=0)\n",
    "\n",
    "# Define the K-fold Cross Validator\n",
    "kfold = KFold(n_splits=10, shuffle=True)\n",
    "\n",
    "# K-fold Cross Validation model evaluation\n",
    "fold_no = 1\n",
    "for train, test in kfold.split(inputs, targets):\n",
    "\n",
    "    # Define the model architecture\n",
    "    model = Sequential()\n",
    "    model.add(Dense(64, input_dim = len(X_depl_nn_minus2.columns), activation = 'relu'))\n",
    "    model.add(Dense(128, activation = 'relu'))\n",
    "    model.add(Dense(1, activation = 'sigmoid'))\n",
    "    print(model.summary())\n",
    "\n",
    "    # Compile the model\n",
    "    model.compile(loss='binary_crossentropy', optimizer='adam', metrics=['accuracy'])\n",
    "\n",
    "\n",
    "    # Generate a print\n",
    "    print('------------------------------------------------------------------------')\n",
    "    print(f'Training for fold {fold_no} ...')\n",
    "    \n",
    "    from keras.callbacks import EarlyStopping, ModelCheckpoint\n",
    "#     callback_a = ModelCheckpoint(filepath = 'D:/Allaus/Code/my_best_NN.hdf5', monitor='val_loss', save_best_only=True, save_weights_only=True)\n",
    "    callback_b = EarlyStopping(monitor='val_loss', min_delta=0.0002, verbose=1, start_from_epoch=70)\n",
    "\n",
    "\n",
    "    # Fit data to model\n",
    "    history = model.fit(inputs[train], targets[train], validation_data=(inputs[test], targets[test]), epochs=256, batch_size=10, callbacks=callback_b)\n",
    "\n",
    "\n",
    "    # Generate generalization metrics\n",
    "    scores = model.evaluate(inputs[test], targets[test], verbose=0)\n",
    "    print(f'Score for fold {fold_no}: {model.metrics_names[0]} of {scores[0]}; {model.metrics_names[1]} of {scores[1]*100}%')\n",
    "    acc_per_fold.append(scores[1] * 100)\n",
    "    loss_per_fold.append(scores[0])\n",
    "\n",
    "    # Increase fold number\n",
    "    fold_no = fold_no + 1"
   ]
  },
  {
   "cell_type": "code",
   "execution_count": null,
   "id": "c9aafd94",
   "metadata": {},
   "outputs": [],
   "source": [
    "acc_per_fold"
   ]
  },
  {
   "cell_type": "markdown",
   "id": "95f3596e",
   "metadata": {},
   "source": [
    "Other metrics"
   ]
  },
  {
   "cell_type": "code",
   "execution_count": null,
   "id": "592336ab",
   "metadata": {},
   "outputs": [],
   "source": [
    "from sklearn.metrics import accuracy_score, precision_score, recall_score, f1_score\n",
    "\n",
    "accuracy = accuracy_score(y_valid, prediction.round())\n",
    "precision = precision_score(y_valid, prediction .round(), pos_label=1)\n",
    "recall = recall_score(y_valid, prediction.round(), pos_label=1)\n",
    "f1score = f1_score(y_valid, prediction.round())\n",
    "print(\"Accuracy: %.2f%%\" % (accuracy*100.0))\n",
    "print(\"Precision: %.2f%%\" % (precision*100.0))\n",
    "print(\"Recall: %.2f%%\" % (recall*100.0))\n",
    "print(\"F1-score: %.2f%%\" % (f1score*100.0))"
   ]
  },
  {
   "cell_type": "markdown",
   "id": "3f277b77",
   "metadata": {},
   "source": [
    "**How can the performance be improved?**"
   ]
  },
  {
   "cell_type": "markdown",
   "id": "17b293db",
   "metadata": {},
   "source": [
    "- Increase number of epochs.\n",
    "- Add more layers into the neural network.\n",
    "- Balance the data (in our case it is not really an issue).\n",
    "- Increase/decrease the number of rows in the training/validation set."
   ]
  },
  {
   "cell_type": "markdown",
   "id": "368bea24",
   "metadata": {},
   "source": [
    "## Compare models using heatmaps"
   ]
  },
  {
   "cell_type": "code",
   "execution_count": null,
   "id": "db6482c2",
   "metadata": {},
   "outputs": [],
   "source": [
    "# Model evaluation\n",
    "\n",
    "def evaluate(model, X_test, y_test, X_test_mc, y_test_mc, X_test_nn, y_test_nn, name):\n",
    "    \n",
    "    ypred=model.predict(xtest)  \n",
    "\n",
    "    accuracy=np.round(balanced_accuracy_score(ytest,ypred),4)\n",
    "    \n",
    "    precision=np.round(precision_score(ytest,ypred,average = 'weighted'),4)\n",
    "\n",
    "    recall=np.round(recall_score(ytest,ypred,average = 'weighted'),4)\n",
    "    \n",
    "    f1score=np.round(f1_score(ytest,ypred,average = 'weighted'),4)\n",
    "    \n",
    "#     cohenkappa_score=np.round(cohen_kappa_score(ytest,ypred),4)\n",
    " \n",
    "#     matthews_corrcoef_=np.round(matthews_corrcoef(ytest,ypred),4)\n",
    "    \n",
    "    roc_auc = np.round(roc_auc_score(ytest, ypred), 4)\n",
    "    \n",
    "    return accuracy,precision,recall,f1score,roc_auc"
   ]
  },
  {
   "cell_type": "code",
   "execution_count": null,
   "id": "f4d48bbb",
   "metadata": {},
   "outputs": [],
   "source": [
    "# Model fitting\n",
    "\n",
    "def fit_data(X_depl, y_depl, X_test, y_test, X_depl_mc, y_depl_mc, X_test_mc, y_test_mc, X_depl_nn, y_depl_nn, X_test_nn, y_test_nn):\n",
    "    \n",
    "    # 1) Decision Tree\n",
    "    clf_dt_pruned = DecisionTreeClassifier(random_state=42, ccp_alpha = 0.014) \n",
    "    clf_dt_pruned = clf_dt_pruned.fit(X_depl, y_depl)\n",
    "    \n",
    "    # 2) Random Forest Classifier\n",
    "    clf_rf = RandomForestClassifier(criterion='entropy', max_depth=7, min_samples_split=4, n_estimators=139,\n",
    "                       n_jobs=-1, random_state=42)\n",
    "    clf_rf.fit(X_depl, y_depl)\n",
    "        \n",
    "    # 4) AdaBoost Classifier\n",
    "    ada = AdaBoostClassifier(learning_rate=0.5, n_estimators=425, random_state=42)\n",
    "    ada.fit(X_depl, y_depl)\n",
    "\n",
    "    # 5) Gradient Boost\n",
    "    GBC = GradientBoostingClassifier(max_depth=5, learning_rate=0.1, subsample=0.75, random_state=1, n_estimators=500)\n",
    "    GBC.fit(X_depl, y_depl)\n",
    "    \n",
    "    # 6) XGBoost Classifier\n",
    "    clf_xgb = xgb.XGBClassifier(objective='binary:logistic', \n",
    "                                seed=42, \n",
    "                                #early_stopping_rounds=10, \n",
    "                                #eval_metric='aucpr', \n",
    "                                gamma=0, \n",
    "                                learning_rate=0.3, \n",
    "                                max_depth=3, \n",
    "                                reg_lambda=1, \n",
    "                                scale_pos_weight=1,\n",
    "                                #subsample=0.9, \n",
    "                                #colsample_bytree=0.5\n",
    "                               )\n",
    "\n",
    "    clf_xgb.fit(X_depl, \n",
    "                y_depl,\n",
    "                verbose=True)#,\n",
    "                #eval_set=[(X_test, y_test)])\n",
    "        \n",
    "    # SVM\n",
    "    clf_svm = SVC(random_state=42, C=100, gamma=0.01, kernel='rbf')\n",
    "    clf_svm.fit(X_depl_mc, y_depl_mc)\n",
    "    \n",
    "    # Logistic Regression\n",
    "    reg = LogisticRegression(solver='lbfgs', max_iter = 100, C=1, random_state=5)\n",
    "    reg.fit(X_depl_mc, y_depl_mc)\n",
    "    \n",
    "    # NN\n",
    "    model.fit(X_depl_nn, y_depl_nn, epochs=256, batch_size=10)\n",
    "\n",
    "\n",
    "    # this list will be used to store the scores for all classifiers\n",
    "    performance_list=[]\n",
    "\n",
    "    # performance metrics to be used for evaluating the classifiers\n",
    "    performance_metrics=['Accuracy','Precision','Recall','F1 score', 'AUC score']\n",
    "    \n",
    "    indices=[]\n",
    "\n",
    "    # create a dictionary object to store the models\n",
    "    model_dict={'Decision Tree': clf_dt_pruned,'Random Forest': clf_rf, 'AdaBoost': ada, \n",
    "                'Gradient Boosting': GBC, 'XGBoost': clf_xgb, 'SVM': clf_svm, 'Logistic Regression': reg, \n",
    "                'Neural Network': model}\n",
    "\n",
    "    # evaluate the each model stored in the dictionary object\n",
    "    for name, model in model_dict.items():\n",
    "        performance = evaluate(model, X_valid, y_valid, name)\n",
    "        performance_list.append(performance)\n",
    "        indices.append(name)\n",
    "        \n",
    "    performance_frame=pd.DataFrame(performance_list,columns=performance_metrics,index=indices)\n",
    "    return performance_frame"
   ]
  },
  {
   "cell_type": "code",
   "execution_count": null,
   "id": "308261e7",
   "metadata": {},
   "outputs": [],
   "source": [
    "X_train.shape, X_valid.shape, X_test.shape"
   ]
  },
  {
   "cell_type": "code",
   "execution_count": null,
   "id": "34a76269",
   "metadata": {},
   "outputs": [],
   "source": [
    "# Fit the models to the training data and evaluate the models\n",
    "# This is done by calling the functions created in the previous step\n",
    "# The result is assigned to a variable\n",
    "\n",
    "# Here I use directly the training set for evaluating the performance\n",
    "\n",
    "result=fit_data(X_train, y_train, X_test, y_test)"
   ]
  },
  {
   "cell_type": "code",
   "execution_count": null,
   "id": "572bcaa4",
   "metadata": {},
   "outputs": [],
   "source": [
    "# get classifiers with f1score greater or equal to 0.9\n",
    "\n",
    "result[result['Recall']>=0.9]"
   ]
  },
  {
   "cell_type": "code",
   "execution_count": null,
   "id": "cd009b1c",
   "metadata": {},
   "outputs": [],
   "source": [
    "# use seaborn to generate heatmap using the result from the previous step\n",
    "\n",
    "plt.rcParams['figure.constrained_layout.use'] = True\n",
    "\n",
    "sns.heatmap(result,annot=True,cmap='Blues')\n",
    "plt.xlabel('Metric')\n",
    "plt.ylabel('Classifiers')\n",
    "plt.xticks(rotation=45)\n",
    "plt.show()"
   ]
  },
  {
   "cell_type": "markdown",
   "id": "d8b0ed73",
   "metadata": {},
   "source": [
    "## Compare models using ROC curves"
   ]
  },
  {
   "cell_type": "code",
   "execution_count": null,
   "id": "c0cb61fd",
   "metadata": {},
   "outputs": [],
   "source": [
    "# Decision Tree\n",
    "clf_dt_pruned = DecisionTreeClassifier(random_state=42, ccp_alpha = 0.014) \n",
    "clf_dt_pruned = clf_dt_pruned.fit(X_depl, y_depl)"
   ]
  },
  {
   "cell_type": "code",
   "execution_count": null,
   "id": "ffc28a63",
   "metadata": {},
   "outputs": [],
   "source": [
    "# Random Forest Classifier\n",
    "clf_rf = RandomForestClassifier(criterion='entropy', max_depth=7, min_samples_split=4, n_estimators=139,\n",
    "                       n_jobs=-1, random_state=42)\n",
    "clf_rf.fit(X_depl, y_depl)"
   ]
  },
  {
   "cell_type": "code",
   "execution_count": null,
   "id": "abb1b2f8",
   "metadata": {},
   "outputs": [],
   "source": [
    "# AdaBoost Classifier\n",
    "ada = AdaBoostClassifier(learning_rate=0.5, n_estimators=425, random_state=42)\n",
    "ada.fit(X_depl, y_depl)"
   ]
  },
  {
   "cell_type": "code",
   "execution_count": null,
   "id": "f127c3a6",
   "metadata": {},
   "outputs": [],
   "source": [
    "# Gradient Boost\n",
    "GBC = GradientBoostingClassifier(max_depth=5, learning_rate=0.1, subsample=0.75, random_state=1, n_estimators=500)\n",
    "GBC.fit(X_depl, y_depl)"
   ]
  },
  {
   "cell_type": "code",
   "execution_count": null,
   "id": "a420f263",
   "metadata": {},
   "outputs": [],
   "source": [
    "# XGBoost Classifier\n",
    "clf_xgb = xgb.XGBClassifier(objective='binary:logistic', \n",
    "                            seed=42, \n",
    "                            #early_stopping_rounds=10, \n",
    "                            #eval_metric='aucpr', \n",
    "                            gamma=0, \n",
    "                            learning_rate=0.3, \n",
    "                            max_depth=3, \n",
    "                            reg_lambda=1, \n",
    "                            scale_pos_weight=1,\n",
    "                            #subsample=0.9, \n",
    "                            #colsample_bytree=0.5\n",
    "                           )\n",
    "\n",
    "clf_xgb.fit(X_depl, \n",
    "            y_depl,\n",
    "            verbose=True)#,\n",
    "            #eval_set=[(X_test, y_test)])"
   ]
  },
  {
   "cell_type": "code",
   "execution_count": null,
   "id": "cfa31797",
   "metadata": {},
   "outputs": [],
   "source": [
    "# SVM\n",
    "clf_svm = SVC(random_state=42, C=100, gamma=0.01, kernel='rbf')\n",
    "clf_svm.fit(X_depl_mc, y_depl_mc)"
   ]
  },
  {
   "cell_type": "code",
   "execution_count": null,
   "id": "de97d8c1",
   "metadata": {},
   "outputs": [],
   "source": [
    "# Logistic Regression\n",
    "reg = LogisticRegression(solver='lbfgs', max_iter = 100, C=1, random_state=5)\n",
    "reg.fit(X_depl_mc, y_depl_mc)"
   ]
  },
  {
   "cell_type": "code",
   "execution_count": null,
   "id": "ec1c731d",
   "metadata": {},
   "outputs": [],
   "source": [
    "# NN\n",
    "history = model.fit(X_depl_nn, y_depl_nn, validation_data=(X_test_nn, y_test_nn), epochs=256, batch_size=10, callbacks=callback_b)\n"
   ]
  },
  {
   "cell_type": "markdown",
   "id": "1cab2c7a",
   "metadata": {},
   "source": [
    "Plot ROC Curve for each classifier\n"
   ]
  },
  {
   "cell_type": "code",
   "execution_count": null,
   "id": "2d93f658",
   "metadata": {},
   "outputs": [],
   "source": [
    "# def plot_roc(xtest,ytest,models):\n",
    "    \n",
    "#     #models object should be a dictionary comprising of name of model and the model object\n",
    "#     for name,model in models.items():\n",
    "\n",
    "#         if hasattr(model,'decision_function'):\n",
    "#             probs=model.decision_function(xtest) \n",
    "#         elif hasattr(model,'predict_proba'):\n",
    "#             probs=model.predict_proba(xtest) [:,1]\n",
    "#         fpr,tpr,threshold=roc_curve(ytest,probs)\n",
    "#         roc_auc=auc(fpr,tpr)\n",
    "#         print('ROC AUC=%0.2f'%roc_auc)\n",
    "#         plt.plot(fpr,tpr,label='%s (AUC=%0.2f)'%(name,roc_auc))\n",
    "        \n",
    "#     plt.legend(loc='lower right')\n",
    "#     plt.plot([0,1],[0,1],'b--')\n",
    "#     plt.xlim([0,1])\n",
    "#     plt.ylim([0,1.05])\n",
    "#     plt.xlabel('False Positive Rate')\n",
    "#     plt.ylabel('True Positive Rate')\n",
    "#     plt.show()"
   ]
  },
  {
   "cell_type": "code",
   "execution_count": null,
   "id": "b034e6d2",
   "metadata": {},
   "outputs": [],
   "source": [
    "def plot_roc(X_test, y_test, X_test_mc, y_test_mc, X_test_nn, y_test_nn, models):\n",
    "    \n",
    "    #models object should be a dictionary comprising of name of model and the model object\n",
    "    for name,model in models.items():\n",
    "\n",
    "        if (name == 'Logistic Regression') or (name == 'SVM'):\n",
    "            probs = model.predict(X_test_mc)\n",
    "        elif name == 'Neural Network':\n",
    "            probs = model.predict(X_test_nn)\n",
    "        else:\n",
    "            probs = model.predict(X_test)\n",
    "            \n",
    "        if (name == 'Logistic Regression') or (name == 'SVM'):\n",
    "            fpr,tpr,threshold=roc_curve(y_test_mc,probs)\n",
    "        elif name == 'Neural Network':\n",
    "            fpr,tpr,threshold=roc_curve(y_test_nn,probs)\n",
    "        else:\n",
    "            fpr,tpr,threshold=roc_curve(y_test,probs)\n",
    "\n",
    "        roc_auc=auc(fpr,tpr)\n",
    "        print('ROC AUC=%0.2f'%roc_auc)\n",
    "        plt.plot(fpr,tpr,label='%s (AUC=%0.2f)'%(name,roc_auc))\n",
    "        \n",
    "    plt.legend(loc='lower right')\n",
    "    plt.plot([0,1],[0,1],'b--')\n",
    "    plt.xlim([0,1])\n",
    "    plt.ylim([0,1.05])\n",
    "    plt.xlabel('False Positive Rate')\n",
    "    plt.ylabel('True Positive Rate')\n",
    "    plt.show()"
   ]
  },
  {
   "cell_type": "markdown",
   "id": "9e76528a",
   "metadata": {},
   "source": [
    "Based on VALIDATION"
   ]
  },
  {
   "cell_type": "code",
   "execution_count": null,
   "id": "f544ff28",
   "metadata": {},
   "outputs": [],
   "source": [
    "models={'Decision Tree': clf_dt_pruned,'Random Forest': clf_rf, 'AdaBoost': ada, \n",
    "        'Gradient Boost': GBC, 'XGBoost': clf_xgb, 'SVM': clf_svm, 'Logistic Regression': reg, \n",
    "        'Neural Network': model}\n",
    "plot_roc(X_test, y_test, X_test_mc, y_test_mc, X_test_nn, y_test_nn, models) \n",
    "\n",
    "# the steepness of the roc curve also helps us get the performance\n",
    "# apart from the auc that is plotted in the graph"
   ]
  },
  {
   "cell_type": "markdown",
   "id": "82de45c2",
   "metadata": {},
   "source": [
    "Based on TEST"
   ]
  },
  {
   "cell_type": "code",
   "execution_count": null,
   "id": "a2d26d8a",
   "metadata": {
    "scrolled": false
   },
   "outputs": [],
   "source": [
    "models={'Decision Tree': clf_dt_pruned,'Random Forest': clf_rf, 'AdaBoost': ada, \n",
    "        'Gradient Boost': GBC, 'XGBoost': clf_xgb}\n",
    "plot_roc(X_test, y_test, models) "
   ]
  }
 ],
 "metadata": {
  "kernelspec": {
   "display_name": "Python 3",
   "language": "python",
   "name": "python3"
  },
  "language_info": {
   "codemirror_mode": {
    "name": "ipython",
    "version": 3
   },
   "file_extension": ".py",
   "mimetype": "text/x-python",
   "name": "python",
   "nbconvert_exporter": "python",
   "pygments_lexer": "ipython3",
   "version": "3.8.5"
  }
 },
 "nbformat": 4,
 "nbformat_minor": 5
}
