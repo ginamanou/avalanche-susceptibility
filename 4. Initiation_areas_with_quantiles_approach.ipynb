{
 "cells": [
  {
   "cell_type": "markdown",
   "id": "27c0a54a",
   "metadata": {},
   "source": [
    "## Introduction\n",
    "\n",
    "This notebook demonstrates a methodology of identifying avalanche initiation areas, i.e. the method uses as import the scar of each avalanche from a historical record and tries to identify the higher 20% of this scar and define it as the initiation area.\n",
    "\n",
    "The statistics of elevation of each shape imported to the dataframe (e.g. count, mean min, etc.) were acquired from Zonal Statistics in QGIS from the avalanche polygons to the DEM.\n",
    "\n",
    "[![Open In Colab](https://colab.research.google.com/assets/colab-badge.svg)](https://colab.research.google.com/github/ginamanou/avalanche-susceptibility/blob/main/4.%20Initiation_areas_with_quantiles_approach.ipynb)"
   ]
  },
  {
   "cell_type": "markdown",
   "id": "6171fb0b",
   "metadata": {},
   "source": [
    "## Methodology"
   ]
  },
  {
   "cell_type": "code",
   "execution_count": null,
   "id": "245350ea",
   "metadata": {},
   "outputs": [],
   "source": [
    "# Import packages \n",
    "import numpy as np\n",
    "import pandas as pd\n",
    "import seaborn as sns\n",
    "import plotly.express as px\n",
    "import matplotlib.pyplot as plt\n",
    "from matplotlib.ticker import StrMethodFormatter\n",
    "\n",
    "import plotly.graph_objects as go\n",
    "from shapely.geometry import Point"
   ]
  },
  {
   "cell_type": "code",
   "execution_count": null,
   "id": "9de4eecc",
   "metadata": {
    "collapsed": true
   },
   "outputs": [],
   "source": [
    "path = \"D:/Allaus/Code/cont10_pez_sin.csv\"\n",
    "df = pd.read_csv(path)\n",
    "df"
   ]
  },
  {
   "cell_type": "code",
   "execution_count": null,
   "id": "2ac7f686",
   "metadata": {},
   "outputs": [],
   "source": [
    "df1 = df.copy()"
   ]
  },
  {
   "cell_type": "code",
   "execution_count": null,
   "id": "beb0faec",
   "metadata": {},
   "outputs": [],
   "source": [
    "df1.shape"
   ]
  },
  {
   "cell_type": "code",
   "execution_count": null,
   "id": "c326b74b",
   "metadata": {
    "collapsed": true
   },
   "outputs": [],
   "source": [
    "df1.dtypes"
   ]
  },
  {
   "cell_type": "code",
   "execution_count": null,
   "id": "364b4231",
   "metadata": {
    "collapsed": true
   },
   "outputs": [],
   "source": [
    "df1.columns"
   ]
  },
  {
   "cell_type": "code",
   "execution_count": null,
   "id": "63c0746d",
   "metadata": {
    "collapsed": true
   },
   "outputs": [],
   "source": [
    "df1 = df1.drop(columns=['fid', 'x_cont', 'y_cont', 'x', 'y'])\n",
    "df1"
   ]
  },
  {
   "cell_type": "code",
   "execution_count": null,
   "id": "3e88ccc5",
   "metadata": {
    "collapsed": true
   },
   "outputs": [],
   "source": [
    "df1 = df1.rename(columns = {'ELEV': 'elevation', 'CODI_DEL_L': 'code', 'area_calc': 'area', \n",
    "                            'Xcode_cont': 'x', 'Ycode_cont': 'y'})\n",
    "df1"
   ]
  },
  {
   "cell_type": "code",
   "execution_count": null,
   "id": "819eee26",
   "metadata": {
    "collapsed": true
   },
   "outputs": [],
   "source": [
    "df1.describe()"
   ]
  },
  {
   "cell_type": "code",
   "execution_count": null,
   "id": "03430856",
   "metadata": {
    "collapsed": true
   },
   "outputs": [],
   "source": [
    "df1.hist(column='elevation')\n",
    "plt.show()"
   ]
  },
  {
   "cell_type": "code",
   "execution_count": null,
   "id": "42dc5363",
   "metadata": {},
   "outputs": [],
   "source": [
    "code_names = list(df1['code'].unique())   \n",
    "len(code_names)  "
   ]
  },
  {
   "cell_type": "code",
   "execution_count": null,
   "id": "39e732d2",
   "metadata": {
    "collapsed": true
   },
   "outputs": [],
   "source": [
    "# see = df1[~df1.code.isin(code_names)]\n",
    "# see"
   ]
  },
  {
   "cell_type": "code",
   "execution_count": null,
   "id": "8a203342",
   "metadata": {
    "collapsed": true
   },
   "outputs": [],
   "source": [
    "quantiles = pd.DataFrame(df1.groupby(['code'])['elevation'].quantile(q=0.80)).reset_index()\n",
    "quantiles"
   ]
  },
  {
   "cell_type": "code",
   "execution_count": null,
   "id": "02690f2a",
   "metadata": {
    "collapsed": true
   },
   "outputs": [],
   "source": [
    "quantiles = quantiles.rename(columns = {'elevation': 'quant80'})\n",
    "quantiles"
   ]
  },
  {
   "cell_type": "code",
   "execution_count": null,
   "id": "ac2857ea",
   "metadata": {
    "collapsed": true
   },
   "outputs": [],
   "source": [
    "ascend = df1.sort_values(by='code', ignore_index=True)\n",
    "ascend"
   ]
  },
  {
   "cell_type": "code",
   "execution_count": null,
   "id": "f642d2e8",
   "metadata": {
    "collapsed": true
   },
   "outputs": [],
   "source": [
    "tot = pd.merge(ascend, quantiles, how='outer', on='code')\n",
    "tot"
   ]
  },
  {
   "cell_type": "code",
   "execution_count": null,
   "id": "dd523ac6",
   "metadata": {
    "collapsed": true
   },
   "outputs": [],
   "source": [
    "tot.loc[tot['elevation'] >= tot['quant80'], 'keepornot'] = 1\n",
    "tot.loc[tot['elevation'] < tot['quant80'], 'keepornot'] = 0\n",
    "tot"
   ]
  },
  {
   "cell_type": "code",
   "execution_count": null,
   "id": "4b697b6e",
   "metadata": {
    "collapsed": true
   },
   "outputs": [],
   "source": [
    "new = tot.loc[tot['keepornot'] == 1]\n",
    "new"
   ]
  },
  {
   "cell_type": "code",
   "execution_count": null,
   "id": "b21ab8a8",
   "metadata": {
    "collapsed": true
   },
   "outputs": [],
   "source": [
    "print(len(list(new['code'].unique())))     # check"
   ]
  },
  {
   "cell_type": "code",
   "execution_count": null,
   "id": "357abfc1",
   "metadata": {
    "collapsed": true
   },
   "outputs": [],
   "source": [
    "last = pd.DataFrame(new.groupby(['code'])['elevation'].min()).reset_index()\n",
    "last"
   ]
  },
  {
   "cell_type": "code",
   "execution_count": null,
   "id": "bade98bc",
   "metadata": {
    "collapsed": true
   },
   "outputs": [],
   "source": [
    "last.rename(columns={'elevation': 'elevation_min'}, inplace=True)\n",
    "last"
   ]
  },
  {
   "cell_type": "code",
   "execution_count": null,
   "id": "44d60212",
   "metadata": {
    "collapsed": true
   },
   "outputs": [],
   "source": [
    "tot2 = pd.merge(new, last, how='outer', on='code')\n",
    "tot2"
   ]
  },
  {
   "cell_type": "code",
   "execution_count": null,
   "id": "34080427",
   "metadata": {
    "collapsed": true
   },
   "outputs": [],
   "source": [
    "tot2.loc[tot2['elevation'] == tot2['elevation_min'], 'onezero'] = 1\n",
    "tot2.loc[tot2['elevation'] != tot2['elevation_min'], 'onezero'] = 0\n",
    "tot2"
   ]
  },
  {
   "cell_type": "code",
   "execution_count": null,
   "id": "774f23c2",
   "metadata": {
    "collapsed": true
   },
   "outputs": [],
   "source": [
    "new2 = tot2.loc[tot2['onezero'] == 1]  # length > unique values, because of repeated intersections of contours in one polygon\n",
    "new2"
   ]
  },
  {
   "cell_type": "code",
   "execution_count": null,
   "id": "915b17dc",
   "metadata": {
    "collapsed": true
   },
   "outputs": [],
   "source": [
    "print(len(list(new2['code'].unique())))   # good"
   ]
  },
  {
   "cell_type": "code",
   "execution_count": null,
   "id": "c1a89325",
   "metadata": {},
   "outputs": [],
   "source": [
    "duplicateRows = new2[new2.duplicated(['code'])]"
   ]
  },
  {
   "cell_type": "code",
   "execution_count": null,
   "id": "b47ef500",
   "metadata": {
    "collapsed": true
   },
   "outputs": [],
   "source": [
    "print(duplicateRows)"
   ]
  },
  {
   "cell_type": "code",
   "execution_count": null,
   "id": "908676cd",
   "metadata": {},
   "outputs": [],
   "source": [
    "# Let's export it and pass it to QGIS\n",
    "\n",
    "new2.to_csv(\"D:/Allaus/Code/points_pez_sin.csv\")"
   ]
  }
 ],
 "metadata": {
  "kernelspec": {
   "display_name": "Python 3",
   "language": "python",
   "name": "python3"
  },
  "language_info": {
   "codemirror_mode": {
    "name": "ipython",
    "version": 3
   },
   "file_extension": ".py",
   "mimetype": "text/x-python",
   "name": "python",
   "nbconvert_exporter": "python",
   "pygments_lexer": "ipython3",
   "version": "3.8.5"
  }
 },
 "nbformat": 4,
 "nbformat_minor": 5
}
